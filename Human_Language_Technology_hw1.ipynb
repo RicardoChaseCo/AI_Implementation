{
 "cells": [
  {
   "cell_type": "markdown",
   "metadata": {
    "id": "eLm_JxCxrkIE",
    "pycharm": {
     "name": "#%% md\n"
    }
   },
   "source": [
    "# Assignment 1\n",
    "\n",
    "In the first assignment, you will implement some of the algorithms you have learnt in the first two weeks of lectures: n-gram language models, and syntactic parsing using the CYK algorithm. \n",
    "\n",
    "# Setup\n",
    "\n",
    "For this and other assignments, we will be using Google Colab, for both code as well as descriptive questions. Your task is to finish all the questions in the Colab notebook and then upload a PDF version of the notebook, and a viewable link on Gradescope.\n",
    "\n",
    "### Google colaboratory\n",
    "\n",
    "Before getting started, get familiar with google colaboratory:\n",
    "https://colab.research.google.com/notebooks/welcome.ipynb\n",
    "\n",
    "This is a neat python environment that works in the cloud and does not require you to\n",
    "set up anything on your personal machine\n",
    "(it also has some built-in IDE features that make writing code easier).\n",
    "Moreover, it allows you to copy any existing collaboratory file, alter it and share\n",
    "with other people.\n",
    "\n",
    "### Submission\n",
    "\n",
    "Before you start working on this homework do the following steps:\n",
    "\n",
    "1. Press __File > Save a copy in Drive...__ tab. This will allow you to have your own copy and change it.\n",
    "2. Follow all the steps in this collaboratory file and write / change / uncomment code as necessary.\n",
    "3. Do not forget to occasionally press __File > Save__ tab to save your progress.\n",
    "4. After all the changes are done and progress is saved press __Share__ button (top right corner of the page), press __get shareable link__ and make sure you have the option __Anyone with the link can view__ selected. Copy the link and paste it in the box below.\n",
    "5. After completing the notebook, press __File > Download .ipynb__ to download a local copy on your computer, and then upload the file to Gradescope.\n",
    "\n",
    "\n",
    "__Paste your notebook link in the box below.__ _(0 points)_"
   ]
  },
  {
   "cell_type": "markdown",
   "metadata": {
    "id": "inEvaul0l3GR"
   },
   "source": [
    "\n",
    "\n",
    "```\n",
    "# Paste your Colab notebook link here\n",
    "\n",
    "\n",
    "https://colab.research.google.com/drive/1YKZ0oRDTfpFaSk-tF0pPT6tGfQRLVoqa?usp=sharing\n",
    "\n",
    "https://colab.research.google.com/drive/1YKZ0oRDTfpFaSk-tF0pPT6tGfQRLVoqa?usp=sharing\n",
    "```\n",
    "\n"
   ]
  },
  {
   "cell_type": "code",
   "execution_count": 12,
   "metadata": {
    "colab": {
     "base_uri": "https://localhost:8080/"
    },
    "id": "51H53CHOl3GR",
    "outputId": "1920f7e4-fd43-495c-9ff3-69453ae0fc48",
    "scrolled": true
   },
   "outputs": [
    {
     "name": "stdout",
     "output_type": "stream",
     "text": [
      "--2022-10-04 15:46:10--  https://github.com/jhu-intro-hlt/jhu-intro-hlt.github.io/raw/master/assignments/hw1-files/student/required_files.zip\n",
      "Resolving github.com (github.com)... 140.82.114.3\n",
      "Connecting to github.com (github.com)|140.82.114.3|:443... connected.\n",
      "HTTP request sent, awaiting response... 302 Found\n",
      "Location: https://raw.githubusercontent.com/jhu-intro-hlt/jhu-intro-hlt.github.io/master/assignments/hw1-files/student/required_files.zip [following]\n",
      "--2022-10-04 15:46:11--  https://raw.githubusercontent.com/jhu-intro-hlt/jhu-intro-hlt.github.io/master/assignments/hw1-files/student/required_files.zip\n",
      "Resolving raw.githubusercontent.com (raw.githubusercontent.com)... 185.199.109.133, 185.199.110.133, 185.199.111.133, ...\n",
      "Connecting to raw.githubusercontent.com (raw.githubusercontent.com)|185.199.109.133|:443... connected.\n",
      "HTTP request sent, awaiting response... 200 OK\n",
      "Length: 10601 (10K) [application/zip]\n",
      "Saving to: 'required_files.zip'\n",
      "\n",
      "required_files.zip  100%[===================>]  10.35K  --.-KB/s    in 0.001s  \n",
      "\n",
      "2022-10-04 15:46:11 (18.1 MB/s) - 'required_files.zip' saved [10601/10601]\n",
      "\n",
      "Archive:  required_files.zip\n",
      "  inflating: requirements.txt        \n",
      "  inflating: tests/cfg-iscnf.py      \n",
      "  inflating: tests/cfg-tocnf.py      \n",
      "  inflating: tests/cyk-impl.py       \n",
      "  inflating: tests/ngramlm-corpus-size.py  \n",
      "  inflating: tests/ngramlm-empirical-distribution.py  \n",
      "  inflating: tests/ngramlm-impl.py   \n",
      "  inflating: tests/ngramlm-improvement-impl.py  \n",
      "  inflating: tests/ngramlm-laplace-smoothing-impl.py  \n",
      "  inflating: tests/ngramlm-laplace-smoothing-perp.py  \n",
      "  inflating: tests/ngramlm-perp-impl.py  \n",
      "  inflating: tests/ngramlm-quad-perp-on-training.py  \n",
      "  inflating: tests/ngramlm-tri-perp-on-dev.py  \n",
      "  inflating: tests/ngramlm-tri-perp-on-training.py  \n",
      "  inflating: tests/ngramlm-vocab-size.py  \n",
      "  inflating: tests/warmup-ngram.py   \n",
      "Requirement already satisfied: datascience in /Users/jiangxingnandecomputer/opt/anaconda3/lib/python3.9/site-packages (from -r requirements.txt (line 1)) (0.17.5)\n",
      "Requirement already satisfied: jupyter_client in /Users/jiangxingnandecomputer/opt/anaconda3/lib/python3.9/site-packages (from -r requirements.txt (line 2)) (6.1.12)\n",
      "Requirement already satisfied: ipykernel in /Users/jiangxingnandecomputer/opt/anaconda3/lib/python3.9/site-packages (from -r requirements.txt (line 3)) (6.9.1)\n",
      "Requirement already satisfied: matplotlib in /Users/jiangxingnandecomputer/opt/anaconda3/lib/python3.9/site-packages (from -r requirements.txt (line 4)) (3.5.1)\n",
      "Requirement already satisfied: pandas in /Users/jiangxingnandecomputer/opt/anaconda3/lib/python3.9/site-packages (from -r requirements.txt (line 5)) (1.4.2)\n",
      "Requirement already satisfied: ipywidgets in /Users/jiangxingnandecomputer/opt/anaconda3/lib/python3.9/site-packages (from -r requirements.txt (line 6)) (7.6.5)\n",
      "Requirement already satisfied: scipy in /Users/jiangxingnandecomputer/opt/anaconda3/lib/python3.9/site-packages (from -r requirements.txt (line 7)) (1.7.3)\n",
      "Requirement already satisfied: seaborn in /Users/jiangxingnandecomputer/opt/anaconda3/lib/python3.9/site-packages (from -r requirements.txt (line 8)) (0.11.2)\n",
      "Requirement already satisfied: sklearn in /Users/jiangxingnandecomputer/opt/anaconda3/lib/python3.9/site-packages (from -r requirements.txt (line 9)) (0.0)\n",
      "Requirement already satisfied: jinja2 in /Users/jiangxingnandecomputer/opt/anaconda3/lib/python3.9/site-packages (from -r requirements.txt (line 10)) (2.11.3)\n",
      "Requirement already satisfied: nbconvert in /Users/jiangxingnandecomputer/opt/anaconda3/lib/python3.9/site-packages (from -r requirements.txt (line 11)) (6.4.4)\n",
      "Requirement already satisfied: nbformat in /Users/jiangxingnandecomputer/opt/anaconda3/lib/python3.9/site-packages (from -r requirements.txt (line 12)) (5.3.0)\n",
      "Requirement already satisfied: dill in /Users/jiangxingnandecomputer/opt/anaconda3/lib/python3.9/site-packages (from -r requirements.txt (line 13)) (0.3.5.1)\n",
      "Requirement already satisfied: numpy in /Users/jiangxingnandecomputer/opt/anaconda3/lib/python3.9/site-packages (from -r requirements.txt (line 14)) (1.21.5)\n",
      "Requirement already satisfied: otter-grader==4.0.1 in /Users/jiangxingnandecomputer/opt/anaconda3/lib/python3.9/site-packages (from -r requirements.txt (line 15)) (4.0.1)\n",
      "Requirement already satisfied: pdfkit in /Users/jiangxingnandecomputer/opt/anaconda3/lib/python3.9/site-packages (from -r requirements.txt (line 49)) (1.0.0)\n",
      "Requirement already satisfied: PyPDF2 in /Users/jiangxingnandecomputer/opt/anaconda3/lib/python3.9/site-packages (from -r requirements.txt (line 50)) (2.11.0)\n",
      "Requirement already satisfied: nltk in /Users/jiangxingnandecomputer/opt/anaconda3/lib/python3.9/site-packages (from -r requirements.txt (line 52)) (3.7)\n",
      "Requirement already satisfied: jupyter in /Users/jiangxingnandecomputer/opt/anaconda3/lib/python3.9/site-packages (from -r requirements.txt (line 55)) (1.0.0)\n",
      "Requirement already satisfied: overrides===6.2.0 in /Users/jiangxingnandecomputer/opt/anaconda3/lib/python3.9/site-packages (from -r requirements.txt (line 56)) (6.2.0)\n",
      "Requirement already satisfied: jupytext in /Users/jiangxingnandecomputer/opt/anaconda3/lib/python3.9/site-packages (from otter-grader==4.0.1->-r requirements.txt (line 15)) (1.14.1)\n",
      "Requirement already satisfied: python-on-whales in /Users/jiangxingnandecomputer/opt/anaconda3/lib/python3.9/site-packages (from otter-grader==4.0.1->-r requirements.txt (line 15)) (0.52.0)\n",
      "Requirement already satisfied: PyYAML in /Users/jiangxingnandecomputer/opt/anaconda3/lib/python3.9/site-packages (from otter-grader==4.0.1->-r requirements.txt (line 15)) (6.0)\n",
      "Requirement already satisfied: fica>=0.2.0 in /Users/jiangxingnandecomputer/opt/anaconda3/lib/python3.9/site-packages (from otter-grader==4.0.1->-r requirements.txt (line 15)) (0.2.0)\n",
      "Requirement already satisfied: google-auth-oauthlib in /Users/jiangxingnandecomputer/opt/anaconda3/lib/python3.9/site-packages (from otter-grader==4.0.1->-r requirements.txt (line 15)) (0.5.3)\n",
      "Requirement already satisfied: six in /Users/jiangxingnandecomputer/opt/anaconda3/lib/python3.9/site-packages (from otter-grader==4.0.1->-r requirements.txt (line 15)) (1.16.0)\n",
      "Requirement already satisfied: requests in /Users/jiangxingnandecomputer/opt/anaconda3/lib/python3.9/site-packages (from otter-grader==4.0.1->-r requirements.txt (line 15)) (2.27.1)\n",
      "Requirement already satisfied: click in /Users/jiangxingnandecomputer/opt/anaconda3/lib/python3.9/site-packages (from otter-grader==4.0.1->-r requirements.txt (line 15)) (8.0.4)\n",
      "Requirement already satisfied: google-api-python-client in /Users/jiangxingnandecomputer/opt/anaconda3/lib/python3.9/site-packages (from otter-grader==4.0.1->-r requirements.txt (line 15)) (2.63.0)\n",
      "Requirement already satisfied: wrapt in /Users/jiangxingnandecomputer/opt/anaconda3/lib/python3.9/site-packages (from otter-grader==4.0.1->-r requirements.txt (line 15)) (1.12.1)\n",
      "Requirement already satisfied: gspread in /Users/jiangxingnandecomputer/opt/anaconda3/lib/python3.9/site-packages (from otter-grader==4.0.1->-r requirements.txt (line 15)) (5.5.0)\n",
      "Requirement already satisfied: setuptools in /Users/jiangxingnandecomputer/opt/anaconda3/lib/python3.9/site-packages (from datascience->-r requirements.txt (line 1)) (61.2.0)\n",
      "Requirement already satisfied: ipython in /Users/jiangxingnandecomputer/opt/anaconda3/lib/python3.9/site-packages (from datascience->-r requirements.txt (line 1)) (8.2.0)\n",
      "Requirement already satisfied: branca in /Users/jiangxingnandecomputer/opt/anaconda3/lib/python3.9/site-packages (from datascience->-r requirements.txt (line 1)) (0.5.0)\n",
      "Requirement already satisfied: folium>=0.9.1 in /Users/jiangxingnandecomputer/opt/anaconda3/lib/python3.9/site-packages (from datascience->-r requirements.txt (line 1)) (0.12.1.post1)\n",
      "Requirement already satisfied: plotly in /Users/jiangxingnandecomputer/opt/anaconda3/lib/python3.9/site-packages (from datascience->-r requirements.txt (line 1)) (5.6.0)\n",
      "Requirement already satisfied: tornado>=4.1 in /Users/jiangxingnandecomputer/opt/anaconda3/lib/python3.9/site-packages (from jupyter_client->-r requirements.txt (line 2)) (6.1)\n",
      "Requirement already satisfied: jupyter-core>=4.6.0 in /Users/jiangxingnandecomputer/opt/anaconda3/lib/python3.9/site-packages (from jupyter_client->-r requirements.txt (line 2)) (4.9.2)\n",
      "Requirement already satisfied: pyzmq>=13 in /Users/jiangxingnandecomputer/opt/anaconda3/lib/python3.9/site-packages (from jupyter_client->-r requirements.txt (line 2)) (22.3.0)\n",
      "Requirement already satisfied: traitlets in /Users/jiangxingnandecomputer/opt/anaconda3/lib/python3.9/site-packages (from jupyter_client->-r requirements.txt (line 2)) (5.1.1)\n",
      "Requirement already satisfied: python-dateutil>=2.1 in /Users/jiangxingnandecomputer/opt/anaconda3/lib/python3.9/site-packages (from jupyter_client->-r requirements.txt (line 2)) (2.8.2)\n",
      "Requirement already satisfied: appnope in /Users/jiangxingnandecomputer/opt/anaconda3/lib/python3.9/site-packages (from ipykernel->-r requirements.txt (line 3)) (0.1.2)\n",
      "Requirement already satisfied: matplotlib-inline<0.2.0,>=0.1.0 in /Users/jiangxingnandecomputer/opt/anaconda3/lib/python3.9/site-packages (from ipykernel->-r requirements.txt (line 3)) (0.1.2)\n",
      "Requirement already satisfied: nest-asyncio in /Users/jiangxingnandecomputer/opt/anaconda3/lib/python3.9/site-packages (from ipykernel->-r requirements.txt (line 3)) (1.5.5)\n",
      "Requirement already satisfied: debugpy<2.0,>=1.0.0 in /Users/jiangxingnandecomputer/opt/anaconda3/lib/python3.9/site-packages (from ipykernel->-r requirements.txt (line 3)) (1.5.1)\n",
      "Requirement already satisfied: fonttools>=4.22.0 in /Users/jiangxingnandecomputer/opt/anaconda3/lib/python3.9/site-packages (from matplotlib->-r requirements.txt (line 4)) (4.25.0)\n",
      "Requirement already satisfied: pyparsing>=2.2.1 in /Users/jiangxingnandecomputer/opt/anaconda3/lib/python3.9/site-packages (from matplotlib->-r requirements.txt (line 4)) (3.0.4)\n",
      "Requirement already satisfied: cycler>=0.10 in /Users/jiangxingnandecomputer/opt/anaconda3/lib/python3.9/site-packages (from matplotlib->-r requirements.txt (line 4)) (0.11.0)\n",
      "Requirement already satisfied: pillow>=6.2.0 in /Users/jiangxingnandecomputer/opt/anaconda3/lib/python3.9/site-packages (from matplotlib->-r requirements.txt (line 4)) (9.0.1)\n",
      "Requirement already satisfied: packaging>=20.0 in /Users/jiangxingnandecomputer/opt/anaconda3/lib/python3.9/site-packages (from matplotlib->-r requirements.txt (line 4)) (21.3)\n",
      "Requirement already satisfied: kiwisolver>=1.0.1 in /Users/jiangxingnandecomputer/opt/anaconda3/lib/python3.9/site-packages (from matplotlib->-r requirements.txt (line 4)) (1.3.2)\n",
      "Requirement already satisfied: pytz>=2020.1 in /Users/jiangxingnandecomputer/opt/anaconda3/lib/python3.9/site-packages (from pandas->-r requirements.txt (line 5)) (2021.3)\n",
      "Requirement already satisfied: widgetsnbextension~=3.5.0 in /Users/jiangxingnandecomputer/opt/anaconda3/lib/python3.9/site-packages (from ipywidgets->-r requirements.txt (line 6)) (3.5.2)\n",
      "Requirement already satisfied: ipython-genutils~=0.2.0 in /Users/jiangxingnandecomputer/opt/anaconda3/lib/python3.9/site-packages (from ipywidgets->-r requirements.txt (line 6)) (0.2.0)\n",
      "Requirement already satisfied: jupyterlab-widgets>=1.0.0 in /Users/jiangxingnandecomputer/opt/anaconda3/lib/python3.9/site-packages (from ipywidgets->-r requirements.txt (line 6)) (1.0.0)\n",
      "Requirement already satisfied: scikit-learn in /Users/jiangxingnandecomputer/opt/anaconda3/lib/python3.9/site-packages (from sklearn->-r requirements.txt (line 9)) (1.0.2)\n",
      "Requirement already satisfied: MarkupSafe>=0.23 in /Users/jiangxingnandecomputer/opt/anaconda3/lib/python3.9/site-packages (from jinja2->-r requirements.txt (line 10)) (2.0.1)\n",
      "Requirement already satisfied: bleach in /Users/jiangxingnandecomputer/opt/anaconda3/lib/python3.9/site-packages (from nbconvert->-r requirements.txt (line 11)) (4.1.0)\n",
      "Requirement already satisfied: defusedxml in /Users/jiangxingnandecomputer/opt/anaconda3/lib/python3.9/site-packages (from nbconvert->-r requirements.txt (line 11)) (0.7.1)\n",
      "Requirement already satisfied: beautifulsoup4 in /Users/jiangxingnandecomputer/opt/anaconda3/lib/python3.9/site-packages (from nbconvert->-r requirements.txt (line 11)) (4.11.1)\n",
      "Requirement already satisfied: mistune<2,>=0.8.1 in /Users/jiangxingnandecomputer/opt/anaconda3/lib/python3.9/site-packages (from nbconvert->-r requirements.txt (line 11)) (0.8.4)\n",
      "Requirement already satisfied: nbclient<0.6.0,>=0.5.0 in /Users/jiangxingnandecomputer/opt/anaconda3/lib/python3.9/site-packages (from nbconvert->-r requirements.txt (line 11)) (0.5.13)\n",
      "Requirement already satisfied: pandocfilters>=1.4.1 in /Users/jiangxingnandecomputer/opt/anaconda3/lib/python3.9/site-packages (from nbconvert->-r requirements.txt (line 11)) (1.5.0)\n",
      "Requirement already satisfied: testpath in /Users/jiangxingnandecomputer/opt/anaconda3/lib/python3.9/site-packages (from nbconvert->-r requirements.txt (line 11)) (0.5.0)\n",
      "Requirement already satisfied: jupyterlab-pygments in /Users/jiangxingnandecomputer/opt/anaconda3/lib/python3.9/site-packages (from nbconvert->-r requirements.txt (line 11)) (0.1.2)\n",
      "Requirement already satisfied: entrypoints>=0.2.2 in /Users/jiangxingnandecomputer/opt/anaconda3/lib/python3.9/site-packages (from nbconvert->-r requirements.txt (line 11)) (0.4)\n",
      "Requirement already satisfied: pygments>=2.4.1 in /Users/jiangxingnandecomputer/opt/anaconda3/lib/python3.9/site-packages (from nbconvert->-r requirements.txt (line 11)) (2.11.2)\n",
      "Requirement already satisfied: jsonschema>=2.6 in /Users/jiangxingnandecomputer/opt/anaconda3/lib/python3.9/site-packages (from nbformat->-r requirements.txt (line 12)) (4.4.0)\n",
      "Requirement already satisfied: fastjsonschema in /Users/jiangxingnandecomputer/opt/anaconda3/lib/python3.9/site-packages (from nbformat->-r requirements.txt (line 12)) (2.15.1)\n",
      "Requirement already satisfied: typing-extensions>=3.10.0.0 in /Users/jiangxingnandecomputer/opt/anaconda3/lib/python3.9/site-packages (from PyPDF2->-r requirements.txt (line 50)) (4.1.1)\n",
      "Requirement already satisfied: tqdm in /Users/jiangxingnandecomputer/opt/anaconda3/lib/python3.9/site-packages (from nltk->-r requirements.txt (line 52)) (4.64.0)\n",
      "Requirement already satisfied: joblib in /Users/jiangxingnandecomputer/opt/anaconda3/lib/python3.9/site-packages (from nltk->-r requirements.txt (line 52)) (1.1.0)\n",
      "Requirement already satisfied: regex>=2021.8.3 in /Users/jiangxingnandecomputer/opt/anaconda3/lib/python3.9/site-packages (from nltk->-r requirements.txt (line 52)) (2022.3.15)\n",
      "Requirement already satisfied: notebook in /Users/jiangxingnandecomputer/opt/anaconda3/lib/python3.9/site-packages (from jupyter->-r requirements.txt (line 55)) (6.4.8)\n",
      "Requirement already satisfied: qtconsole in /Users/jiangxingnandecomputer/opt/anaconda3/lib/python3.9/site-packages (from jupyter->-r requirements.txt (line 55)) (5.3.0)\n",
      "Requirement already satisfied: jupyter-console in /Users/jiangxingnandecomputer/opt/anaconda3/lib/python3.9/site-packages (from jupyter->-r requirements.txt (line 55)) (6.4.0)\n",
      "Requirement already satisfied: sphinx in /Users/jiangxingnandecomputer/opt/anaconda3/lib/python3.9/site-packages (from fica>=0.2.0->otter-grader==4.0.1->-r requirements.txt (line 15)) (4.4.0)\n",
      "Requirement already satisfied: docutils in /Users/jiangxingnandecomputer/opt/anaconda3/lib/python3.9/site-packages (from fica>=0.2.0->otter-grader==4.0.1->-r requirements.txt (line 15)) (0.17.1)\n",
      "Requirement already satisfied: decorator in /Users/jiangxingnandecomputer/opt/anaconda3/lib/python3.9/site-packages (from ipython->datascience->-r requirements.txt (line 1)) (5.1.1)\n",
      "Requirement already satisfied: stack-data in /Users/jiangxingnandecomputer/opt/anaconda3/lib/python3.9/site-packages (from ipython->datascience->-r requirements.txt (line 1)) (0.2.0)\n",
      "Requirement already satisfied: backcall in /Users/jiangxingnandecomputer/opt/anaconda3/lib/python3.9/site-packages (from ipython->datascience->-r requirements.txt (line 1)) (0.2.0)\n",
      "Requirement already satisfied: pickleshare in /Users/jiangxingnandecomputer/opt/anaconda3/lib/python3.9/site-packages (from ipython->datascience->-r requirements.txt (line 1)) (0.7.5)\n",
      "Requirement already satisfied: pexpect>4.3 in /Users/jiangxingnandecomputer/opt/anaconda3/lib/python3.9/site-packages (from ipython->datascience->-r requirements.txt (line 1)) (4.8.0)\n",
      "Requirement already satisfied: prompt-toolkit!=3.0.0,!=3.0.1,<3.1.0,>=2.0.0 in /Users/jiangxingnandecomputer/opt/anaconda3/lib/python3.9/site-packages (from ipython->datascience->-r requirements.txt (line 1)) (3.0.20)\n",
      "Requirement already satisfied: jedi>=0.16 in /Users/jiangxingnandecomputer/opt/anaconda3/lib/python3.9/site-packages (from ipython->datascience->-r requirements.txt (line 1)) (0.18.1)\n",
      "Requirement already satisfied: parso<0.9.0,>=0.8.0 in /Users/jiangxingnandecomputer/opt/anaconda3/lib/python3.9/site-packages (from jedi>=0.16->ipython->datascience->-r requirements.txt (line 1)) (0.8.3)\n",
      "Requirement already satisfied: pyrsistent!=0.17.0,!=0.17.1,!=0.17.2,>=0.14.0 in /Users/jiangxingnandecomputer/opt/anaconda3/lib/python3.9/site-packages (from jsonschema>=2.6->nbformat->-r requirements.txt (line 12)) (0.18.0)\n",
      "Requirement already satisfied: attrs>=17.4.0 in /Users/jiangxingnandecomputer/opt/anaconda3/lib/python3.9/site-packages (from jsonschema>=2.6->nbformat->-r requirements.txt (line 12)) (21.4.0)\n",
      "Requirement already satisfied: ptyprocess>=0.5 in /Users/jiangxingnandecomputer/opt/anaconda3/lib/python3.9/site-packages (from pexpect>4.3->ipython->datascience->-r requirements.txt (line 1)) (0.7.0)\n",
      "Requirement already satisfied: wcwidth in /Users/jiangxingnandecomputer/opt/anaconda3/lib/python3.9/site-packages (from prompt-toolkit!=3.0.0,!=3.0.1,<3.1.0,>=2.0.0->ipython->datascience->-r requirements.txt (line 1)) (0.2.5)\n",
      "Requirement already satisfied: argon2-cffi in /Users/jiangxingnandecomputer/opt/anaconda3/lib/python3.9/site-packages (from notebook->jupyter->-r requirements.txt (line 55)) (21.3.0)\n",
      "Requirement already satisfied: Send2Trash>=1.8.0 in /Users/jiangxingnandecomputer/opt/anaconda3/lib/python3.9/site-packages (from notebook->jupyter->-r requirements.txt (line 55)) (1.8.0)\n",
      "Requirement already satisfied: terminado>=0.8.3 in /Users/jiangxingnandecomputer/opt/anaconda3/lib/python3.9/site-packages (from notebook->jupyter->-r requirements.txt (line 55)) (0.13.1)\n",
      "Requirement already satisfied: prometheus-client in /Users/jiangxingnandecomputer/opt/anaconda3/lib/python3.9/site-packages (from notebook->jupyter->-r requirements.txt (line 55)) (0.13.1)\n",
      "Requirement already satisfied: argon2-cffi-bindings in /Users/jiangxingnandecomputer/opt/anaconda3/lib/python3.9/site-packages (from argon2-cffi->notebook->jupyter->-r requirements.txt (line 55)) (21.2.0)\n",
      "Requirement already satisfied: cffi>=1.0.1 in /Users/jiangxingnandecomputer/opt/anaconda3/lib/python3.9/site-packages (from argon2-cffi-bindings->argon2-cffi->notebook->jupyter->-r requirements.txt (line 55)) (1.15.0)\n",
      "Requirement already satisfied: pycparser in /Users/jiangxingnandecomputer/opt/anaconda3/lib/python3.9/site-packages (from cffi>=1.0.1->argon2-cffi-bindings->argon2-cffi->notebook->jupyter->-r requirements.txt (line 55)) (2.21)\n",
      "Requirement already satisfied: soupsieve>1.2 in /Users/jiangxingnandecomputer/opt/anaconda3/lib/python3.9/site-packages (from beautifulsoup4->nbconvert->-r requirements.txt (line 11)) (2.3.1)\n",
      "Requirement already satisfied: webencodings in /Users/jiangxingnandecomputer/opt/anaconda3/lib/python3.9/site-packages (from bleach->nbconvert->-r requirements.txt (line 11)) (0.5.1)\n",
      "Requirement already satisfied: google-auth<3.0.0dev,>=1.19.0 in /Users/jiangxingnandecomputer/opt/anaconda3/lib/python3.9/site-packages (from google-api-python-client->otter-grader==4.0.1->-r requirements.txt (line 15)) (1.33.0)\n",
      "Requirement already satisfied: google-api-core!=2.0.*,!=2.1.*,!=2.2.*,!=2.3.0,<3.0.0dev,>=1.31.5 in /Users/jiangxingnandecomputer/opt/anaconda3/lib/python3.9/site-packages (from google-api-python-client->otter-grader==4.0.1->-r requirements.txt (line 15)) (2.10.1)\n",
      "Requirement already satisfied: uritemplate<5,>=3.0.1 in /Users/jiangxingnandecomputer/opt/anaconda3/lib/python3.9/site-packages (from google-api-python-client->otter-grader==4.0.1->-r requirements.txt (line 15)) (4.1.1)\n",
      "Requirement already satisfied: google-auth-httplib2>=0.1.0 in /Users/jiangxingnandecomputer/opt/anaconda3/lib/python3.9/site-packages (from google-api-python-client->otter-grader==4.0.1->-r requirements.txt (line 15)) (0.1.0)\n",
      "Requirement already satisfied: httplib2<1dev,>=0.15.0 in /Users/jiangxingnandecomputer/opt/anaconda3/lib/python3.9/site-packages (from google-api-python-client->otter-grader==4.0.1->-r requirements.txt (line 15)) (0.20.4)\n",
      "Requirement already satisfied: googleapis-common-protos<2.0dev,>=1.56.2 in /Users/jiangxingnandecomputer/opt/anaconda3/lib/python3.9/site-packages (from google-api-core!=2.0.*,!=2.1.*,!=2.2.*,!=2.3.0,<3.0.0dev,>=1.31.5->google-api-python-client->otter-grader==4.0.1->-r requirements.txt (line 15)) (1.56.4)\n",
      "Requirement already satisfied: protobuf<5.0.0dev,>=3.20.1 in /Users/jiangxingnandecomputer/opt/anaconda3/lib/python3.9/site-packages (from google-api-core!=2.0.*,!=2.1.*,!=2.2.*,!=2.3.0,<3.0.0dev,>=1.31.5->google-api-python-client->otter-grader==4.0.1->-r requirements.txt (line 15)) (4.21.7)\n",
      "Requirement already satisfied: rsa<5,>=3.1.4 in /Users/jiangxingnandecomputer/opt/anaconda3/lib/python3.9/site-packages (from google-auth<3.0.0dev,>=1.19.0->google-api-python-client->otter-grader==4.0.1->-r requirements.txt (line 15)) (4.7.2)\n",
      "Requirement already satisfied: pyasn1-modules>=0.2.1 in /Users/jiangxingnandecomputer/opt/anaconda3/lib/python3.9/site-packages (from google-auth<3.0.0dev,>=1.19.0->google-api-python-client->otter-grader==4.0.1->-r requirements.txt (line 15)) (0.2.8)\n",
      "Requirement already satisfied: cachetools<5.0,>=2.0.0 in /Users/jiangxingnandecomputer/opt/anaconda3/lib/python3.9/site-packages (from google-auth<3.0.0dev,>=1.19.0->google-api-python-client->otter-grader==4.0.1->-r requirements.txt (line 15)) (4.2.2)\n",
      "Requirement already satisfied: pyasn1<0.5.0,>=0.4.6 in /Users/jiangxingnandecomputer/opt/anaconda3/lib/python3.9/site-packages (from pyasn1-modules>=0.2.1->google-auth<3.0.0dev,>=1.19.0->google-api-python-client->otter-grader==4.0.1->-r requirements.txt (line 15)) (0.4.8)\n",
      "Requirement already satisfied: urllib3<1.27,>=1.21.1 in /Users/jiangxingnandecomputer/opt/anaconda3/lib/python3.9/site-packages (from requests->otter-grader==4.0.1->-r requirements.txt (line 15)) (1.26.9)\n",
      "Requirement already satisfied: idna<4,>=2.5 in /Users/jiangxingnandecomputer/opt/anaconda3/lib/python3.9/site-packages (from requests->otter-grader==4.0.1->-r requirements.txt (line 15)) (3.3)\n",
      "Requirement already satisfied: charset-normalizer~=2.0.0 in /Users/jiangxingnandecomputer/opt/anaconda3/lib/python3.9/site-packages (from requests->otter-grader==4.0.1->-r requirements.txt (line 15)) (2.0.4)\n",
      "Requirement already satisfied: certifi>=2017.4.17 in /Users/jiangxingnandecomputer/opt/anaconda3/lib/python3.9/site-packages (from requests->otter-grader==4.0.1->-r requirements.txt (line 15)) (2021.10.8)\n",
      "Requirement already satisfied: requests-oauthlib>=0.7.0 in /Users/jiangxingnandecomputer/opt/anaconda3/lib/python3.9/site-packages (from google-auth-oauthlib->otter-grader==4.0.1->-r requirements.txt (line 15)) (1.3.1)\n",
      "Requirement already satisfied: oauthlib>=3.0.0 in /Users/jiangxingnandecomputer/opt/anaconda3/lib/python3.9/site-packages (from requests-oauthlib>=0.7.0->google-auth-oauthlib->otter-grader==4.0.1->-r requirements.txt (line 15)) (3.2.1)\n",
      "Requirement already satisfied: toml in /Users/jiangxingnandecomputer/opt/anaconda3/lib/python3.9/site-packages (from jupytext->otter-grader==4.0.1->-r requirements.txt (line 15)) (0.10.2)\n",
      "Requirement already satisfied: markdown-it-py<3.0.0,>=1.0.0 in /Users/jiangxingnandecomputer/opt/anaconda3/lib/python3.9/site-packages (from jupytext->otter-grader==4.0.1->-r requirements.txt (line 15)) (2.1.0)\n",
      "Requirement already satisfied: mdit-py-plugins in /Users/jiangxingnandecomputer/opt/anaconda3/lib/python3.9/site-packages (from jupytext->otter-grader==4.0.1->-r requirements.txt (line 15)) (0.3.1)\n",
      "Requirement already satisfied: mdurl~=0.1 in /Users/jiangxingnandecomputer/opt/anaconda3/lib/python3.9/site-packages (from markdown-it-py<3.0.0,>=1.0.0->jupytext->otter-grader==4.0.1->-r requirements.txt (line 15)) (0.1.2)\n",
      "Requirement already satisfied: tenacity>=6.2.0 in /Users/jiangxingnandecomputer/opt/anaconda3/lib/python3.9/site-packages (from plotly->datascience->-r requirements.txt (line 1)) (8.0.1)\n",
      "Requirement already satisfied: pydantic in /Users/jiangxingnandecomputer/opt/anaconda3/lib/python3.9/site-packages (from python-on-whales->otter-grader==4.0.1->-r requirements.txt (line 15)) (1.10.2)\n",
      "Requirement already satisfied: typer>=0.4.1 in /Users/jiangxingnandecomputer/opt/anaconda3/lib/python3.9/site-packages (from python-on-whales->otter-grader==4.0.1->-r requirements.txt (line 15)) (0.6.1)\n",
      "Requirement already satisfied: qtpy>=2.0.1 in /Users/jiangxingnandecomputer/opt/anaconda3/lib/python3.9/site-packages (from qtconsole->jupyter->-r requirements.txt (line 55)) (2.0.1)\n",
      "Requirement already satisfied: threadpoolctl>=2.0.0 in /Users/jiangxingnandecomputer/opt/anaconda3/lib/python3.9/site-packages (from scikit-learn->sklearn->-r requirements.txt (line 9)) (2.2.0)\n",
      "Requirement already satisfied: sphinxcontrib-devhelp in /Users/jiangxingnandecomputer/opt/anaconda3/lib/python3.9/site-packages (from sphinx->fica>=0.2.0->otter-grader==4.0.1->-r requirements.txt (line 15)) (1.0.2)\n",
      "Requirement already satisfied: sphinxcontrib-applehelp in /Users/jiangxingnandecomputer/opt/anaconda3/lib/python3.9/site-packages (from sphinx->fica>=0.2.0->otter-grader==4.0.1->-r requirements.txt (line 15)) (1.0.2)\n",
      "Requirement already satisfied: sphinxcontrib-jsmath in /Users/jiangxingnandecomputer/opt/anaconda3/lib/python3.9/site-packages (from sphinx->fica>=0.2.0->otter-grader==4.0.1->-r requirements.txt (line 15)) (1.0.1)\n",
      "Requirement already satisfied: importlib-metadata>=4.4 in /Users/jiangxingnandecomputer/opt/anaconda3/lib/python3.9/site-packages (from sphinx->fica>=0.2.0->otter-grader==4.0.1->-r requirements.txt (line 15)) (4.11.3)\n",
      "Requirement already satisfied: sphinxcontrib-htmlhelp>=2.0.0 in /Users/jiangxingnandecomputer/opt/anaconda3/lib/python3.9/site-packages (from sphinx->fica>=0.2.0->otter-grader==4.0.1->-r requirements.txt (line 15)) (2.0.0)\n",
      "Requirement already satisfied: imagesize in /Users/jiangxingnandecomputer/opt/anaconda3/lib/python3.9/site-packages (from sphinx->fica>=0.2.0->otter-grader==4.0.1->-r requirements.txt (line 15)) (1.3.0)\n",
      "Requirement already satisfied: sphinxcontrib-serializinghtml>=1.1.5 in /Users/jiangxingnandecomputer/opt/anaconda3/lib/python3.9/site-packages (from sphinx->fica>=0.2.0->otter-grader==4.0.1->-r requirements.txt (line 15)) (1.1.5)\n",
      "Requirement already satisfied: babel>=1.3 in /Users/jiangxingnandecomputer/opt/anaconda3/lib/python3.9/site-packages (from sphinx->fica>=0.2.0->otter-grader==4.0.1->-r requirements.txt (line 15)) (2.9.1)\n",
      "Requirement already satisfied: alabaster<0.8,>=0.7 in /Users/jiangxingnandecomputer/opt/anaconda3/lib/python3.9/site-packages (from sphinx->fica>=0.2.0->otter-grader==4.0.1->-r requirements.txt (line 15)) (0.7.12)\n",
      "Requirement already satisfied: snowballstemmer>=1.1 in /Users/jiangxingnandecomputer/opt/anaconda3/lib/python3.9/site-packages (from sphinx->fica>=0.2.0->otter-grader==4.0.1->-r requirements.txt (line 15)) (2.2.0)\n",
      "Requirement already satisfied: sphinxcontrib-qthelp in /Users/jiangxingnandecomputer/opt/anaconda3/lib/python3.9/site-packages (from sphinx->fica>=0.2.0->otter-grader==4.0.1->-r requirements.txt (line 15)) (1.0.3)\n",
      "Requirement already satisfied: zipp>=0.5 in /Users/jiangxingnandecomputer/opt/anaconda3/lib/python3.9/site-packages (from importlib-metadata>=4.4->sphinx->fica>=0.2.0->otter-grader==4.0.1->-r requirements.txt (line 15)) (3.7.0)\n",
      "Requirement already satisfied: pure-eval in /Users/jiangxingnandecomputer/opt/anaconda3/lib/python3.9/site-packages (from stack-data->ipython->datascience->-r requirements.txt (line 1)) (0.2.2)\n",
      "Requirement already satisfied: asttokens in /Users/jiangxingnandecomputer/opt/anaconda3/lib/python3.9/site-packages (from stack-data->ipython->datascience->-r requirements.txt (line 1)) (2.0.5)\n",
      "Requirement already satisfied: executing in /Users/jiangxingnandecomputer/opt/anaconda3/lib/python3.9/site-packages (from stack-data->ipython->datascience->-r requirements.txt (line 1)) (0.8.3)\n"
     ]
    }
   ],
   "source": [
    "# Downloads required packages and files\n",
    "required_files = \"https://github.com/jhu-intro-hlt/jhu-intro-hlt.github.io/raw/master/assignments/hw1-files/student/required_files.zip\"\n",
    "! wget $required_files && unzip -o required_files.zip\n",
    "! pip install -r requirements.txt"
   ]
  },
  {
   "cell_type": "code",
   "execution_count": 13,
   "metadata": {
    "id": "pEX1BnxNl3GS"
   },
   "outputs": [],
   "source": [
    "# Initialize Otter\n",
    "import otter\n",
    "grader = otter.Notebook(colab=True)"
   ]
  },
  {
   "cell_type": "code",
   "execution_count": 14,
   "metadata": {
    "colab": {
     "base_uri": "https://localhost:8080/"
    },
    "id": "616QyAz3l3GS",
    "outputId": "7705bcae-5148-4209-d014-1ae789b23f74",
    "pycharm": {
     "name": "#%%\n"
    }
   },
   "outputs": [
    {
     "name": "stderr",
     "output_type": "stream",
     "text": [
      "[nltk_data] Downloading package punkt to\n",
      "[nltk_data]     /Users/jiangxingnandecomputer/nltk_data...\n",
      "[nltk_data]   Package punkt is already up-to-date!\n"
     ]
    },
    {
     "data": {
      "text/plain": [
       "True"
      ]
     },
     "execution_count": 14,
     "metadata": {},
     "output_type": "execute_result"
    }
   ],
   "source": [
    "import random\n",
    "import math\n",
    "import re\n",
    "import os\n",
    "import urllib\n",
    "import json\n",
    "from typing import *\n",
    "from collections import Counter, defaultdict\n",
    "\n",
    "import numpy as np\n",
    "import nltk\n",
    "import matplotlib.pyplot as plt\n",
    "from nltk.tokenize import RegexpTokenizer, sent_tokenize\n",
    "\n",
    "nltk.download('punkt')"
   ]
  },
  {
   "cell_type": "markdown",
   "metadata": {
    "id": "sWXKLhH1N0IU",
    "pycharm": {
     "name": "#%% md\n"
    }
   },
   "source": [
    "## Part 1: N-gram Language Models\n",
    "\n",
    "For the first part of this assignment, you will implement a trigram language model and train it on a small corpus. You will then implement a scoring function to compute the perplexity of the model on a held-out test set. Finally, you will implement some methods to deal with sparsity (zero count) issues in your model.\n",
    "\n",
    "To ease you into the implementation, we will provide some boilerplate code that you would need to fill in depending upon the functionalities the code is supposed to perform. For the first few sections below, we will use the complete text from Leo Tolstoy's \"War and Peace,\" which is freely available from [Project Gutenberg](https://www.gutenberg.org/). Run the following code block to download the text. "
   ]
  },
  {
   "cell_type": "code",
   "execution_count": 15,
   "metadata": {
    "id": "fmw2bHZPl3GT",
    "pycharm": {
     "name": "#%%\n"
    }
   },
   "outputs": [],
   "source": [
    "def download_data():\n",
    "    def _download(url: str, filename: str) -> str:\n",
    "        txt = urllib.request.urlopen(url)\n",
    "        with open(filename, 'w') as f:\n",
    "            f.write(txt.read().decode('utf-8'))\n",
    "        \n",
    "    _download('https://cs.stanford.edu/people/karpathy/char-rnn/warpeace_input.txt', 'warpeace_input.txt')\n",
    "    _download('http://www.gutenberg.org/files/1399/1399-0.txt', '1399-0.txt')\n",
    "\n",
    "download_data()"
   ]
  },
  {
   "cell_type": "markdown",
   "metadata": {
    "id": "obJJmlMlSs2d",
    "pycharm": {
     "name": "#%% md\n"
    }
   },
   "source": [
    "The complete text downloaded above contains punctuations which are not important for our purposes. So we will perform a basic text preprocessing using the [NLTK toolkit](https://www.nltk.org/). We will store the processed text into a list of strings, where each string will contain words without any punctuations. We will also convert all words to lower case."
   ]
  },
  {
   "cell_type": "code",
   "execution_count": 16,
   "metadata": {
    "id": "eoKZKaRGVYa1",
    "pycharm": {
     "name": "#%%\n"
    }
   },
   "outputs": [],
   "source": [
    "# Loading the text\n",
    "try:\n",
    "    with open('warpeace_input.txt', 'r') as file:\n",
    "        corpus_raw = file.read().replace('\\n', ' ')\n",
    "except FileNotFoundError:\n",
    "    with open('../../warpeace_input.txt', 'r') as file:\n",
    "        corpus_raw = file.read().replace('\\n', ' ')"
   ]
  },
  {
   "cell_type": "code",
   "execution_count": 17,
   "metadata": {
    "colab": {
     "base_uri": "https://localhost:8080/"
    },
    "id": "1r_Q1XbTWCst",
    "outputId": "02741a7e-2d9a-4b77-a304-ea05e85e6c47",
    "pycharm": {
     "name": "#%%\n"
    }
   },
   "outputs": [
    {
     "name": "stdout",
     "output_type": "stream",
     "text": [
      "Corpus has 32040 sentences\n"
     ]
    }
   ],
   "source": [
    "sentences = sent_tokenize(corpus_raw)\n",
    "\n",
    "corpus = []\n",
    "tokenizer = RegexpTokenizer(r'\\w+')\n",
    "for sentence in sentences:\n",
    "    tokens = tokenizer.tokenize(sentence)\n",
    "    corpus.append([token.lower() for token in tokens])\n",
    "\n",
    "print(\"Corpus has {} sentences\".format(len(corpus)))"
   ]
  },
  {
   "cell_type": "markdown",
   "metadata": {
    "id": "ykO86GMkPQ2E",
    "pycharm": {
     "name": "#%% md\n"
    }
   },
   "source": [
    "### Warm-up: n-gram counts from a corpus\n",
    "\n",
    "Let's start with implementing a simple function for obtaining n-grams and their counts from a string. Complete the following function. _(5 points)_\n",
    "\n",
    "__Note 1:__ Use the special token `~` for both beginning of sentence (BOS) and end of sentence (EOS) tokens. For example, the sentence \"Mary has a little lamb\" has the bigrams \"_~ Mary_\", \"_Mary has_\", \"_has a_\", \"_a little_\", \"_little lamb_\", and \"_lamb ~_\".\n",
    "\n",
    "__Note 2:__ You don't need to do any further text processing beyond what has already been done before.\n",
    "\n",
    "__Note 3:__ For the usage of `collections.Counter`, you can refer to [its python doc](https://docs.python.org/3/library/collections.html#collections.Counter)."
   ]
  },
  {
   "cell_type": "code",
   "execution_count": 18,
   "metadata": {
    "id": "2e33ebbwl3GU",
    "pycharm": {
     "name": "#%%\n"
    },
    "tags": []
   },
   "outputs": [],
   "source": [
    "def generate_ngrams(text: List[str], n: int) -> Counter:\n",
    "    \"\"\"Generates all n-grams (i.e. n-1 context words) for the given text.\n",
    "\n",
    "    Parameters\n",
    "    ----------\n",
    "    text : List[str]\n",
    "        Input text (list of strings) after tokenization.\n",
    "    n : int\n",
    "        n-gram parameter (must be greater than or equal to 1).\n",
    "\n",
    "    Returns\n",
    "    -------\n",
    "    ngrams : Counter\n",
    "        Output n-grams dictionary as {ngram: count} (Dict[Tuple, int]), \n",
    "        where `ngram` is a n-gram tuple and `count` is an integer count.\n",
    "        e.g. ('Mary','has') and value as count of the n-gram in the text.\n",
    "    \"\"\"\n",
    "    assert (isinstance(n, int) and n > 0)\n",
    "    ngrams = Counter()\n",
    "\n",
    "    # TODO: Your code here.\n",
    "    \n",
    "    #concatenation\n",
    "    temp_text = ['~'] * (n-1)\n",
    "\n",
    "    for i in text:\n",
    "      temp_text.append(i)\n",
    "    \n",
    "    for i in range(n-1):\n",
    "      temp_text.append('~')\n",
    "    \n",
    "    #print(temp_text)\n",
    "\n",
    "    #tuple\n",
    "    before_count_ngrams = []\n",
    "\n",
    "    count_length = len(temp_text) - (n-1)\n",
    "    \n",
    "    def before_count_ngrams_calvulation(a, b):\n",
    "      for i in range(a):\n",
    "        t = []\n",
    "        for j in range(b):\n",
    "          t.append(temp_text[i+j])\n",
    "        before_count_ngrams.append(tuple(t))\n",
    "\n",
    "    before_count_ngrams_calvulation(count_length, n)\n",
    "    \n",
    "    ngrams = Counter(before_count_ngrams)\n",
    "\n",
    "    return ngrams\n",
    "\n",
    "\n",
    "def generate_ngrams_sentences(text: List[List[str]], n: int) -> Counter:\n",
    "    \"\"\"Generates n-grams for each sentence and aggregates them.\"\"\"\n",
    "    all_ngrams = Counter()\n",
    "    for sentence in text:\n",
    "        all_ngrams.update(generate_ngrams(sentence, n))\n",
    "    return all_ngrams"
   ]
  },
  {
   "cell_type": "code",
   "execution_count": 19,
   "metadata": {
    "colab": {
     "base_uri": "https://localhost:8080/"
    },
    "id": "b9nXynL4l3GV",
    "outputId": "95f8b68e-1639-4bcc-c0dd-d2e75e340e12",
    "pycharm": {
     "name": "#%%\n"
    },
    "scrolled": true,
    "tags": []
   },
   "outputs": [
    {
     "name": "stdout",
     "output_type": "stream",
     "text": [
      "[['well', 'prince', 'so', 'genoa', 'and', 'lucca', 'are', 'now', 'just', 'family', 'estates', 'of', 'the', 'buonapartes'], ['but', 'i', 'warn', 'you', 'if', 'you', 'don', 't', 'tell', 'me', 'that', 'this', 'means', 'war', 'if', 'you', 'still', 'try', 'to', 'defend', 'the', 'infamies', 'and', 'horrors', 'perpetrated', 'by', 'that', 'antichrist', 'i', 'really', 'believe', 'he', 'is', 'antichrist', 'i', 'will', 'have', 'nothing', 'more', 'to', 'do', 'with', 'you', 'and', 'you', 'are', 'no', 'longer', 'my', 'friend', 'no', 'longer', 'my', 'faithful', 'slave', 'as', 'you', 'call', 'yourself'], ['but', 'how', 'do', 'you', 'do'], ['i', 'see', 'i', 'have', 'frightened', 'you', 'sit', 'down', 'and', 'tell', 'me', 'all', 'the', 'news'], ['it', 'was', 'in', 'july', '1805', 'and', 'the', 'speaker', 'was', 'the', 'well', 'known', 'anna', 'pavlovna', 'scherer', 'maid', 'of', 'honor', 'and', 'favorite', 'of', 'the', 'empress', 'marya', 'fedorovna'], ['with', 'these', 'words', 'she', 'greeted', 'prince', 'vasili', 'kuragin', 'a', 'man', 'of', 'high', 'rank', 'and', 'importance', 'who', 'was', 'the', 'first', 'to', 'arrive', 'at', 'her', 'reception'], ['anna', 'pavlovna', 'had', 'had', 'a', 'cough', 'for', 'some', 'days'], ['she', 'was', 'as', 'she', 'said', 'suffering', 'from', 'la', 'grippe', 'grippe', 'being', 'then', 'a', 'new', 'word', 'in', 'st', 'petersburg', 'used', 'only', 'by', 'the', 'elite'], ['all', 'her', 'invitations', 'without', 'exception', 'written', 'in', 'french', 'and', 'delivered', 'by', 'a', 'scarlet', 'liveried', 'footman', 'that', 'morning', 'ran', 'as', 'follows', 'if', 'you', 'have', 'nothing', 'better', 'to', 'do', 'count', 'or', 'prince', 'and', 'if', 'the', 'prospect', 'of', 'spending', 'an', 'evening', 'with', 'a', 'poor', 'invalid', 'is', 'not', 'too', 'terrible', 'i', 'shall', 'be', 'very', 'charmed', 'to', 'see', 'you', 'tonight', 'between', '7', 'and', '10', 'annette', 'scherer'], ['heavens']]\n",
      "Counter({('~', '~', 'but'): 2, ('no', 'longer', 'my'): 2, ('~', '~', 'well'): 1, ('~', 'well', 'prince'): 1, ('well', 'prince', 'so'): 1, ('prince', 'so', 'genoa'): 1, ('so', 'genoa', 'and'): 1, ('genoa', 'and', 'lucca'): 1, ('and', 'lucca', 'are'): 1, ('lucca', 'are', 'now'): 1, ('are', 'now', 'just'): 1, ('now', 'just', 'family'): 1, ('just', 'family', 'estates'): 1, ('family', 'estates', 'of'): 1, ('estates', 'of', 'the'): 1, ('of', 'the', 'buonapartes'): 1, ('the', 'buonapartes', '~'): 1, ('buonapartes', '~', '~'): 1, ('~', 'but', 'i'): 1, ('but', 'i', 'warn'): 1, ('i', 'warn', 'you'): 1, ('warn', 'you', 'if'): 1, ('you', 'if', 'you'): 1, ('if', 'you', 'don'): 1, ('you', 'don', 't'): 1, ('don', 't', 'tell'): 1, ('t', 'tell', 'me'): 1, ('tell', 'me', 'that'): 1, ('me', 'that', 'this'): 1, ('that', 'this', 'means'): 1, ('this', 'means', 'war'): 1, ('means', 'war', 'if'): 1, ('war', 'if', 'you'): 1, ('if', 'you', 'still'): 1, ('you', 'still', 'try'): 1, ('still', 'try', 'to'): 1, ('try', 'to', 'defend'): 1, ('to', 'defend', 'the'): 1, ('defend', 'the', 'infamies'): 1, ('the', 'infamies', 'and'): 1, ('infamies', 'and', 'horrors'): 1, ('and', 'horrors', 'perpetrated'): 1, ('horrors', 'perpetrated', 'by'): 1, ('perpetrated', 'by', 'that'): 1, ('by', 'that', 'antichrist'): 1, ('that', 'antichrist', 'i'): 1, ('antichrist', 'i', 'really'): 1, ('i', 'really', 'believe'): 1, ('really', 'believe', 'he'): 1, ('believe', 'he', 'is'): 1, ('he', 'is', 'antichrist'): 1, ('is', 'antichrist', 'i'): 1, ('antichrist', 'i', 'will'): 1, ('i', 'will', 'have'): 1, ('will', 'have', 'nothing'): 1, ('have', 'nothing', 'more'): 1, ('nothing', 'more', 'to'): 1, ('more', 'to', 'do'): 1, ('to', 'do', 'with'): 1, ('do', 'with', 'you'): 1, ('with', 'you', 'and'): 1, ('you', 'and', 'you'): 1, ('and', 'you', 'are'): 1, ('you', 'are', 'no'): 1, ('are', 'no', 'longer'): 1, ('longer', 'my', 'friend'): 1, ('my', 'friend', 'no'): 1, ('friend', 'no', 'longer'): 1, ('longer', 'my', 'faithful'): 1, ('my', 'faithful', 'slave'): 1, ('faithful', 'slave', 'as'): 1, ('slave', 'as', 'you'): 1, ('as', 'you', 'call'): 1, ('you', 'call', 'yourself'): 1, ('call', 'yourself', '~'): 1, ('yourself', '~', '~'): 1, ('~', 'but', 'how'): 1, ('but', 'how', 'do'): 1, ('how', 'do', 'you'): 1, ('do', 'you', 'do'): 1, ('you', 'do', '~'): 1, ('do', '~', '~'): 1, ('~', '~', 'i'): 1, ('~', 'i', 'see'): 1, ('i', 'see', 'i'): 1, ('see', 'i', 'have'): 1, ('i', 'have', 'frightened'): 1, ('have', 'frightened', 'you'): 1, ('frightened', 'you', 'sit'): 1, ('you', 'sit', 'down'): 1, ('sit', 'down', 'and'): 1, ('down', 'and', 'tell'): 1, ('and', 'tell', 'me'): 1, ('tell', 'me', 'all'): 1, ('me', 'all', 'the'): 1, ('all', 'the', 'news'): 1, ('the', 'news', '~'): 1, ('news', '~', '~'): 1, ('~', '~', 'it'): 1, ('~', 'it', 'was'): 1, ('it', 'was', 'in'): 1, ('was', 'in', 'july'): 1, ('in', 'july', '1805'): 1, ('july', '1805', 'and'): 1, ('1805', 'and', 'the'): 1, ('and', 'the', 'speaker'): 1, ('the', 'speaker', 'was'): 1, ('speaker', 'was', 'the'): 1, ('was', 'the', 'well'): 1, ('the', 'well', 'known'): 1, ('well', 'known', 'anna'): 1, ('known', 'anna', 'pavlovna'): 1, ('anna', 'pavlovna', 'scherer'): 1, ('pavlovna', 'scherer', 'maid'): 1, ('scherer', 'maid', 'of'): 1, ('maid', 'of', 'honor'): 1, ('of', 'honor', 'and'): 1, ('honor', 'and', 'favorite'): 1, ('and', 'favorite', 'of'): 1, ('favorite', 'of', 'the'): 1, ('of', 'the', 'empress'): 1, ('the', 'empress', 'marya'): 1, ('empress', 'marya', 'fedorovna'): 1, ('marya', 'fedorovna', '~'): 1, ('fedorovna', '~', '~'): 1, ('~', '~', 'with'): 1, ('~', 'with', 'these'): 1, ('with', 'these', 'words'): 1, ('these', 'words', 'she'): 1, ('words', 'she', 'greeted'): 1, ('she', 'greeted', 'prince'): 1, ('greeted', 'prince', 'vasili'): 1, ('prince', 'vasili', 'kuragin'): 1, ('vasili', 'kuragin', 'a'): 1, ('kuragin', 'a', 'man'): 1, ('a', 'man', 'of'): 1, ('man', 'of', 'high'): 1, ('of', 'high', 'rank'): 1, ('high', 'rank', 'and'): 1, ('rank', 'and', 'importance'): 1, ('and', 'importance', 'who'): 1, ('importance', 'who', 'was'): 1, ('who', 'was', 'the'): 1, ('was', 'the', 'first'): 1, ('the', 'first', 'to'): 1, ('first', 'to', 'arrive'): 1, ('to', 'arrive', 'at'): 1, ('arrive', 'at', 'her'): 1, ('at', 'her', 'reception'): 1, ('her', 'reception', '~'): 1, ('reception', '~', '~'): 1, ('~', '~', 'anna'): 1, ('~', 'anna', 'pavlovna'): 1, ('anna', 'pavlovna', 'had'): 1, ('pavlovna', 'had', 'had'): 1, ('had', 'had', 'a'): 1, ('had', 'a', 'cough'): 1, ('a', 'cough', 'for'): 1, ('cough', 'for', 'some'): 1, ('for', 'some', 'days'): 1, ('some', 'days', '~'): 1, ('days', '~', '~'): 1, ('~', '~', 'she'): 1, ('~', 'she', 'was'): 1, ('she', 'was', 'as'): 1, ('was', 'as', 'she'): 1, ('as', 'she', 'said'): 1, ('she', 'said', 'suffering'): 1, ('said', 'suffering', 'from'): 1, ('suffering', 'from', 'la'): 1, ('from', 'la', 'grippe'): 1, ('la', 'grippe', 'grippe'): 1, ('grippe', 'grippe', 'being'): 1, ('grippe', 'being', 'then'): 1, ('being', 'then', 'a'): 1, ('then', 'a', 'new'): 1, ('a', 'new', 'word'): 1, ('new', 'word', 'in'): 1, ('word', 'in', 'st'): 1, ('in', 'st', 'petersburg'): 1, ('st', 'petersburg', 'used'): 1, ('petersburg', 'used', 'only'): 1, ('used', 'only', 'by'): 1, ('only', 'by', 'the'): 1, ('by', 'the', 'elite'): 1, ('the', 'elite', '~'): 1, ('elite', '~', '~'): 1, ('~', '~', 'all'): 1, ('~', 'all', 'her'): 1, ('all', 'her', 'invitations'): 1, ('her', 'invitations', 'without'): 1, ('invitations', 'without', 'exception'): 1, ('without', 'exception', 'written'): 1, ('exception', 'written', 'in'): 1, ('written', 'in', 'french'): 1, ('in', 'french', 'and'): 1, ('french', 'and', 'delivered'): 1, ('and', 'delivered', 'by'): 1, ('delivered', 'by', 'a'): 1, ('by', 'a', 'scarlet'): 1, ('a', 'scarlet', 'liveried'): 1, ('scarlet', 'liveried', 'footman'): 1, ('liveried', 'footman', 'that'): 1, ('footman', 'that', 'morning'): 1, ('that', 'morning', 'ran'): 1, ('morning', 'ran', 'as'): 1, ('ran', 'as', 'follows'): 1, ('as', 'follows', 'if'): 1, ('follows', 'if', 'you'): 1, ('if', 'you', 'have'): 1, ('you', 'have', 'nothing'): 1, ('have', 'nothing', 'better'): 1, ('nothing', 'better', 'to'): 1, ('better', 'to', 'do'): 1, ('to', 'do', 'count'): 1, ('do', 'count', 'or'): 1, ('count', 'or', 'prince'): 1, ('or', 'prince', 'and'): 1, ('prince', 'and', 'if'): 1, ('and', 'if', 'the'): 1, ('if', 'the', 'prospect'): 1, ('the', 'prospect', 'of'): 1, ('prospect', 'of', 'spending'): 1, ('of', 'spending', 'an'): 1, ('spending', 'an', 'evening'): 1, ('an', 'evening', 'with'): 1, ('evening', 'with', 'a'): 1, ('with', 'a', 'poor'): 1, ('a', 'poor', 'invalid'): 1, ('poor', 'invalid', 'is'): 1, ('invalid', 'is', 'not'): 1, ('is', 'not', 'too'): 1, ('not', 'too', 'terrible'): 1, ('too', 'terrible', 'i'): 1, ('terrible', 'i', 'shall'): 1, ('i', 'shall', 'be'): 1, ('shall', 'be', 'very'): 1, ('be', 'very', 'charmed'): 1, ('very', 'charmed', 'to'): 1, ('charmed', 'to', 'see'): 1, ('to', 'see', 'you'): 1, ('see', 'you', 'tonight'): 1, ('you', 'tonight', 'between'): 1, ('tonight', 'between', '7'): 1, ('between', '7', 'and'): 1, ('7', 'and', '10'): 1, ('and', '10', 'annette'): 1, ('10', 'annette', 'scherer'): 1, ('annette', 'scherer', '~'): 1, ('scherer', '~', '~'): 1, ('~', '~', 'heavens'): 1, ('~', 'heavens', '~'): 1, ('heavens', '~', '~'): 1})\n"
     ]
    }
   ],
   "source": [
    "# Test your implementation on some sentences from the corpus we downloaded above\n",
    "# and verify if it works correctly.\n",
    "text = corpus[:10]\n",
    "print(text)\n",
    "\n",
    "ngrams = generate_ngrams_sentences(text, 3)\n",
    "print(ngrams)"
   ]
  },
  {
   "cell_type": "code",
   "execution_count": 20,
   "metadata": {
    "colab": {
     "base_uri": "https://localhost:8080/",
     "height": 47
    },
    "deletable": false,
    "editable": false,
    "id": "pgDfiTQjl3GV",
    "outputId": "064330d1-a80b-4def-89c8-24cf8019fc04"
   },
   "outputs": [
    {
     "data": {
      "text/html": [
       "<p><strong><pre style='display: inline;'>warmup-ngram</pre></strong> passed!</p>"
      ],
      "text/plain": [
       "warmup-ngram results: All test cases passed!"
      ]
     },
     "execution_count": 20,
     "metadata": {},
     "output_type": "execute_result"
    }
   ],
   "source": [
    "grader.check(\"warmup-ngram\")"
   ]
  },
  {
   "cell_type": "markdown",
   "metadata": {
    "id": "igo0_GcfRcX7",
    "pycharm": {
     "name": "#%% md\n"
    }
   },
   "source": [
    "<!-- BEGIN QUESTION -->\n",
    "\n",
    "__Question:__ Plot a histogram of counts vs. number of unigrams with that count (you can choose a subset of the corpus, say 500 sentences). Repeat for bigrams and trigrams. They should be all placed into a single plot. _(3 points)_"
   ]
  },
  {
   "cell_type": "code",
   "execution_count": 21,
   "metadata": {
    "colab": {
     "base_uri": "https://localhost:8080/",
     "height": 382
    },
    "id": "pccdFETSl3GV",
    "outputId": "cf9b5038-5a73-465f-fb7f-175272eafedb",
    "pycharm": {
     "name": "#%%\n"
    },
    "tags": []
   },
   "outputs": [
    {
     "data": {
      "image/png": "[encoded data removed]",
      "text/plain": [
       "<Figure size 1440x720 with 3 Axes>"
      ]
     },
     "metadata": {},
     "output_type": "display_data"
    }
   ],
   "source": [
    "fig, axs = plt.subplots(1, 3, tight_layout=True)\n",
    "import seaborn\n",
    "seaborn.set_style(\"dark\")\n",
    "seaborn.set(rc={'figure.figsize':(20,10)})\n",
    "\n",
    "# Picks a subset of the corpus\n",
    "# TODO: Your code here\n",
    "mini_corpus = corpus[:200]\n",
    "base1 = axs[0]\n",
    "base2 = axs[1]\n",
    "base3 = axs[2]\n",
    "\n",
    "# Unigram counts\n",
    "# TODO: Your code here\n",
    "if mini_corpus is not None:\n",
    "  output1 = generate_ngrams_sentences(mini_corpus, 1)\n",
    "base1.hist(output1.values())\n",
    "\n",
    "# Bigram counts\n",
    "# TODO: Your code here\n",
    "if mini_corpus is not None:\n",
    "  output2 = generate_ngrams_sentences(mini_corpus, 2)\n",
    "base2.hist(output2.values())\n",
    "\n",
    "# Trigram counts\n",
    "# TODO: Your code here\n",
    "if mini_corpus is not None:\n",
    "  output3 = generate_ngrams_sentences(mini_corpus, 3)\n",
    "base3.hist(output3.values())\n",
    "\n",
    "plt.show()"
   ]
  },
  {
   "cell_type": "markdown",
   "metadata": {
    "id": "lOBzYm5Yl3GV",
    "pycharm": {
     "name": "#%% md\n"
    }
   },
   "source": [
    "<!-- END QUESTION -->\n",
    "\n",
    "<!-- BEGIN QUESTION -->\n",
    "\n",
    "__Question:__ What observation can you make from the plots? _(2 points)_"
   ]
  },
  {
   "cell_type": "markdown",
   "metadata": {
    "id": "4m3ctuMZl3GV",
    "pycharm": {
     "name": "#%% md\n"
    }
   },
   "source": [
    "__Answer:__"
   ]
  },
  {
   "cell_type": "markdown",
   "metadata": {
    "id": "FHw3RXbPl3GW"
   },
   "source": [
    "For every grams plot, the whole plot follows the long-tailed distribution."
   ]
  },
  {
   "cell_type": "markdown",
   "metadata": {
    "id": "GtFid2zSLIaU",
    "pycharm": {
     "name": "#%% md\n"
    }
   },
   "source": [
    "<!-- END QUESTION -->\n",
    "\n",
    "### Implementing an n-gram language model\n",
    "\n",
    "Next, you will implement a class for an trigram (n=3) language model. This will be a barebones trigram LM, i.e., no smoothing or OOV handling is required. Complete\n",
    "the functions in the following `NgramLM` class. _(20 points)_\n",
    "\n",
    "Note that the class itself is\n",
    "for a general n-gram LM, but we will instantiate it with n=3."
   ]
  },
  {
   "cell_type": "code",
   "execution_count": 22,
   "metadata": {
    "id": "TEDwFtlFMNhP",
    "pycharm": {
     "name": "#%%\n"
    },
    "tags": []
   },
   "outputs": [],
   "source": [
    "class NgramLM(object):\n",
    "    \"\"\"A basic n-gram language model without any smoothing.\"\"\"\n",
    "\n",
    "    def __init__(self, n: int):\n",
    "        assert (isinstance(n, int) and n > 0)\n",
    "        \n",
    "        self.n: int = n\n",
    "        self.vocab: Set[str] = set()  # A set of all words appearing in the corpus.\n",
    "        self.ngrams = Counter()  # count(ABC) - Dict[Tuple, int]\n",
    "        self.ngram_contexts = Counter()  # count(AB) - Dict[Tuple, int]\n",
    "        self.contexts = defaultdict(set)  # {AB: {C1,C2,C2}} - Dict[Tuple, Set[str]]\n",
    "        \n",
    "    def generate_ngrams(self, text: List[str]) -> Counter:\n",
    "        \"\"\"Generates all n-grams (i.e. n-1 context words) for the given text.\n",
    "        In this method, we assume n is defined at the class initialization,\n",
    "        so you should use `self.n`.\n",
    "\n",
    "        Parameters\n",
    "        ----------\n",
    "        text : List[str]\n",
    "            Input text (list of strings) after tokenization.\n",
    "\n",
    "        Returns\n",
    "        -------\n",
    "        ngrams : Counter\n",
    "            Output n-grams dictionary as {ngram: count} (Dict[Tuple, int]), \n",
    "            where `ngram` is a n-gram tuple and `count` is an integer count.\n",
    "            e.g. ('Mary','has') and value as count of the n-gram in the text.\n",
    "        \"\"\"\n",
    "        return generate_ngrams(text, self.n)\n",
    "    \n",
    "    def generate_ngrams_sentences(self, text: List[List[str]]) -> Counter:\n",
    "        \"\"\"Generates n-grams for each sentence and aggregates them.\"\"\"\n",
    "        return generate_ngrams_sentences(text, self.n)\n",
    "\n",
    "    def update(self, text: List[str]):\n",
    "        \"\"\"Updates the model n-grams based on the given text input.\n",
    "        \n",
    "        Parameters\n",
    "        ----------\n",
    "        text : List[str]\n",
    "        \"\"\"\n",
    "        # TODO: Your code here\n",
    "\n",
    "        text_copy = text\n",
    "\n",
    "        N = self.n\n",
    "\n",
    "        def keys_generation(text):\n",
    "          for key in generate_ngrams(text,1).keys():\n",
    "            self.vocab.add(key[0])\n",
    "\n",
    "        #update ngrams\n",
    "        self.ngrams.update(generate_ngrams(text_copy,self.n))\n",
    "        updated_ngrams = generate_ngrams(text_copy,self.n)\n",
    "        \n",
    "        #update contexts\n",
    "        for x in updated_ngrams.keys():\n",
    "          self.ngram_contexts[x[:N-1]] = self.ngram_contexts[x[:N-1]] + updated_ngrams[x]\n",
    "          x_tail = x[N-1]\n",
    "          self.contexts[x[:N-1]].add(x_tail)\n",
    "\n",
    "        #call vocab update\n",
    "        keys_generation(text_copy)\n",
    "\n",
    "    def word_prob(self, context: Tuple[str], word: str) -> float:\n",
    "        \"\"\"Returns the probability of a word given a context. The context is a\n",
    "        string of words, with length n-1. \n",
    "        \n",
    "        Parameters\n",
    "        ----------\n",
    "        context : Tuple[str]\n",
    "            A tuple of words describing the context for the next word.\n",
    "        word : str\n",
    "            The next word that the probability is computed for.\n",
    "            \n",
    "        Returns\n",
    "        -------\n",
    "        prob : float\n",
    "            The estimated probability of the next word given the context.\n",
    "        \"\"\"\n",
    "        # TODO: Your code here\n",
    "        \n",
    "        return (self.ngrams[context + (str(word), )] / self.ngram_contexts[context])\n",
    "        \n",
    "    def next_word_candidates(self, context: Tuple[str]) -> List[str]:\n",
    "        \"\"\"Generates a list of tokens based on the given context, which would be\n",
    "        later used as candidates for the next word prediction.\n",
    "        \n",
    "        Parameters\n",
    "        ----------\n",
    "        context : Tuple[str]\n",
    "            A tuple of words describing the context for the next word.\n",
    "            \n",
    "        Returns\n",
    "        -------\n",
    "        words : List[str]\n",
    "            A list of candidate tokens for the next word.\n",
    "        \"\"\"\n",
    "        # TODO: Your code here\n",
    "        \n",
    "        temp_cotexts = []\n",
    "        assert context in self.contexts, f'context={context}.'\n",
    "        \n",
    "        #print(type(self.contexts[context]))\n",
    "        return list(self.contexts[context])\n",
    "\n",
    "\n",
    "    def random_word(self, context: Tuple[str]) -> str:\n",
    "        \"\"\"Generates a random word based on the given context.\n",
    "        \n",
    "        Note: \n",
    "        Please use a random function from `random` instead of `numpy`;\n",
    "        otherwise, the autograder might not be happy.\n",
    "        \n",
    "        Parameters\n",
    "        ----------\n",
    "        context : Tuple[str]\n",
    "            A tuple of words describing the context for the next word.\n",
    "            \n",
    "        Returns\n",
    "        -------\n",
    "        word : str\n",
    "            One randomly drawn word from the distribution defined given the context.\n",
    "        \"\"\"\n",
    "        assert context in self.contexts, f'Encountered unseen context={context}.'\n",
    "        \n",
    "        # TODO: Your code here\n",
    "        \n",
    "        #word_group = random.choices(self.contexts[context], 1)\n",
    "        word_group = random.sample(self.contexts[context], 1)\n",
    "        \n",
    "        if word_group:\n",
    "          word_choice = word_group[0]\n",
    "        \n",
    "        return word_choice\n",
    "\n",
    "    def random_text(self, length: int) -> List[str]:\n",
    "        \"\"\"Generates random text of the specified word length excluding \"~\" (BOS).\n",
    "        \n",
    "        Note: \n",
    "        - The final word of the generated text *can* be \"~\" (EOS), but it is not necessary.\n",
    "        - The generation should always start with \"~\" (BOS).\n",
    "        - Only the number of starting \"~\" (BOS) is excluded from the generation, any \n",
    "        ending \"~\" (EOS) is still counted to the `length`. It means that you should \n",
    "        draw a number of `length` samples.\n",
    "        \n",
    "        Note: \n",
    "        Please use a random function from `random` instead of `numpy`;\n",
    "        otherwise, the autograder might not be happy.\n",
    "        \n",
    "        Parameters\n",
    "        ----------\n",
    "        length : int\n",
    "            The designated length to generate.\n",
    "        \n",
    "        \"\"\"\n",
    "        # TODO: Your code here\n",
    "        \n",
    "        #init\n",
    "        res = []\n",
    "\n",
    "        text_for_random_text = ['~']*(self.n-1)\n",
    "        \n",
    "        for index in range(length):\n",
    "            \n",
    "            #generate random word\n",
    "            temp_tuple = tuple(text_for_random_text[1-self.n:])\n",
    "            random_word = self.random_word(temp_tuple)\n",
    "        \n",
    "            if random_word:\n",
    "              text_for_random_text.append(random_word)\n",
    "            \n",
    "            if random_word == '~':\n",
    "              res.append(text_for_random_text)\n",
    "              text_for_random = ['~']*(self.n-1)\n",
    "              continue\n",
    "        \n",
    "        #random text list\n",
    "        return text_for_random_text\n",
    "\n"
   ]
  },
  {
   "cell_type": "code",
   "execution_count": 23,
   "metadata": {
    "cellView": "code",
    "id": "8krtKhK7XLbM",
    "pycharm": {
     "name": "#%%\n"
    },
    "tags": []
   },
   "outputs": [],
   "source": [
    "# Training block for a trigram language model\n",
    "trigramlm = NgramLM(3)\n",
    "for sentence in corpus:\n",
    "    trigramlm.update(sentence)"
   ]
  },
  {
   "cell_type": "code",
   "execution_count": 24,
   "metadata": {
    "colab": {
     "base_uri": "https://localhost:8080/",
     "height": 1000
    },
    "deletable": false,
    "editable": false,
    "id": "Cs_N0phol3GW",
    "outputId": "f908a02c-2628-4dec-c450-ea38dfb0bd4b"
   },
   "outputs": [
    {
     "data": {
      "text/html": [
       "<p><strong style='color: red;'><pre style='display: inline;'>ngramlm-impl</pre> results:</strong></p><p><strong><pre style='display: inline;'>ngramlm-impl - 1</pre> message:</strong> Failed testing `.update()` method.</p><p><strong><pre style='display: inline;'>ngramlm-impl - 1</pre> result:</strong></p><pre>    Trying:\n",
       "        def pub_test_check_update():\n",
       "            trigram_to_test = NgramLM(n=3)\n",
       "            trigram_to_test.update(corpus[0])\n",
       "        \n",
       "            # contexts\n",
       "            for ctx, words in random.choices(list(trigramlm.contexts.items()), k=10):\n",
       "                ngram_words = set()\n",
       "                for ng, count in trigramlm.ngrams.items():\n",
       "                    if ng[:-1] != ctx:\n",
       "                        continue\n",
       "                    ngram_words.add(ng[-1])\n",
       "                assert words == ngram_words, f'Seen words in `contexts` do not match with `ngrams`, {words} != {ngram_words}'\n",
       "        \n",
       "            # vocab\n",
       "            ref_vocab = {'and', 'are', 'buonapartes', 'estates', 'family', 'genoa', 'just', 'lucca', 'now', 'of', 'prince', 'so', 'the', 'well', '~'}\n",
       "            assert '~' in trigramlm.vocab, '~ is not in the Vocab.'\n",
       "            assert len(trigram_to_test.vocab & ref_vocab) == 15, 'Vocab is not updated correctly.'\n",
       "        \n",
       "            # ngrams\n",
       "            ref_counter = Counter({('~', '~', 'well'): 1,\n",
       "                 ('~', 'well', 'prince'): 1,\n",
       "                 ('well', 'prince', 'so'): 1,\n",
       "                 ('prince', 'so', 'genoa'): 1,\n",
       "                 ('so', 'genoa', 'and'): 1,\n",
       "                 ('genoa', 'and', 'lucca'): 1,\n",
       "                 ('and', 'lucca', 'are'): 1,\n",
       "                 ('lucca', 'are', 'now'): 1,\n",
       "                 ('are', 'now', 'just'): 1,\n",
       "                 ('now', 'just', 'family'): 1,\n",
       "                 ('just', 'family', 'estates'): 1,\n",
       "                 ('family', 'estates', 'of'): 1,\n",
       "                 ('estates', 'of', 'the'): 1,\n",
       "                 ('of', 'the', 'buonapartes'): 1,\n",
       "                 ('the', 'buonapartes', '~'): 1,\n",
       "                 ('buonapartes', '~', '~'): 1})\n",
       "            assert set(trigram_to_test.ngrams.keys()) == set(ref_counter.keys()), 'Wrong ngram counting.'\n",
       "            for k in ref_counter.keys():\n",
       "                assert trigram_to_test.ngrams[k] == ref_counter[k], f'{trigram_to_test.ngrams[k]} != {ref_counter[k]}'\n",
       "            \n",
       "            # ngram_contexts\n",
       "            context_ref_counter = Counter({('~', '~'): 1,\n",
       "                 ('~', 'well'): 1,\n",
       "                 ('well', 'prince'): 1,\n",
       "                 ('prince', 'so'): 1,\n",
       "                 ('so', 'genoa'): 1,\n",
       "                 ('genoa', 'and'): 1,\n",
       "                 ('and', 'lucca'): 1,\n",
       "                 ('lucca', 'are'): 1,\n",
       "                 ('are', 'now'): 1,\n",
       "                 ('now', 'just'): 1,\n",
       "                 ('just', 'family'): 1,\n",
       "                 ('family', 'estates'): 1,\n",
       "                 ('estates', 'of'): 1,\n",
       "                 ('of', 'the'): 1,\n",
       "                 ('the', 'buonapartes'): 1,\n",
       "                 ('buonapartes', '~'): 1})\n",
       "            assert set(trigram_to_test.ngram_contexts.keys()) == set(context_ref_counter.keys()), 'Wrong ngram context updates.'\n",
       "            for k in context_ref_counter.keys():\n",
       "                assert trigram_to_test.ngram_contexts[k] == context_ref_counter[k], f'{trigram_to_test.ngram_contexts[k]} != {context_ref_counter[k]}'\n",
       "    Expecting nothing\n",
       "    ok\n",
       "    Trying:\n",
       "        pub_test_check_update()\n",
       "    Expecting nothing\n",
       "    **********************************************************************\n",
       "    Line 61, in ngramlm-impl 0\n",
       "    Failed example:\n",
       "        pub_test_check_update()\n",
       "    Exception raised:\n",
       "        Traceback (most recent call last):\n",
       "          File \"/Users/jiangxingnandecomputer/opt/anaconda3/lib/python3.9/doctest.py\", line 1334, in __run\n",
       "            exec(compile(example.source, filename, \"single\",\n",
       "          File \"<doctest ngramlm-impl 0[1]>\", line 1, in <module>\n",
       "            pub_test_check_update()\n",
       "          File \"<doctest ngramlm-impl 0[0]>\", line 16, in pub_test_check_update\n",
       "            assert '~' in trigramlm.vocab, '~ is not in the Vocab.'\n",
       "        AssertionError: ~ is not in the Vocab.\n",
       "</pre><p><strong><pre style='display: inline;'>ngramlm-impl - 2</pre> result:</strong></p><pre>    Test case passed!</pre><p><strong><pre style='display: inline;'>ngramlm-impl - 3</pre> result:</strong></p><pre>    Test case passed!</pre><p><strong><pre style='display: inline;'>ngramlm-impl - 4</pre> result:</strong></p><pre>    Test case passed!</pre><p><strong><pre style='display: inline;'>ngramlm-impl - 5</pre> result:</strong></p><pre>    Test case passed!</pre>"
      ],
      "text/plain": [
       "ngramlm-impl results:\n",
       "    ngramlm-impl - 1 message: Failed testing `.update()` method.\n",
       "\n",
       "    ngramlm-impl - 1 result:\n",
       "        Trying:\n",
       "            def pub_test_check_update():\n",
       "                trigram_to_test = NgramLM(n=3)\n",
       "                trigram_to_test.update(corpus[0])\n",
       "        \n",
       "                # contexts\n",
       "                for ctx, words in random.choices(list(trigramlm.contexts.items()), k=10):\n",
       "                    ngram_words = set()\n",
       "                    for ng, count in trigramlm.ngrams.items():\n",
       "                        if ng[:-1] != ctx:\n",
       "                            continue\n",
       "                        ngram_words.add(ng[-1])\n",
       "                    assert words == ngram_words, f'Seen words in `contexts` do not match with `ngrams`, {words} != {ngram_words}'\n",
       "        \n",
       "                # vocab\n",
       "                ref_vocab = {'and', 'are', 'buonapartes', 'estates', 'family', 'genoa', 'just', 'lucca', 'now', 'of', 'prince', 'so', 'the', 'well', '~'}\n",
       "                assert '~' in trigramlm.vocab, '~ is not in the Vocab.'\n",
       "                assert len(trigram_to_test.vocab & ref_vocab) == 15, 'Vocab is not updated correctly.'\n",
       "        \n",
       "                # ngrams\n",
       "                ref_counter = Counter({('~', '~', 'well'): 1,\n",
       "                     ('~', 'well', 'prince'): 1,\n",
       "                     ('well', 'prince', 'so'): 1,\n",
       "                     ('prince', 'so', 'genoa'): 1,\n",
       "                     ('so', 'genoa', 'and'): 1,\n",
       "                     ('genoa', 'and', 'lucca'): 1,\n",
       "                     ('and', 'lucca', 'are'): 1,\n",
       "                     ('lucca', 'are', 'now'): 1,\n",
       "                     ('are', 'now', 'just'): 1,\n",
       "                     ('now', 'just', 'family'): 1,\n",
       "                     ('just', 'family', 'estates'): 1,\n",
       "                     ('family', 'estates', 'of'): 1,\n",
       "                     ('estates', 'of', 'the'): 1,\n",
       "                     ('of', 'the', 'buonapartes'): 1,\n",
       "                     ('the', 'buonapartes', '~'): 1,\n",
       "                     ('buonapartes', '~', '~'): 1})\n",
       "                assert set(trigram_to_test.ngrams.keys()) == set(ref_counter.keys()), 'Wrong ngram counting.'\n",
       "                for k in ref_counter.keys():\n",
       "                    assert trigram_to_test.ngrams[k] == ref_counter[k], f'{trigram_to_test.ngrams[k]} != {ref_counter[k]}'\n",
       "            \n",
       "                # ngram_contexts\n",
       "                context_ref_counter = Counter({('~', '~'): 1,\n",
       "                     ('~', 'well'): 1,\n",
       "                     ('well', 'prince'): 1,\n",
       "                     ('prince', 'so'): 1,\n",
       "                     ('so', 'genoa'): 1,\n",
       "                     ('genoa', 'and'): 1,\n",
       "                     ('and', 'lucca'): 1,\n",
       "                     ('lucca', 'are'): 1,\n",
       "                     ('are', 'now'): 1,\n",
       "                     ('now', 'just'): 1,\n",
       "                     ('just', 'family'): 1,\n",
       "                     ('family', 'estates'): 1,\n",
       "                     ('estates', 'of'): 1,\n",
       "                     ('of', 'the'): 1,\n",
       "                     ('the', 'buonapartes'): 1,\n",
       "                     ('buonapartes', '~'): 1})\n",
       "                assert set(trigram_to_test.ngram_contexts.keys()) == set(context_ref_counter.keys()), 'Wrong ngram context updates.'\n",
       "                for k in context_ref_counter.keys():\n",
       "                    assert trigram_to_test.ngram_contexts[k] == context_ref_counter[k], f'{trigram_to_test.ngram_contexts[k]} != {context_ref_counter[k]}'\n",
       "        Expecting nothing\n",
       "        ok\n",
       "        Trying:\n",
       "            pub_test_check_update()\n",
       "        Expecting nothing\n",
       "        **********************************************************************\n",
       "        Line 61, in ngramlm-impl 0\n",
       "        Failed example:\n",
       "            pub_test_check_update()\n",
       "        Exception raised:\n",
       "            Traceback (most recent call last):\n",
       "              File \"/Users/jiangxingnandecomputer/opt/anaconda3/lib/python3.9/doctest.py\", line 1334, in __run\n",
       "                exec(compile(example.source, filename, \"single\",\n",
       "              File \"<doctest ngramlm-impl 0[1]>\", line 1, in <module>\n",
       "                pub_test_check_update()\n",
       "              File \"<doctest ngramlm-impl 0[0]>\", line 16, in pub_test_check_update\n",
       "                assert '~' in trigramlm.vocab, '~ is not in the Vocab.'\n",
       "            AssertionError: ~ is not in the Vocab.\n",
       "\n",
       "    ngramlm-impl - 2 result:\n",
       "        Test case passed!\n",
       "\n",
       "    ngramlm-impl - 3 result:\n",
       "        Test case passed!\n",
       "\n",
       "    ngramlm-impl - 4 result:\n",
       "        Test case passed!\n",
       "\n",
       "    ngramlm-impl - 5 result:\n",
       "        Test case passed!"
      ]
     },
     "execution_count": 24,
     "metadata": {},
     "output_type": "execute_result"
    }
   ],
   "source": [
    "grader.check(\"ngramlm-impl\")"
   ]
  },
  {
   "cell_type": "markdown",
   "metadata": {
    "id": "6tjcHSLol3GX",
    "pycharm": {
     "name": "#%% md\n"
    }
   },
   "source": [
    "__Question:__ What is the size of the training data (number of tokens)? _(1 point)_"
   ]
  },
  {
   "cell_type": "code",
   "execution_count": 25,
   "metadata": {
    "colab": {
     "base_uri": "https://localhost:8080/"
    },
    "id": "vNh0lq9Jl3GX",
    "outputId": "040f34f6-7a11-4c83-e8c8-27dbcba0aa2b",
    "pycharm": {
     "name": "#%%\n"
    },
    "tags": []
   },
   "outputs": [
    {
     "name": "stdout",
     "output_type": "stream",
     "text": [
      "sentence: 32040\n",
      "word: 571824\n"
     ]
    }
   ],
   "source": [
    "training_word_size = 0\n",
    "for i in corpus:\n",
    "  training_word_size += len(i)\n",
    "training_corpus_size = len(corpus)\n",
    "print(\"sentence: \" + str(training_corpus_size))\n",
    "print(\"word: \" + str(training_word_size))"
   ]
  },
  {
   "cell_type": "markdown",
   "metadata": {
    "id": "iTHJnKx_l3GX",
    "pycharm": {
     "name": "#%% md\n"
    }
   },
   "source": [
    "__Question:__ What is the size of the vocabulary? _(1 point)_"
   ]
  },
  {
   "cell_type": "code",
   "execution_count": 26,
   "metadata": {
    "colab": {
     "base_uri": "https://localhost:8080/"
    },
    "id": "TFblKI62l3GX",
    "outputId": "49999f87-797b-483f-b181-cf9f16c804d5",
    "pycharm": {
     "name": "#%%\n"
    },
    "tags": []
   },
   "outputs": [
    {
     "data": {
      "text/plain": [
       "17510"
      ]
     },
     "execution_count": 26,
     "metadata": {},
     "output_type": "execute_result"
    }
   ],
   "source": [
    "trigramlm_vocab_size = len(trigramlm.vocab)\n",
    "trigramlm_vocab_size"
   ]
  },
  {
   "cell_type": "markdown",
   "metadata": {
    "id": "shhXhONFl3GX",
    "pycharm": {
     "name": "#%% md\n"
    }
   },
   "source": [
    "<!-- BEGIN QUESTION -->\n",
    "\n",
    "__Question:__ What is the optimal time complexity of computing ngrams? How long does the training take? _(2 points)_\n",
    "\n",
    "*Note*: please use big-O notation to show the time complexity and explain variables involved accordingly."
   ]
  },
  {
   "cell_type": "markdown",
   "metadata": {
    "id": "6vVw8VHJl3GX",
    "pycharm": {
     "name": "#%% md\n"
    }
   },
   "source": [
    "__Answer:__ "
   ]
  },
  {
   "cell_type": "markdown",
   "metadata": {
    "id": "yL12R_YBl3GX"
   },
   "source": [
    "Optimal time complexity is O(n). Let's say that the time for n-gram tuple to import needs Ns, while the corpus size is C, then the training should take (CN)s. For my case, because it's not optimal, it takes around 4000-6000 ms."
   ]
  },
  {
   "cell_type": "code",
   "execution_count": 27,
   "metadata": {
    "colab": {
     "base_uri": "https://localhost:8080/"
    },
    "id": "bgVeiqNMl3GX",
    "outputId": "a382431a-45a1-4e8b-cfe8-d33039dd82aa",
    "pycharm": {
     "name": "#%%\n"
    },
    "tags": []
   },
   "outputs": [
    {
     "name": "stdout",
     "output_type": "stream",
     "text": [
      "training time in ms: 2593.920946121216\n"
     ]
    }
   ],
   "source": [
    "# TODO: put the training time (in ms) of a trigram LM below.\n",
    "import time\n",
    "\n",
    "beginning = time.time()\n",
    "\n",
    "trigramlm = NgramLM(3)\n",
    "for i in corpus:\n",
    "  trigramlm.update(i)\n",
    "\n",
    "trigram_training_time = time.time() - beginning\n",
    "print('training time in ms: ' + str(trigram_training_time * 1000))"
   ]
  },
  {
   "cell_type": "markdown",
   "metadata": {
    "id": "5RC2nZbUl3GX",
    "pycharm": {
     "name": "#%% md\n"
    }
   },
   "source": [
    "<!-- END QUESTION -->\n",
    "\n",
    "<!-- BEGIN QUESTION -->\n",
    "\n",
    "__Question:__ How would the training time scale if you have a corpus containing 1 billion tokens? Is this training time reasonable? If not, can you think of ways to improve it? _(2 points)_"
   ]
  },
  {
   "cell_type": "markdown",
   "metadata": {
    "id": "Dlxn8YSdasgO",
    "pycharm": {
     "name": "#%% md\n"
    }
   },
   "source": [
    "__Answer:__ "
   ]
  },
  {
   "cell_type": "markdown",
   "metadata": {
    "id": "a08VJZca2p7f"
   },
   "source": [
    "It will take around 5 - 7 h for my solution. It's not reasonable at all. I can improve through boosting my time complexity and memory efficiency."
   ]
  },
  {
   "cell_type": "markdown",
   "metadata": {
    "id": "RxTPrtaKbzf5",
    "pycharm": {
     "name": "#%% md\n"
    }
   },
   "source": [
    "<!-- END QUESTION -->\n",
    "\n",
    "#### Predicting/generating text using the trained LM\n",
    "\n",
    "One of the applications of an LM is to automatically predict the next word given a context (such as in Smart Keyboards), or to generate a piece of text of a given length. Use the `random_word` and `random_text` functions you implemented earlier to answer the questions below. For full credit, you need to show how you arrived at the answer."
   ]
  },
  {
   "cell_type": "markdown",
   "metadata": {
    "id": "dgQQ-KgTeGFm",
    "pycharm": {
     "name": "#%% md\n"
    }
   },
   "source": [
    "__Question:__ Please implement the function that computes an empirical distribution for the next word prediction conditioning on a context. Consider the context \"by her\". You can generate a random word for a large number of times, say 1000, using this context and count how many times each word are generated to calculate its empirical probability accordingly. _(3 points)_ "
   ]
  },
  {
   "cell_type": "code",
   "execution_count": 28,
   "metadata": {
    "id": "Hrr8pjJCl3GX",
    "pycharm": {
     "name": "#%%\n"
    },
    "tags": []
   },
   "outputs": [],
   "source": [
    "def compute_empirical_distribution(model: NgramLM, context: Tuple[str], num_samples: int) -> Dict[str, float]:\n",
    "    \"\"\"Computes an empirical distribution for the next word conditioning on the given context.\n",
    "    \n",
    "    Parameters\n",
    "    ----------\n",
    "    model : NgramLM\n",
    "        A trained Ngram Language Model.\n",
    "    context : Tuple[str]\n",
    "        The context used to predict a next word.\n",
    "    num_samples : int\n",
    "        The number of samples to be drawn to compute the empirical distribution.\n",
    "        \n",
    "    Returns\n",
    "    -------\n",
    "    emp_distr : Dict[str, float]\n",
    "        An empirical distribution for the next word \n",
    "    \n",
    "    \"\"\"\n",
    "    emp_distr: Dict[str, float] = {}\n",
    "        \n",
    "    # TODO: Your code here\n",
    "    token_list = list(model.next_word_candidates(context))\n",
    "\n",
    "    for i in range(len(token_list)):\n",
    "      word_prob = model.word_prob(context, token_list[i])\n",
    "      emp_distr[token_list[i]] = word_prob     \n",
    "    \n",
    "    return emp_distr"
   ]
  },
  {
   "cell_type": "code",
   "execution_count": 29,
   "metadata": {
    "colab": {
     "base_uri": "https://localhost:8080/"
    },
    "id": "5tLy5kSjl3GX",
    "outputId": "cee579d8-e4d6-4fdf-c2ec-68d715490e0e",
    "pycharm": {
     "name": "#%%\n"
    },
    "scrolled": true,
    "tags": []
   },
   "outputs": [
    {
     "name": "stdout",
     "output_type": "stream",
     "text": [
      "{'and': 0.022222222222222223, 'husband': 0.08888888888888889, 'spiritual': 0.022222222222222223, 'smiles': 0.022222222222222223, 'manners': 0.022222222222222223, 'attitude': 0.022222222222222223, 'beauty': 0.022222222222222223, 'sister': 0.044444444444444446, 'breadth': 0.022222222222222223, 'fullness': 0.022222222222222223, 'massive': 0.022222222222222223, 'father': 0.06666666666666667, 'own': 0.022222222222222223, 'brother': 0.022222222222222223, 'side': 0.022222222222222223, '~': 0.08888888888888889, 'daughter': 0.022222222222222223, 'self': 0.022222222222222223, 'friend': 0.022222222222222223, 'body': 0.022222222222222223, 'serious': 0.022222222222222223, 'presence': 0.022222222222222223, 'daughters': 0.022222222222222223, 'mother': 0.08888888888888889, 'bare': 0.022222222222222223, 'thoughts': 0.022222222222222223, 'image': 0.022222222222222223, 'garments': 0.022222222222222223, 'face': 0.022222222222222223, 'feelings': 0.022222222222222223, 'that': 0.022222222222222223, 'marriage': 0.022222222222222223, 'look': 0.022222222222222223}\n",
      "1.0000000000000002\n"
     ]
    }
   ],
   "source": [
    "compute_empirical_distribution_dict = compute_empirical_distribution(trigramlm, ('by', 'her'), 1000)\n",
    "print(compute_empirical_distribution_dict)\n",
    "print(sum(compute_empirical_distribution_dict.values()))"
   ]
  },
  {
   "cell_type": "code",
   "execution_count": 30,
   "metadata": {
    "colab": {
     "base_uri": "https://localhost:8080/",
     "height": 47
    },
    "deletable": false,
    "editable": false,
    "id": "12AAUdZpl3GX",
    "outputId": "60bd5c36-7da1-4b67-ddd0-69a613686515"
   },
   "outputs": [
    {
     "data": {
      "text/html": [
       "<p><strong><pre style='display: inline;'>ngramlm-empirical-distribution</pre></strong> passed!</p>"
      ],
      "text/plain": [
       "ngramlm-empirical-distribution results: All test cases passed!"
      ]
     },
     "execution_count": 30,
     "metadata": {},
     "output_type": "execute_result"
    }
   ],
   "source": [
    "grader.check(\"ngramlm-empirical-distribution\")"
   ]
  },
  {
   "cell_type": "markdown",
   "metadata": {
    "id": "9wOIHp1-l3GY",
    "pycharm": {
     "name": "#%% md\n"
    }
   },
   "source": [
    "<!-- BEGIN QUESTION -->\n",
    "\n",
    "__Question:__ Does the empirical probability match the output of `word_prob((\"by\", \"her\"), \"husband\")`? Could you explain why it matches or not? Could you propose a way to measure how the empirical distribution differs from the theoretical distribution? _(3 points)_ "
   ]
  },
  {
   "cell_type": "code",
   "execution_count": 31,
   "metadata": {
    "colab": {
     "base_uri": "https://localhost:8080/"
    },
    "id": "fbAeI2dM6Mz_",
    "outputId": "735ebd5e-7584-46c8-c1db-cb4dd4e628ce"
   },
   "outputs": [
    {
     "data": {
      "text/plain": [
       "0.08888888888888889"
      ]
     },
     "execution_count": 31,
     "metadata": {},
     "output_type": "execute_result"
    }
   ],
   "source": [
    "trigramlm.word_prob((\"by\", \"her\"), \"husband\")"
   ]
  },
  {
   "cell_type": "markdown",
   "metadata": {
    "id": "gej9Q0Ldl3GY",
    "pycharm": {
     "name": "#%% md\n"
    }
   },
   "source": [
    "__Answer:__ "
   ]
  },
  {
   "cell_type": "markdown",
   "metadata": {
    "id": "QjCgqKj4l3GY"
   },
   "source": [
    "Yes, it matched the output, although with some little difference.\n",
    "\n",
    "Because the test case and the whole case used the same training model, as the number of cases increase, the output will eventually become the same result.\n",
    "\n",
    "There are some basic stats models that we can use, such as z-test, Kullback-Leibler divergence, and Kolmogorov-Smirnov test.\n"
   ]
  },
  {
   "cell_type": "markdown",
   "metadata": {
    "id": "iy7Rtc7L6psV",
    "pycharm": {
     "name": "#%% md\n"
    }
   },
   "source": [
    "<!-- END QUESTION -->\n",
    "\n",
    "<!-- BEGIN QUESTION -->\n",
    "\n",
    "__Question:__ Generate a random text of length 100 words. Comment on the local and global semantics of the generated text. _(2 points)_"
   ]
  },
  {
   "cell_type": "markdown",
   "metadata": {
    "id": "kskAoByZl3GY",
    "pycharm": {
     "name": "#%% md\n"
    }
   },
   "source": [
    "__Answer:__"
   ]
  },
  {
   "cell_type": "markdown",
   "metadata": {
    "id": "LtyaXjtrl3GY"
   },
   "source": [
    "After many tests, I found that there is some meaning to the generated test text to some extent. For local semantics, it is not easy to understand. For global semantics, a certain level of understanding can be generated.\n",
    "\n",
    "But for those reading without prior knowledge, this text may not be understood."
   ]
  },
  {
   "cell_type": "code",
   "execution_count": 32,
   "metadata": {
    "colab": {
     "base_uri": "https://localhost:8080/",
     "height": 143
    },
    "id": "gcSrXyhwl3GY",
    "outputId": "18d5429d-0490-478d-9899-643db3cd4396",
    "pycharm": {
     "name": "#%%\n"
    },
    "tags": []
   },
   "outputs": [
    {
     "name": "stderr",
     "output_type": "stream",
     "text": [
      "/var/folders/k9/691k4f5j705dwsncm4d9t1gc0000gn/T/ipykernel_9424/1619355858.py:131: DeprecationWarning: Sampling from a set deprecated\n",
      "since Python 3.9 and will be removed in a subsequent version.\n",
      "  word_group = random.sample(self.contexts[context], 1)\n"
     ]
    },
    {
     "data": {
      "text/plain": [
       "'~ ~ forfeit forfeit ~ ~ after his admission to the dining hall where tables were drawn from history ~ ~ 3rd december awoke late read the then famous rescript of the heroic endurance of his accustomed rapidity ~ ~ truly ~ ~ count lichtenfels was here this morning he and those living in those beams he heard someone coming ~ ~ he wished to but simply to help them ~ ~ kind ly let them eat horseflesh ~ ~ angry ~ ~ lisa i m young and very pleasing ~ ~ tss tt ~ ~ clearly it is some kind of'"
      ]
     },
     "execution_count": 32,
     "metadata": {},
     "output_type": "execute_result"
    }
   ],
   "source": [
    "# TODO: Your code here\n",
    "sample_text = trigramlm.random_text(100)\n",
    "generated_text = ' '.join(word for word in sample_text)\n",
    "generated_text  # Please make sure this prints out a `str` instead of a `list`."
   ]
  },
  {
   "cell_type": "markdown",
   "metadata": {
    "id": "wjqzn5COl3GY",
    "pycharm": {
     "name": "#%% md\n"
    }
   },
   "source": [
    "<!-- END QUESTION -->\n",
    "\n",
    "<!-- BEGIN QUESTION -->\n",
    "\n",
    "__Question:__ Now train a 4-gram LM on the same data and generate a 100-word text again. Do you observe any differences between the outputs of the two models? _(2 points)_"
   ]
  },
  {
   "cell_type": "markdown",
   "metadata": {
    "id": "iepuif9Al3GY",
    "pycharm": {
     "name": "#%% md\n"
    }
   },
   "source": [
    "__Answer:__"
   ]
  },
  {
   "cell_type": "markdown",
   "metadata": {
    "id": "rs0ukwNMl3Ga"
   },
   "source": [
    "I didn't see a particularly noticeable difference. Whether it's in terms of text generation or semantic understanding, it may be necessary to test two models with larger gram differences."
   ]
  },
  {
   "cell_type": "code",
   "execution_count": 33,
   "metadata": {
    "id": "QFMvVRO4l3Ga",
    "pycharm": {
     "name": "#%%\n"
    },
    "scrolled": true,
    "tags": []
   },
   "outputs": [],
   "source": [
    "# You should train you 4-gram model here in the same way as training a trigram model\n",
    "# You should use the same `corpus` for training\n",
    "qgramlm = NgramLM(4)\n",
    "for sentence in corpus:\n",
    "  qgramlm.update(sentence)\n"
   ]
  },
  {
   "cell_type": "code",
   "execution_count": 34,
   "metadata": {
    "colab": {
     "base_uri": "https://localhost:8080/",
     "height": 125
    },
    "id": "4EKOoAijl3Ga",
    "outputId": "b31ba282-4de1-4baa-f1db-55efde43d128",
    "pycharm": {
     "name": "#%%\n"
    },
    "tags": []
   },
   "outputs": [
    {
     "name": "stderr",
     "output_type": "stream",
     "text": [
      "/var/folders/k9/691k4f5j705dwsncm4d9t1gc0000gn/T/ipykernel_9424/1619355858.py:131: DeprecationWarning: Sampling from a set deprecated\n",
      "since Python 3.9 and will be removed in a subsequent version.\n",
      "  word_group = random.sample(self.contexts[context], 1)\n"
     ]
    },
    {
     "data": {
      "text/plain": [
       "'~ ~ ~ karagina had replied that she had a promissory note from anna mikhaylovna for two thousand rubles incomprehensible as it seemed not to matter whether all or only half the things were treading heavily on the bed pale and dry eyed and was gazing at the left side and a second at smolensk he showed a scar on his cheek and this leg which as you see i took him into the arcade ~ ~ ~ historic figures were not borne by the waves from one shore to another as before ~ ~ ~ casually while surveying the squadron the emperor'"
      ]
     },
     "execution_count": 34,
     "metadata": {},
     "output_type": "execute_result"
    }
   ],
   "source": [
    "# TODO: Your code here\n",
    "ngramlm4_text = qgramlm.random_text(100)\n",
    "qgram_generated_text = ' '.join(word for word in ngramlm4_text)\n",
    "qgram_generated_text  # Please make sure this prints out a `str` instead of a `list`."
   ]
  },
  {
   "cell_type": "markdown",
   "metadata": {
    "id": "dYd25WDxY5uF"
   },
   "source": [
    "### Evaluating the LM: Perplexity\n",
    "\n",
    "In the context of language modeling, perplexity measures how an LM predicts a sample. It is computed as the per word inverse probability of a held-out set:\n",
    "\n",
    "$$ Perplexity(W) = P(W_1 W_2 \\ldots W_N)^{-1/N} $$\n",
    "\n",
    "Complete the following function which computes the perplexity of an ngram language model given the class object and a dataset (represented as a list of strings as done earlier). _(8 points)_\n",
    "\n",
    "__Note 1:__ You may assume that the text is normalized as done before, so no text processing is required in the function.\n",
    "\n",
    "__Note 2:__ Consider performing computations in the log domain to avoid underflow errors. Recall the log equalities:\n",
    "\n",
    "$$ P = 2^{\\log_2 P} $$\n",
    "$$ \\log (a_1 a_2 \\ldots a_N)^{1/N} = \\frac{1}{N}\\left( \\log a_1 + \\log a_2 + \\ldots + \\log a_N \\right) $$"
   ]
  },
  {
   "cell_type": "code",
   "execution_count": 35,
   "metadata": {
    "id": "yg5Ezw1PK4fo",
    "pycharm": {
     "name": "#%%\n"
    },
    "tags": []
   },
   "outputs": [],
   "source": [
    "def perplexity(model: NgramLM, data: List[List[str]]) -> float:\n",
    "    \"\"\"Function to compute perplexity of ngram LM.\n",
    "\n",
    "    Parameters\n",
    "    ----------\n",
    "    model : NgramLM\n",
    "        A class object denoted a trained `NgramLM`.\n",
    "    text : List[List[str]]\n",
    "        A list of sentences, where each sentence is a list of tokens.\n",
    "\n",
    "    Returns\n",
    "    -------\n",
    "    perp : float\n",
    "        Perplexity of the LM on given string.\n",
    "    \"\"\"\n",
    "    # TODO: Your code here\n",
    "    \n",
    "    #init\n",
    "    temp_1 = []\n",
    "    temp_2 = 0\n",
    "    temp_3 = 0\n",
    "    temp_4 = 0\n",
    "    temp_5 = 0\n",
    "    ngrams_sentences = generate_ngrams_sentences( data, model.n )\n",
    "    ngrams_keys = ngrams_sentences.keys()\n",
    "    \n",
    "    #iteration\n",
    "    for key in ngrams_keys:\n",
    "        \n",
    "        key_omit_last = key[:-1]\n",
    "\n",
    "        omitted_last = key[-1]\n",
    "        \n",
    "        temp_1.append(omitted_last)\n",
    "        \n",
    "        temp_4\n",
    "\n",
    "        key_value_prob = model.word_prob((key_omit_last),omitted_last)\n",
    "        \n",
    "        key_num = ngrams_sentences[key]\n",
    "\n",
    "        if np.isclose(key_value_prob, 0, atol=1e-6):\n",
    "            if temp_4 == 0:\n",
    "              return np.Inf\n",
    "        \n",
    "        for i in range(key_num):\n",
    "            temp_3 += np.log10(1/key_value_prob)\n",
    "        temp_2 += key_num\n",
    "    \n",
    "    temp_5 = temp_3/(temp_2)\n",
    "    \n",
    "    return 10**(temp_5)"
   ]
  },
  {
   "cell_type": "code",
   "execution_count": 36,
   "metadata": {
    "colab": {
     "base_uri": "https://localhost:8080/",
     "height": 47
    },
    "deletable": false,
    "editable": false,
    "id": "__lPVrGXl3Ga",
    "outputId": "2613741a-44ef-4667-ce67-b99dea434919"
   },
   "outputs": [
    {
     "data": {
      "text/html": [
       "<p><strong><pre style='display: inline;'>ngramlm-perp-impl</pre></strong> passed!</p>"
      ],
      "text/plain": [
       "ngramlm-perp-impl results: All test cases passed!"
      ]
     },
     "execution_count": 36,
     "metadata": {},
     "output_type": "execute_result"
    }
   ],
   "source": [
    "grader.check(\"ngramlm-perp-impl\")"
   ]
  },
  {
   "cell_type": "markdown",
   "metadata": {
    "id": "drgo2ZhMgvTA",
    "pycharm": {
     "name": "#%% md\n"
    }
   },
   "source": [
    "__Question:__ What is the perplexity of the model on the training corpus? _(1 point)_"
   ]
  },
  {
   "cell_type": "code",
   "execution_count": 37,
   "metadata": {
    "colab": {
     "base_uri": "https://localhost:8080/"
    },
    "id": "eWiy10LSNhl2",
    "outputId": "4c4634bd-9e51-48da-8b50-eecf9f1a6c49",
    "pycharm": {
     "name": "#%%\n"
    },
    "tags": []
   },
   "outputs": [
    {
     "data": {
      "text/plain": [
       "7.118221877915332"
      ]
     },
     "execution_count": 37,
     "metadata": {},
     "output_type": "execute_result"
    }
   ],
   "source": [
    "# TODO: Your code here\n",
    "trigram_perp_on_training = perplexity(trigramlm, corpus)\n",
    "trigram_perp_on_training"
   ]
  },
  {
   "cell_type": "code",
   "execution_count": 38,
   "metadata": {
    "colab": {
     "base_uri": "https://localhost:8080/",
     "height": 47
    },
    "deletable": false,
    "editable": false,
    "id": "Nnqd4GPDl3Ga",
    "outputId": "657fe923-d51f-49e4-f158-ff9fdb016d27"
   },
   "outputs": [
    {
     "data": {
      "text/html": [
       "<p><strong><pre style='display: inline;'>ngramlm-tri-perp-on-training</pre></strong> passed!</p>"
      ],
      "text/plain": [
       "ngramlm-tri-perp-on-training results: All test cases passed!"
      ]
     },
     "execution_count": 38,
     "metadata": {},
     "output_type": "execute_result"
    }
   ],
   "source": [
    "grader.check(\"ngramlm-tri-perp-on-training\")"
   ]
  },
  {
   "cell_type": "markdown",
   "metadata": {
    "id": "x6kIPjp58mDa",
    "pycharm": {
     "name": "#%% md\n"
    }
   },
   "source": [
    "__Question:__ What is the perplexity of the 4-gram LM you trained earlier on the training corpus? _(1 point)_"
   ]
  },
  {
   "cell_type": "code",
   "execution_count": 39,
   "metadata": {
    "colab": {
     "base_uri": "https://localhost:8080/"
    },
    "id": "99eNyxeZl3Gb",
    "outputId": "7bee23f6-2b0c-4a14-997c-d67b81b331d7",
    "pycharm": {
     "name": "#%%\n"
    },
    "tags": []
   },
   "outputs": [
    {
     "data": {
      "text/plain": [
       "2.282866387180322"
      ]
     },
     "execution_count": 39,
     "metadata": {},
     "output_type": "execute_result"
    }
   ],
   "source": [
    "# TODO: Your code here\n",
    "qgram_perp_on_training = perplexity(qgramlm, corpus)\n",
    "qgram_perp_on_training"
   ]
  },
  {
   "cell_type": "code",
   "execution_count": 40,
   "metadata": {
    "colab": {
     "base_uri": "https://localhost:8080/",
     "height": 47
    },
    "deletable": false,
    "editable": false,
    "id": "TWaHcLUil3Gb",
    "outputId": "55be56ac-8588-4a08-9b41-c8e9992577ec"
   },
   "outputs": [
    {
     "data": {
      "text/html": [
       "<p><strong><pre style='display: inline;'>ngramlm-quad-perp-on-training</pre></strong> passed!</p>"
      ],
      "text/plain": [
       "ngramlm-quad-perp-on-training results: All test cases passed!"
      ]
     },
     "execution_count": 40,
     "metadata": {},
     "output_type": "execute_result"
    }
   ],
   "source": [
    "grader.check(\"ngramlm-quad-perp-on-training\")"
   ]
  },
  {
   "cell_type": "markdown",
   "metadata": {
    "id": "giDoTrs9ORpD",
    "pycharm": {
     "name": "#%% md\n"
    }
   },
   "source": [
    "You will now use your above implementation to evaluate your model on a small held out development set from Leo Tolstoy's Anna Karenina. First we download and preprocess this data similar to how we did for the training set."
   ]
  },
  {
   "cell_type": "code",
   "execution_count": 41,
   "metadata": {
    "id": "wwmOEmrt5sMW",
    "pycharm": {
     "name": "#%%\n"
    }
   },
   "outputs": [],
   "source": [
    "# Process the text file to get the contents of Chapter 1\n",
    "try:\n",
    "    with open('1399-0.txt', 'r') as file:\n",
    "        dev_raw = file.read().replace('\\n', ' ')\n",
    "except FileNotFoundError:\n",
    "    with open('../../1399-0.txt', 'r') as file:\n",
    "        dev_raw = file.read().replace('\\n', ' ')"
   ]
  },
  {
   "cell_type": "code",
   "execution_count": 42,
   "metadata": {
    "colab": {
     "base_uri": "https://localhost:8080/"
    },
    "id": "zWqwXVzo6UJj",
    "outputId": "d2086842-e001-4fe0-880c-a7863a4a0fbc",
    "pycharm": {
     "name": "#%%\n"
    },
    "scrolled": true
   },
   "outputs": [
    {
     "name": "stdout",
     "output_type": "stream",
     "text": [
      "Dev data has 15882 sentences\n"
     ]
    }
   ],
   "source": [
    "pattern = \"Chapter 1(.*)Chapter 2\"\n",
    "dev_ch1 = re.search(pattern, dev_raw).group(1)\n",
    "\n",
    "sentences = sent_tokenize(dev_ch1)\n",
    "\n",
    "dev_text = []\n",
    "tokenizer = RegexpTokenizer(r'\\w+')\n",
    "for sentence in sentences:\n",
    "    tokens = tokenizer.tokenize(sentence)\n",
    "    dev_text.append([token.lower() for token in tokens])\n",
    "\n",
    "print(\"Dev data has {} sentences\".format(len(dev_text)))"
   ]
  },
  {
   "cell_type": "markdown",
   "metadata": {
    "id": "Mi8ach2U7Tx3",
    "pycharm": {
     "name": "#%% md\n"
    }
   },
   "source": [
    "__Question:__ Compute the perplexity of the 3-gram LM on the development set prepared above. _(1 points)_"
   ]
  },
  {
   "cell_type": "code",
   "execution_count": 43,
   "metadata": {
    "colab": {
     "base_uri": "https://localhost:8080/"
    },
    "id": "T-qiPw6p7PcG",
    "outputId": "737f671a-2e7e-41ec-d713-2a0e68250529",
    "pycharm": {
     "name": "#%%\n"
    },
    "tags": []
   },
   "outputs": [
    {
     "data": {
      "text/plain": [
       "inf"
      ]
     },
     "execution_count": 43,
     "metadata": {},
     "output_type": "execute_result"
    }
   ],
   "source": [
    "# TODO: Your code here\n",
    "trigram_perp_on_dev = perplexity(trigramlm, dev_text)\n",
    "trigram_perp_on_dev"
   ]
  },
  {
   "cell_type": "code",
   "execution_count": 44,
   "metadata": {
    "colab": {
     "base_uri": "https://localhost:8080/",
     "height": 47
    },
    "deletable": false,
    "editable": false,
    "id": "FeWlDzdYl3Gb",
    "outputId": "c7690039-60ee-4ec8-f82f-28e96577580a"
   },
   "outputs": [
    {
     "data": {
      "text/html": [
       "<p><strong><pre style='display: inline;'>ngramlm-tri-perp-on-dev</pre></strong> passed!</p>"
      ],
      "text/plain": [
       "ngramlm-tri-perp-on-dev results: All test cases passed!"
      ]
     },
     "execution_count": 44,
     "metadata": {},
     "output_type": "execute_result"
    }
   ],
   "source": [
    "grader.check(\"ngramlm-tri-perp-on-dev\")"
   ]
  },
  {
   "cell_type": "markdown",
   "metadata": {
    "id": "WDho_CV2l3Gb",
    "pycharm": {
     "name": "#%% md\n"
    }
   },
   "source": [
    "<!-- BEGIN QUESTION -->\n",
    "\n",
    "__Question:__ What is the reason for this perplexity value? _(2 points)_"
   ]
  },
  {
   "cell_type": "markdown",
   "metadata": {
    "id": "M681Cczrl3Gb",
    "pycharm": {
     "name": "#%% md\n"
    }
   },
   "source": [
    "__Answer:__"
   ]
  },
  {
   "cell_type": "markdown",
   "metadata": {
    "id": "hApl4YF1l3Gb"
   },
   "source": [
    "Because certain corpus currently used for training, which are not found in the original corpus, have a value of 0 for the function word_prob, resulting in infinitely large results."
   ]
  },
  {
   "cell_type": "markdown",
   "metadata": {
    "id": "PJRKm-HE8B7Q",
    "pycharm": {
     "name": "#%% md\n"
    }
   },
   "source": [
    "<!-- END QUESTION -->\n",
    "\n",
    "### Zeros and generalization\n",
    "\n",
    "From the above, you would have realized that our trigram LM in the barebones setting is probably not robust enough to be deployed in general settings, due to the data sparsity problem. This problem is dealt with by using \"smoothing\" methods for unseen n-grams and the `<UNK>` token for OOV words.\n",
    "\n",
    "In this section, you will implement Laplace (add-one) smoothing and use the `<UNK>` token for handling OOV words in the evaluation set. Complete the following class definition to achieve this. _(15 points)_"
   ]
  },
  {
   "cell_type": "code",
   "execution_count": 45,
   "metadata": {
    "id": "v6a4wXKvTf6E",
    "pycharm": {
     "name": "#%%\n"
    },
    "tags": []
   },
   "outputs": [],
   "source": [
    "from overrides import overrides\n",
    "class NgramLMWithLaplaceSmoothing(NgramLM):\n",
    "    \"\"\"An n-gram language model with OOV handling and Laplace smoothing.\n",
    "    This class inherits all bahaviors from previous defined `NgramLM`.\n",
    "    Please be careful with the implementations here as you have to be consistent\n",
    "    with all interfaces.\n",
    "    \"\"\"\n",
    "\n",
    "    def __init__(self, n: int):\n",
    "        super(NgramLMWithLaplaceSmoothing, self).__init__(n=n)\n",
    "    \n",
    "    @overrides\n",
    "    def next_word_candidates(self, context: Tuple[str]) -> List[str]:\n",
    "        \"\"\"Generates a list of tokens based on the given context, which would be\n",
    "        later used as candidates for the next word prediction.\n",
    "        \n",
    "        Note: in this overriden version, you should deal with the OOV words.\n",
    "        \n",
    "        Parameters\n",
    "        ----------\n",
    "        context : Tuple[str]\n",
    "            A tuple of words describing the context for the next word.\n",
    "            \n",
    "        Returns\n",
    "        -------\n",
    "        words : List[str]\n",
    "            A list of candidate tokens for the next word.\n",
    "        \"\"\"\n",
    "        # TODO: Your code here\n",
    "        return self.contexts[context]\n",
    "\n",
    "    \n",
    "    @overrides\n",
    "    def word_prob(self, context: Tuple[str], word: str) -> float:\n",
    "        \"\"\"Returns the probability of a word given a context. The context is a\n",
    "        string of words, with length n-1. \n",
    "        \n",
    "        Note: in this overriden version, you should deal with the OOV words.\n",
    "        \n",
    "        Parameters\n",
    "        ----------\n",
    "        context : Tuple[str]\n",
    "            A tuple of words describing the context for the next word.\n",
    "        word : str\n",
    "            The next word that the probability is computed for.\n",
    "            \n",
    "        Returns\n",
    "        -------\n",
    "        prob : float\n",
    "            The estimated probability of the next word given the context.\n",
    "        \"\"\"\n",
    "        # TODO: Your code here\n",
    "        return (self.ngrams[context + ( str( word ), )] +1 ) / (self.ngram_contexts[ context ] + len( self.vocab ))"
   ]
  },
  {
   "cell_type": "code",
   "execution_count": 46,
   "metadata": {
    "id": "TXX1--Dxl3Gb",
    "pycharm": {
     "name": "#%%\n"
    },
    "tags": []
   },
   "outputs": [],
   "source": [
    "# Training block for a trigram language model with Laplace smoothing\n",
    "trigramlm_laplace = NgramLMWithLaplaceSmoothing(3)\n",
    "for sentence in corpus:\n",
    "    trigramlm_laplace.update(sentence)"
   ]
  },
  {
   "cell_type": "markdown",
   "metadata": {
    "id": "rE7UsXK5UL-_",
    "pycharm": {
     "name": "#%% md\n"
    }
   },
   "source": [
    "__Question:__ Report the perplexity of the new LM on the development data. (3 points)"
   ]
  },
  {
   "cell_type": "code",
   "execution_count": 47,
   "metadata": {
    "colab": {
     "base_uri": "https://localhost:8080/"
    },
    "id": "bVQdsbGRl3Gb",
    "outputId": "0be5ff64-ed40-4ddf-e9a8-ba51966872c3",
    "pycharm": {
     "name": "#%%\n"
    },
    "tags": []
   },
   "outputs": [
    {
     "data": {
      "text/plain": [
       "7353.030340416009"
      ]
     },
     "execution_count": 47,
     "metadata": {},
     "output_type": "execute_result"
    }
   ],
   "source": [
    "# TODO: Your code here\n",
    "trigram_laplace_perp_on_training = perplexity(trigramlm_laplace, dev_text)\n",
    "trigram_laplace_perp_on_training"
   ]
  },
  {
   "cell_type": "markdown",
   "metadata": {
    "id": "lJd1baM1l3Gc",
    "pycharm": {
     "name": "#%% md\n"
    }
   },
   "source": [
    "<!-- BEGIN QUESTION -->\n",
    "\n",
    "__Question:__ Can you think of a different way to solve the OOV problem? _(2 points)_"
   ]
  },
  {
   "cell_type": "markdown",
   "metadata": {
    "id": "h2lLlbjDl3Gc",
    "pycharm": {
     "name": "#%% md\n"
    }
   },
   "source": [
    "__Answer:__"
   ]
  },
  {
   "cell_type": "markdown",
   "metadata": {
    "id": "VUbJ0Ay0GzIP"
   },
   "source": [
    "BERT. BERT don't use words. They have a fixed size vocabulary consisting of character ngrams. So OOV only happen if your words consists of characters that are not in that vocabulary. If you word consists of only characters e.g. a-z, the worst case what can happen is that this word is broken down into individually characters."
   ]
  },
  {
   "cell_type": "markdown",
   "metadata": {
    "id": "14Kjgo2NSc1A",
    "pycharm": {
     "name": "#%% md\n"
    }
   },
   "source": [
    "<!-- END QUESTION -->\n",
    "\n",
    "__Question (extra credit):__ Laplace smoothing is a relatively naive smoothing method. In the lectures, you learnt about more advanced methods: Good-Turing, Backoff, Interpolation, Kneser-Ney. Implement any one of these smoothing methods (pick your favorite). Evaluate the resulting trigram LM on the development data and report the perplexity. Could you get some improvements (an improvement from the baseline would secure you to get an extra credit of 10 points)? _(10 points)_\n",
    "\n",
    "__Leaderboard:__ It would be interesting to explore different techniques or combinations of techniques to improve trigram language models. For this extra credit question, we also introduce a leaderboard for people to compete their designs of language models. To encourage participantion, the top 15% and 30% would be given another 10 points and 5 points extra credit respectively. Have fun :-)"
   ]
  },
  {
   "cell_type": "code",
   "execution_count": 48,
   "metadata": {
    "id": "HapmEPF4cDUa",
    "pycharm": {
     "name": "#%%\n"
    },
    "tags": []
   },
   "outputs": [],
   "source": [
    "class ImprovedNgramLM(NgramLM):\n",
    "    \"\"\"An improved version of n-gram language model with OOV handling.\n",
    "    This class inherits all bahaviors from previous defined `NgramLM`.\n",
    "    Please be careful with the implementations here as you have to be consistent\n",
    "    with all interfaces.\n",
    "    \n",
    "    Note: you could override more methods provided by the base class, but you have \n",
    "    to maintain their ability of handling the same types of inputs and outputs.\n",
    "    \"\"\"\n",
    "\n",
    "    def __init__(self, n: int):\n",
    "        super(ImprovedNgramLM, self).__init__(n=n)\n",
    "        \n",
    "        # TODO: Your code here, if you would like to change the behavior of init.    \n",
    "    \n",
    "    @overrides\n",
    "    def next_word_candidates(self, context: Tuple[str]) -> List[str]:\n",
    "        \"\"\"Generates a list of tokens based on the given context, which would be\n",
    "        later used as candidates for the next word prediction.\n",
    "        \n",
    "        Note: in this overriden version, you should deal with the OOV words.\n",
    "        \n",
    "        Parameters\n",
    "        ----------\n",
    "        context : Tuple[str]\n",
    "            A tuple of words describing the context for the next word.\n",
    "            \n",
    "        Returns\n",
    "        -------\n",
    "        words : List[str]\n",
    "            A list of candidate tokens for the next word.\n",
    "        \"\"\"\n",
    "        # TODO: Your code here\n",
    "        return self.contexts[context]\n",
    "\n",
    "    \n",
    "    @overrides\n",
    "    def word_prob(self, context: Tuple[str], word: str) -> float:\n",
    "        \"\"\"Returns the probability of a word given a context. The context is a\n",
    "        string of words, with length n-1. \n",
    "        \n",
    "        Note: in this overriden version, you should deal with the OOV words.\n",
    "        \n",
    "        Parameters\n",
    "        ----------\n",
    "        context : Tuple[str]\n",
    "            A tuple of words describing the context for the next word.\n",
    "        word : str\n",
    "            The next word that the probability is computed for.\n",
    "            \n",
    "        Returns\n",
    "        -------\n",
    "        prob : float\n",
    "            The estimated probability of the next word given the context.\n",
    "        \"\"\"\n",
    "        # TODO: Your code here\n",
    "        return (self.ngrams[context+(str(word),)]+1)/(self.ngram_contexts[context]+len(self.vocab))"
   ]
  },
  {
   "cell_type": "code",
   "execution_count": 49,
   "metadata": {
    "id": "neDXt1Zwl3Gc",
    "pycharm": {
     "name": "#%%\n"
    },
    "tags": []
   },
   "outputs": [],
   "source": [
    "# Training block for a trigram language model\n",
    "improved_trigramlm = ImprovedNgramLM(3)\n",
    "for sentence in corpus:\n",
    "    improved_trigramlm.update(sentence)"
   ]
  },
  {
   "cell_type": "code",
   "execution_count": 50,
   "metadata": {
    "colab": {
     "base_uri": "https://localhost:8080/",
     "height": 47
    },
    "deletable": false,
    "editable": false,
    "id": "gYmH4KZ3l3Gc",
    "outputId": "667b637d-5b5b-4780-e7fc-02d80c29030f"
   },
   "outputs": [
    {
     "data": {
      "text/html": [
       "<p><strong><pre style='display: inline;'>ngramlm-improvement-impl</pre></strong> passed!</p>"
      ],
      "text/plain": [
       "ngramlm-improvement-impl results: All test cases passed!"
      ]
     },
     "execution_count": 50,
     "metadata": {},
     "output_type": "execute_result"
    }
   ],
   "source": [
    "grader.check(\"ngramlm-improvement-impl\")"
   ]
  },
  {
   "cell_type": "markdown",
   "metadata": {
    "id": "gwOF-lAWVE94",
    "pycharm": {
     "name": "#%% md\n"
    }
   },
   "source": [
    "## Part 2: Parsing and the CYK algorithm\n",
    "\n",
    "In the lecture on Syntax, you learnt about parsing algorithms, including the bottom-up CYK algorithm. In this section, you will implement the CYK algorithm for computing the parse tree of a sentence given a grammar.\n",
    "\n",
    "You may look at the pseudocode on [Wikipedia](https://en.wikipedia.org/wiki/CYK_algorithm#As_pseudocode) or refer to descriptions of the CYK algorithm online (such as [this](https://courses.engr.illinois.edu/cs373/sp2009/lectures/lect_15.pdf)), but you may not copy code directly from another source. The objective of this exercise is to familiarize yourself with parsing.\n",
    "\n",
    "First, we will provide some starter code to load a simple grammar which can be used to test your implementation. The CYK algorithm only works with context-free grammars (CFGs) in the [Chomsky Normal Form (CNF)](https://en.wikipedia.org/wiki/Chomsky_normal_form), but any CFG can be represented as an equivalent CNF. You can use NLTK to check if the grammar is in CNF."
   ]
  },
  {
   "cell_type": "code",
   "execution_count": 51,
   "metadata": {
    "id": "44xCk4nMYVWL",
    "pycharm": {
     "name": "#%%\n"
    }
   },
   "outputs": [],
   "source": [
    "# grammar rules\n",
    "\n",
    "cfg_rules = \"\"\"\n",
    "S -> NP VP\n",
    "PP -> P NP\n",
    "NP -> Det N\n",
    "NP -> Det N PP\n",
    "NP -> 'I'\n",
    "VP -> V NP\n",
    "VP -> VP PP\n",
    "Det -> 'an'\n",
    "Det -> 'my'\n",
    "N -> 'elephant'\n",
    "N -> 'pajamas'\n",
    "V -> 'shot'\n",
    "P -> 'in'\n",
    "\"\"\""
   ]
  },
  {
   "cell_type": "markdown",
   "metadata": {
    "id": "npLfx9CveUeI",
    "pycharm": {
     "name": "#%% md\n"
    }
   },
   "source": [
    "__Question:__ Use NLTK to check if the grammar `cfg` is in the Chomsky Normal Form. _(1 point)_"
   ]
  },
  {
   "cell_type": "code",
   "execution_count": 52,
   "metadata": {
    "colab": {
     "base_uri": "https://localhost:8080/"
    },
    "id": "SVY6CyYhc1zn",
    "outputId": "4fcd5d40-de10-4470-d66d-04489c481506",
    "pycharm": {
     "name": "#%%\n"
    },
    "tags": []
   },
   "outputs": [
    {
     "data": {
      "text/plain": [
       "False"
      ]
     },
     "execution_count": 52,
     "metadata": {},
     "output_type": "execute_result"
    }
   ],
   "source": [
    "# TODO: Your code here\n",
    "# Note: \n",
    "# `is_cfg_cnf` should be the function name without executing it (by removing `()`).\n",
    "# Executing this cell should give you a boolean result indicating whether the given CFG\n",
    "# is in the Chomsky Normal Form.\n",
    "import nltk.grammar as gr\n",
    "form_dis = gr.CFG.fromstring(cfg_rules)\n",
    "is_cfg_cnf = form_dis.is_chomsky_normal_form()\n",
    "is_cfg_cnf"
   ]
  },
  {
   "cell_type": "markdown",
   "metadata": {
    "id": "uatLXceVepso",
    "pycharm": {
     "name": "#%% md\n"
    }
   },
   "source": [
    "__Question:__ Convert the above CFG into CNF (use pen and paper) and create a new grammar using it. Use NLTK to verify if it is in CNF. _(4 points)_\n",
    "\n",
    "Here are the steps to convert any CFG into a CNF:\n",
    "\n",
    "1. Eliminate start symbol from the RHS. If the start symbol S is at the right-hand side of any production, create a new production as: S1 -> S\n",
    "2. If CFG contains null, unit or useless production rules, eliminate them.\n",
    "3. Eliminate terminals from RHS if they exist with other terminals or non-terminals.\n",
    "4. Eliminate RHS with more than two non-terminals.\n",
    "\n",
    "(Hint: There is only one offending rule in the above grammar.)"
   ]
  },
  {
   "cell_type": "code",
   "execution_count": 53,
   "metadata": {
    "colab": {
     "base_uri": "https://localhost:8080/"
    },
    "id": "qgnhok80g5io",
    "outputId": "34d41779-21ec-4c52-92b3-bd4cefe5db63",
    "pycharm": {
     "name": "#%%\n"
    },
    "tags": []
   },
   "outputs": [
    {
     "data": {
      "text/plain": [
       "True"
      ]
     },
     "execution_count": 53,
     "metadata": {},
     "output_type": "execute_result"
    }
   ],
   "source": [
    "# Write the CNF grammar here as a string\n",
    "\n",
    "# TODO: Your code here\n",
    "cnf_cfg_rules_copy = \"\"\"\n",
    "S -> NP VP\n",
    "PP -> P NP\n",
    "NP -> Det N\n",
    "NP -> Det NP_N\n",
    "NP -> 'I'\n",
    "NP_N -> N PP\n",
    "VP -> V NP\n",
    "VP -> VP PP\n",
    "Det -> 'an'\n",
    "Det -> 'my'\n",
    "N -> 'elephant'\n",
    "N -> 'pajamas'\n",
    "V -> 'shot'\n",
    "P -> 'in'\n",
    "\"\"\"\n",
    "\n",
    "cnf_cfg_rules = gr.CFG.fromstring(cnf_cfg_rules_copy)\n",
    "cnf_cfg_rules.is_chomsky_normal_form()"
   ]
  },
  {
   "cell_type": "markdown",
   "metadata": {
    "id": "hkL26o73dKJq",
    "pycharm": {
     "name": "#%% md\n"
    }
   },
   "source": [
    "You can now use the above grammar and the sentence: _\"I shot an elephant in my pajamas\"_ to demonstrate your implementation of the CYK parser.\n",
    "\n",
    "Complete the following code block to implement the parser. We have provided the definition of the Node class which stores a non-terminal, and some boilerplate code to ease you into the implementation. Your main task is to implement the `parse()` function, which generates the parse table in a bottom-up manner. The `parse_table` in the `CYKParser` class below can be thought of as a table which contains number of rows equal to the number of words in the sentence. _(25 points)_\n",
    "\n",
    "_Note_:\n",
    "\n",
    "We recommend reading the usage of [NLTK grammar object](https://www.nltk.org/howto/grammar.html) as we would parse the grammar to this object. It allows us to easily play with different grammar production rules. Sample usages (`grammar` is a `nltk.grammar.CFG` object instantiated from a given grammar):\n",
    "  - `grammar.productions()`: list all production rules defined in the grammar.\n",
    "  - `rule_i = grammar.productions()[i]`: get the ith rule from the grammar.\n",
    "  - `rule_i.lhs()`: get the LHS for the given rule.\n",
    "  - `rule_i.rhs()`: get the RHS for the given rule.\n",
    "  - `rule_i.is_lexical()`: determine whether it is a terminal rule.\n",
    "  - `rule_i.is_nonlexical()`: determine whether it is a non-terminal rule.\n",
    "  - `rhs_0 = rule_i.rhs()[0]`: get the first element on the RHS for the given rule.\n",
    "  - `rhs_0.symbol()`: get the `str` symbol of the RHS element (this also applies to the LHS element).\n",
    "  \n",
    "_Hint: It may be beneficial to first run through the algorithm for the given grammar and the sentence on pen and paper._"
   ]
  },
  {
   "cell_type": "code",
   "execution_count": 54,
   "metadata": {
    "id": "sk2mYJWnhomu",
    "pycharm": {
     "name": "#%%\n"
    },
    "tags": []
   },
   "outputs": [],
   "source": [
    "class Node:\n",
    "    \"\"\" Equivalent to a non-terminal. Since our grammar is CNF, a node can have at\n",
    "    most 2 children. Following 2 cases are possible:\n",
    "    \n",
    "    Case 1 -> child1 is a terminal symbol\n",
    "    Case 2 -> both child1 and child2 are Nodes.\n",
    "    \"\"\"\n",
    "\n",
    "    def __init__(self, symbol, child1, child2=None):\n",
    "        self.symbol = symbol\n",
    "        self.child1 = child1\n",
    "        self.child2 = child2\n",
    "\n",
    "    def __repr__(self):\n",
    "        \"\"\"Returns the string representation of a Node object.\"\"\"\n",
    "        return self.symbol\n",
    "    \n",
    "    def generate_tree(self) -> str:\n",
    "        \"\"\"Generates the string representation of the tree rooted at the current node.\n",
    "        It is done via pre-order tree traversal.\n",
    "        \n",
    "        Returns\n",
    "        -------\n",
    "        str_tree : str\n",
    "            The tree in its string form.\n",
    "        \"\"\"\n",
    "        if self.child2 is None:\n",
    "            return f\"[{self.symbol} '{self.child1}']\"\n",
    "        return f\"[{self.symbol} {self.child1.generate_tree()} {self.child2.generate_tree()}]\"\n",
    "    \n",
    "    \n",
    "class CYKParser(object):\n",
    "    \"\"\"A CYK parser which is able to parse any grammar in CNF. The parser object\n",
    "    is created from a CNF grammar and can be used to parse any sentence.\n",
    "    \"\"\"\n",
    "\n",
    "    def __init__(self, grammar: str):\n",
    "        \"\"\"Creates a new parser object.\n",
    "\n",
    "        Parameters\n",
    "        ----------\n",
    "        grammar : str\n",
    "            Input grammar as a string of rules.\n",
    "        \"\"\"\n",
    "        self.grammar: nltk.grammar.CFG = nltk.grammar.CFG.fromstring(grammar)\n",
    "            \n",
    "    def print_tree(self, parse_table: List[List[List[Node]]]):\n",
    "        \"\"\"Prints the parse tree starting with the start symbol.\n",
    "        \"\"\"\n",
    "        start_symbol = self.grammar.start().symbol()\n",
    "        final_nodes = [n for n in parse_table[-1][0] if n.symbol == start_symbol]\n",
    "        if final_nodes:\n",
    "            print(\"\\nPossible parse(s):\")\n",
    "            trees = [node.generate_tree() for node in final_nodes]\n",
    "            for tree in trees:\n",
    "                print(tree)\n",
    "        else:\n",
    "            print(\"The given sentence is not contained in the language produced by the given grammar!\")\n",
    "\n",
    "    def parse(self, sentence: List[str]) -> List[List[List[Node]]]:\n",
    "        \"\"\"Does the actual parsing according to the CYK algorithm.\n",
    "        \n",
    "        Parameters\n",
    "        ----------\n",
    "        sentence : List[str]\n",
    "            An input sentence in the form of list of tokens.\n",
    "        \n",
    "        Returns\n",
    "        -------\n",
    "        parse_table : List[List[List[Node]]]\n",
    "            The resulting parse table for the sentence under the grammar.\n",
    "        \"\"\"\n",
    "        num_tokens = len(sentence)\n",
    "        # parse_table[y][x] is the list of nodes in the x+1 cell\n",
    "        # of y+1 row in the table. That cell covers the word below it\n",
    "        # and y more words after.\n",
    "        parse_table: List[List[List[Node]]] = [[[] for x in range(num_tokens - y)] for y in range(num_tokens)]\n",
    "\n",
    "        # TODO: Your code here\n",
    "        \n",
    "        #init\n",
    "        productions_group = []\n",
    "        produc = []\n",
    "        token_length = num_tokens\n",
    "\n",
    "        #divide func, inh from last sec\n",
    "        def expand_parser_table(table):\n",
    "          for i,j in enumerate(sentence):\n",
    "            for k in productions_group:\n",
    "              if f\"'{j}'\" == k[1]:\n",
    "                table[0][i].append(Node(k[0],j))\n",
    "        \n",
    "        for i in (self.grammar.productions()):\n",
    "            sh_list = []\n",
    "            symbol = str(i).split()\n",
    "            for j in symbol:\n",
    "                if j != '->':\n",
    "                    sh_list.append(j)\n",
    "            productions_group.append(sh_list)\n",
    "        \n",
    "        expand_parser_table(parse_table)\n",
    "        \n",
    "        #load into parse_table\n",
    "        for j in range(2, token_length+1):\n",
    "            for s in range(0, token_length-(j-1)):\n",
    "                for i in range(1,j):\n",
    "                    r=j-i\n",
    "                    par1_parse_table = parse_table[i-1][s]\n",
    "                    par2_parse_table = parse_table[r-1][s+i]\n",
    "                    for l in productions_group:\n",
    "                        par1_productions_group = []\n",
    "                        par2_productions_group = []\n",
    "                        for n in par1_parse_table:\n",
    "                            if n.symbol==l[1]:\n",
    "                                par2_productions_group.append(n)\n",
    "                        if par2_productions_group:\n",
    "                            for n in par2_parse_table:\n",
    "                                if n.symbol==l[2]:\n",
    "                                    par1_productions_group.append(n)\n",
    "                            for p in par2_productions_group:\n",
    "                                for q in par1_productions_group:\n",
    "                                    parse_table[j-1][s].extend( [ Node (l[0], p, q)] )\n",
    "        return parse_table"
   ]
  },
  {
   "cell_type": "code",
   "execution_count": 55,
   "metadata": {
    "id": "cbDKhmkgCGmu",
    "pycharm": {
     "name": "#%%\n"
    },
    "tags": []
   },
   "outputs": [],
   "source": [
    "parser = CYKParser(cnf_cfg_rules_copy)\n",
    "parse_table = parser.parse(\"I shot an elephant in my pajamas\".split())"
   ]
  },
  {
   "cell_type": "code",
   "execution_count": 56,
   "metadata": {
    "colab": {
     "base_uri": "https://localhost:8080/"
    },
    "id": "6uk7V8K9l3Gd",
    "outputId": "83b6c5bd-019e-4f2d-aff8-591804d74829",
    "pycharm": {
     "name": "#%%\n"
    },
    "tags": []
   },
   "outputs": [
    {
     "name": "stdout",
     "output_type": "stream",
     "text": [
      "\n",
      "Possible parse(s):\n",
      "[S [NP 'I'] [VP [V 'shot'] [NP [Det 'an'] [NP_N [N 'elephant'] [PP [P 'in'] [NP [Det 'my'] [N 'pajamas']]]]]]]\n",
      "[S [NP 'I'] [VP [VP [V 'shot'] [NP [Det 'an'] [N 'elephant']]] [PP [P 'in'] [NP [Det 'my'] [N 'pajamas']]]]]\n"
     ]
    }
   ],
   "source": [
    "parser.print_tree(parse_table)"
   ]
  }
 ],
 "metadata": {
  "colab": {
   "collapsed_sections": [],
   "provenance": []
  },
  "kernelspec": {
   "display_name": "Python 3 (ipykernel)",
   "language": "python",
   "name": "python3"
  },
  "language_info": {
   "codemirror_mode": {
    "name": "ipython",
    "version": 3
   },
   "file_extension": ".py",
   "mimetype": "text/x-python",
   "name": "python",
   "nbconvert_exporter": "python",
   "pygments_lexer": "ipython3",
   "version": "3.9.12"
  }
 },
 "nbformat": 4,
 "nbformat_minor": 4
}
