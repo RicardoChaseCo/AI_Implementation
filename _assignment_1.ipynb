{
 "cells": [
  {
   "cell_type": "markdown",
   "metadata": {},
   "source": [
    "# Artificial Intelligence\n",
    "# 464/664\n",
    "# Assignment #1\n",
    "\n",
    "## General Directions\n",
    "\n",
    "0. We're using a Jupyter Notebook environment (tutorial available here: https://jupyter-notebook-beginner-guide.readthedocs.io/en/latest/what_is_jupyter.html),\n",
    "1. Read the entire notebook before beginning your work, \n",
    "2. Output format should be exactly as requested, \n",
    "3. Each helper function should be preceeded by documentation (Markdown cell), \n",
    "4. Each helper function should be followed by three assert-style unit tests,\n",
    "5. No comments in the code; anything worth mentioning should be included in the documentation,\n",
    "6. Keep functions to 20 lines or less,\n",
    "7. Use descriptive variable names,\n",
    "8. Functions should do only one thing,\n",
    "9. Check submission deadline on Gradescope, and\n",
    "10. Submit your notebook using Gradescope."
   ]
  },
  {
   "cell_type": "markdown",
   "metadata": {},
   "source": [
    "## The World\n",
    "\n",
    "A `List of Lists` is used to represent the world. Cells marked as '⬛' are obstacles in the world and are not traversable."
   ]
  },
  {
   "cell_type": "code",
   "execution_count": 115,
   "metadata": {},
   "outputs": [],
   "source": [
    "world = [\n",
    "['⬜','⬜','⬜','⬜','⬜','⬜','⬜','⬜','⬜','⬜','⬜','⬜','⬜','⬜','⬜','⬜','⬜','⬜','⬜','⬜','⬜'],\n",
    "['⬜','⬜','⬜','⬜','⬜','⬜','⬜','⬜','⬜','⬜','⬜','⬜','⬜','⬜','⬜','⬜','⬜','⬜','⬜','⬜','⬜'],\n",
    "['⬜','⬜','⬜','⬜','⬜','⬜','⬜','⬜','⬜','⬜','⬜','⬜','⬜','⬜','⬜','⬜','⬜','⬜','⬜','⬜','⬜'],\n",
    "['⬜','⬜','⬜','⬜','⬜','⬜','⬜','⬜','⬜','⬜','⬜','⬜','⬜','⬜','⬜','⬜','⬜','⬜','⬜','⬜','⬜'],\n",
    "['⬜','⬜','⬜','⬜','⬜','⬜','⬜','⬜','⬜','⬜','⬜','⬜','⬜','⬜','⬜','⬜','⬜','⬜','⬜','⬜','⬜'],\n",
    "['⬜','⬜','⬜','⬜','⬜','⬜','⬜','⬜','⬜','⬜','⬜','⬜','⬜','⬜','⬜','⬜','⬜','⬜','⬜','⬜','⬜'],\n",
    "['⬜','⬜','⬜','⬜','⬜','⬜','⬜','⬜','⬜','⬜','⬜','⬜','⬜','⬜','⬜','⬜','⬜','⬜','⬜','⬜','⬜'],\n",
    "['⬜','⬜','⬜','⬜','⬜','⬜','⬜','⬜','⬜','⬜','⬜','⬜','⬜','⬜','⬜','⬜','⬜','⬜','⬜','⬜','⬜'],\n",
    "['⬜','⬜','⬜','⬜','⬜','⬜','⬜','⬜','⬜','⬜','⬜','⬜','⬜','⬜','⬜','⬜','⬜','⬜','⬜','⬜','⬜'],\n",
    "['⬜','⬜','⬜','⬜','⬜','⬜','⬜','⬜','⬜','⬛','⬛','⬛','⬜','⬜','⬜','⬜','⬜','⬜','⬜','⬜','⬜'],\n",
    "['⬜','⬜','⬜','⬜','⬜','⬜','⬜','⬜','⬜','⬛','⬛','⬛','⬜','⬜','⬜','⬜','⬜','⬜','⬜','⬜','⬜'],\n",
    "['⬜','⬜','⬜','⬜','⬜','⬜','⬜','⬜','⬜','⬛','⬛','⬛','⬜','⬜','⬜','⬜','⬜','⬜','⬜','⬜','⬜'],\n",
    "['⬜','⬜','⬜','⬜','⬜','⬜','⬜','⬜','⬜','⬜','⬜','⬜','⬜','⬜','⬜','⬜','⬜','⬜','⬜','⬜','⬜'],\n",
    "['⬜','⬜','⬜','⬜','⬜','⬜','⬜','⬜','⬜','⬜','⬜','⬜','⬜','⬜','⬜','⬜','⬜','⬜','⬜','⬜','⬜'],\n",
    "['⬜','⬜','⬜','⬜','⬜','⬜','⬜','⬜','⬜','⬜','⬜','⬜','⬜','⬜','⬜','⬜','⬜','⬜','⬜','⬜','⬜'],\n",
    "['⬜','⬜','⬜','⬜','⬜','⬜','⬜','⬜','⬜','⬜','⬜','⬜','⬜','⬜','⬜','⬜','⬜','⬜','⬜','⬜','⬜'],\n",
    "['⬜','⬜','⬜','⬜','⬜','⬜','⬜','⬜','⬜','⬜','⬜','⬜','⬜','⬜','⬜','⬜','⬜','⬜','⬜','⬜','⬜'],\n",
    "['⬜','⬜','⬜','⬜','⬜','⬜','⬜','⬜','⬜','⬜','⬜','⬜','⬜','⬜','⬜','⬜','⬜','⬜','⬜','⬜','⬜'],\n",
    "['⬜','⬜','⬜','⬜','⬜','⬜','⬜','⬜','⬜','⬜','⬜','⬜','⬜','⬜','⬜','⬜','⬜','⬜','⬜','⬜','⬜'],\n",
    "['⬜','⬜','⬜','⬜','⬜','⬜','⬜','⬜','⬜','⬜','⬜','⬜','⬜','⬜','⬜','⬜','⬜','⬜','⬜','⬜','⬜'],\n",
    "['⬜','⬜','⬜','⬜','⬜','⬜','⬜','⬜','⬜','⬜','⬜','⬜','⬜','⬜','⬜','⬜','⬜','⬜','⬜','⬜','⬜']]"
   ]
  },
  {
   "cell_type": "code",
   "execution_count": 116,
   "metadata": {},
   "outputs": [
    {
     "name": "stdout",
     "output_type": "stream",
     "text": [
      "⬜⬜⬜⬜⬜⬜⬜⬜⬜⬜⬜⬜⬜⬜⬜⬜⬜⬜⬜⬜⬜\n",
      "⬜⬜⬜⬜⬜⬜⬜⬜⬜⬜⬜⬜⬜⬜⬜⬜⬜⬜⬜⬜⬜\n",
      "⬜⬜⬜⬜⬜⬜⬜⬜⬜⬜⬜⬜⬜⬜⬜⬜⬜⬜⬜⬜⬜\n",
      "⬜⬜⬜⬜⬜⬜⬜⬜⬜⬜⬜⬜⬜⬜⬜⬜⬜⬜⬜⬜⬜\n",
      "⬜⬜⬜⬜⬜⬜⬜⬜⬜⬜⬜⬜⬜⬜⬜⬜⬜⬜⬜⬜⬜\n",
      "⬜⬜⬜⬜⬜⬜⬜⬜⬜⬜⬜⬜⬜⬜⬜⬜⬜⬜⬜⬜⬜\n",
      "⬜⬜⬜⬜⬜⬜⬜⬜⬜⬜⬜⬜⬜⬜⬜⬜⬜⬜⬜⬜⬜\n",
      "⬜⬜⬜⬜⬜⬜⬜⬜⬜⬜⬜⬜⬜⬜⬜⬜⬜⬜⬜⬜⬜\n",
      "⬜⬜⬜⬜⬜⬜⬜⬜⬜⬜⬜⬜⬜⬜⬜⬜⬜⬜⬜⬜⬜\n",
      "⬜⬜⬜⬜⬜⬜⬜⬜⬜⬛⬛⬛⬜⬜⬜⬜⬜⬜⬜⬜⬜\n",
      "⬜⬜⬜⬜⬜⬜⬜⬜⬜⬛⬛⬛⬜⬜⬜⬜⬜⬜⬜⬜⬜\n",
      "⬜⬜⬜⬜⬜⬜⬜⬜⬜⬛⬛⬛⬜⬜⬜⬜⬜⬜⬜⬜⬜\n",
      "⬜⬜⬜⬜⬜⬜⬜⬜⬜⬜⬜⬜⬜⬜⬜⬜⬜⬜⬜⬜⬜\n",
      "⬜⬜⬜⬜⬜⬜⬜⬜⬜⬜⬜⬜⬜⬜⬜⬜⬜⬜⬜⬜⬜\n",
      "⬜⬜⬜⬜⬜⬜⬜⬜⬜⬜⬜⬜⬜⬜⬜⬜⬜⬜⬜⬜⬜\n",
      "⬜⬜⬜⬜⬜⬜⬜⬜⬜⬜⬜⬜⬜⬜⬜⬜⬜⬜⬜⬜⬜\n",
      "⬜⬜⬜⬜⬜⬜⬜⬜⬜⬜⬜⬜⬜⬜⬜⬜⬜⬜⬜⬜⬜\n",
      "⬜⬜⬜⬜⬜⬜⬜⬜⬜⬜⬜⬜⬜⬜⬜⬜⬜⬜⬜⬜⬜\n",
      "⬜⬜⬜⬜⬜⬜⬜⬜⬜⬜⬜⬜⬜⬜⬜⬜⬜⬜⬜⬜⬜\n",
      "⬜⬜⬜⬜⬜⬜⬜⬜⬜⬜⬜⬜⬜⬜⬜⬜⬜⬜⬜⬜⬜\n",
      "⬜⬜⬜⬜⬜⬜⬜⬜⬜⬜⬜⬜⬜⬜⬜⬜⬜⬜⬜⬜⬜\n"
     ]
    }
   ],
   "source": [
    "# A nicer view of the world, without commas and brackets\n",
    "for row in world:\n",
    "    print(\"\".join(row))"
   ]
  },
  {
   "cell_type": "markdown",
   "metadata": {},
   "source": [
    "## Robot\n",
    "\n",
    "Our robot '🤖' starts at the bottom left and can either move up, down, left, or right. It's looking for the '❤️' in the world. "
   ]
  },
  {
   "cell_type": "code",
   "execution_count": 117,
   "metadata": {},
   "outputs": [],
   "source": [
    "MOVES = [(0,-1), (1,0), (0,1), (-1,0)]"
   ]
  },
  {
   "cell_type": "code",
   "execution_count": 118,
   "metadata": {},
   "outputs": [],
   "source": [
    "start = (len(world)-1, 0)"
   ]
  },
  {
   "cell_type": "code",
   "execution_count": 119,
   "metadata": {},
   "outputs": [],
   "source": [
    "goal = (0, len(world)-1)"
   ]
  },
  {
   "cell_type": "code",
   "execution_count": 120,
   "metadata": {},
   "outputs": [],
   "source": [
    "# Update the world with this information\n",
    "world[start[0]][start[1]] = '🤖'\n",
    "world[goal[0]][goal[1]] = '❤️'"
   ]
  },
  {
   "cell_type": "code",
   "execution_count": 121,
   "metadata": {},
   "outputs": [
    {
     "name": "stdout",
     "output_type": "stream",
     "text": [
      "⬜⬜⬜⬜⬜⬜⬜⬜⬜⬜⬜⬜⬜⬜⬜⬜⬜⬜⬜⬜❤️\n",
      "⬜⬜⬜⬜⬜⬜⬜⬜⬜⬜⬜⬜⬜⬜⬜⬜⬜⬜⬜⬜⬜\n",
      "⬜⬜⬜⬜⬜⬜⬜⬜⬜⬜⬜⬜⬜⬜⬜⬜⬜⬜⬜⬜⬜\n",
      "⬜⬜⬜⬜⬜⬜⬜⬜⬜⬜⬜⬜⬜⬜⬜⬜⬜⬜⬜⬜⬜\n",
      "⬜⬜⬜⬜⬜⬜⬜⬜⬜⬜⬜⬜⬜⬜⬜⬜⬜⬜⬜⬜⬜\n",
      "⬜⬜⬜⬜⬜⬜⬜⬜⬜⬜⬜⬜⬜⬜⬜⬜⬜⬜⬜⬜⬜\n",
      "⬜⬜⬜⬜⬜⬜⬜⬜⬜⬜⬜⬜⬜⬜⬜⬜⬜⬜⬜⬜⬜\n",
      "⬜⬜⬜⬜⬜⬜⬜⬜⬜⬜⬜⬜⬜⬜⬜⬜⬜⬜⬜⬜⬜\n",
      "⬜⬜⬜⬜⬜⬜⬜⬜⬜⬜⬜⬜⬜⬜⬜⬜⬜⬜⬜⬜⬜\n",
      "⬜⬜⬜⬜⬜⬜⬜⬜⬜⬛⬛⬛⬜⬜⬜⬜⬜⬜⬜⬜⬜\n",
      "⬜⬜⬜⬜⬜⬜⬜⬜⬜⬛⬛⬛⬜⬜⬜⬜⬜⬜⬜⬜⬜\n",
      "⬜⬜⬜⬜⬜⬜⬜⬜⬜⬛⬛⬛⬜⬜⬜⬜⬜⬜⬜⬜⬜\n",
      "⬜⬜⬜⬜⬜⬜⬜⬜⬜⬜⬜⬜⬜⬜⬜⬜⬜⬜⬜⬜⬜\n",
      "⬜⬜⬜⬜⬜⬜⬜⬜⬜⬜⬜⬜⬜⬜⬜⬜⬜⬜⬜⬜⬜\n",
      "⬜⬜⬜⬜⬜⬜⬜⬜⬜⬜⬜⬜⬜⬜⬜⬜⬜⬜⬜⬜⬜\n",
      "⬜⬜⬜⬜⬜⬜⬜⬜⬜⬜⬜⬜⬜⬜⬜⬜⬜⬜⬜⬜⬜\n",
      "⬜⬜⬜⬜⬜⬜⬜⬜⬜⬜⬜⬜⬜⬜⬜⬜⬜⬜⬜⬜⬜\n",
      "⬜⬜⬜⬜⬜⬜⬜⬜⬜⬜⬜⬜⬜⬜⬜⬜⬜⬜⬜⬜⬜\n",
      "⬜⬜⬜⬜⬜⬜⬜⬜⬜⬜⬜⬜⬜⬜⬜⬜⬜⬜⬜⬜⬜\n",
      "⬜⬜⬜⬜⬜⬜⬜⬜⬜⬜⬜⬜⬜⬜⬜⬜⬜⬜⬜⬜⬜\n",
      "🤖⬜⬜⬜⬜⬜⬜⬜⬜⬜⬜⬜⬜⬜⬜⬜⬜⬜⬜⬜⬜\n"
     ]
    }
   ],
   "source": [
    "# A nicer view of the world, without commas and brackets\n",
    "for row in world:\n",
    "    print(\"\".join(row))"
   ]
  },
  {
   "cell_type": "markdown",
   "metadata": {},
   "source": [
    "## Search\n",
    "\n",
    "\n",
    "A general search pseudocode is as follows:\n",
    "\n",
    "```\n",
    "search:\n",
    "    Initialize frontier (and add start node)\n",
    "    Initialize explored (and add start node)\n",
    "    \n",
    "    while frontier is not empy:\n",
    "        \n",
    "        node <- remove a node from frontier\n",
    "        \n",
    "        if node is goal, return\n",
    "        \n",
    "        for each child of node:\n",
    "            add child to frontier (based on some conditions)\n",
    "            add child to explored\n",
    "```\n",
    "\n",
    "Now, this is the general idea. How we deal with the frontier (implementation, queue, priority queue, stack, list, dictionary, and so on) and some of the conditions is going to differentiate whether this leads to breadth-first, depth-first, or A$^*$. \n",
    "\n",
    "\n",
    "Note. The frontier basically keeps track of what will be considered next. \n",
    "\n",
    "\n",
    "Note. We're looking for a path to goal (Problems 1-3 below) and not just an ability to find it; you'll need some bookkepping code to be able to keep track of how to construct the resulting path. "
   ]
  },
  {
   "cell_type": "markdown",
   "metadata": {},
   "source": [
    "## Problem #1\n",
    "\n",
    "\n",
    "Implement a breadth-first search function to help the robot find a path to goal. \n",
    "\n",
    "\n",
    "The output should look like the output above (nicer view of the world), with the following changes:\n",
    "\n",
    "\n",
    "* Replace a '⬜' with '🟨' if that cell was ever placed in the frontier, \n",
    "* Replace '⬜' with '🟩' to indicate the path found by the robot, and\n",
    "* '🤖', '❤️', and '⬛' are not replaced."
   ]
  },
  {
   "cell_type": "code",
   "execution_count": 122,
   "metadata": {},
   "outputs": [],
   "source": [
    "# feel free to add imports below this cell. See example below:"
   ]
  },
  {
   "cell_type": "code",
   "execution_count": 123,
   "metadata": {},
   "outputs": [],
   "source": [
    "from copy import deepcopy\n",
    "import math\n",
    "from collections import deque\n",
    "from heapq import heappush, heappop\n",
    "import copy"
   ]
  },
  {
   "cell_type": "code",
   "execution_count": 124,
   "metadata": {},
   "outputs": [],
   "source": [
    "# feel free to add helper functions below this cell. See example below:"
   ]
  },
  {
   "cell_type": "markdown",
   "metadata": {},
   "source": [
    "## deep copies of world"
   ]
  },
  {
   "cell_type": "code",
   "execution_count": 125,
   "metadata": {},
   "outputs": [],
   "source": [
    "world1 = copy.deepcopy(world)\n",
    "world2 = copy.deepcopy(world)\n",
    "world3 = copy.deepcopy(world)\n",
    "world4 = copy.deepcopy(world)\n",
    "world5 = copy.deepcopy(world)\n",
    "world6 = copy.deepcopy(world)"
   ]
  },
  {
   "cell_type": "markdown",
   "metadata": {},
   "source": [
    "## get_path(parents, start, goal)\n",
    "\n",
    "* **parents** dict: a dictionary mapping cells to their parent cells in the path from start to goal\n",
    "* **start** tuple: the starting cell in the path\n",
    "* **goal** tuple: the goal cell in the path\n",
    "\n",
    "**returns**\n",
    "\n",
    "* **path** list: a list of cells representing the path from `start` to `goal`, including both `start` and `goal`.\n"
   ]
  },
  {
   "cell_type": "code",
   "execution_count": 126,
   "metadata": {},
   "outputs": [],
   "source": [
    "def get_path(parents, start, goal):\n",
    "    path = []\n",
    "    current = goal\n",
    "    while current != start:\n",
    "        path.append(current)\n",
    "        current = parents[current]\n",
    "    path.append(start)\n",
    "    path.reverse()\n",
    "    return path"
   ]
  },
  {
   "cell_type": "code",
   "execution_count": 127,
   "metadata": {},
   "outputs": [],
   "source": [
    "assert get_path({(0,0):None, (0,1):(0,0), (1,1):(0,1), (2,1):(1,1)}, (0,0), (2,1)) == [(0,0), (0,1), (1,1), (2,1)]\n",
    "assert get_path({(0,0):None, (0,1):(0,0), (1,1):(0,1), (2,1):(1,1)}, (0,1), (1,1)) == [(0,1), (1,1)]\n",
    "assert get_path({(0,0):None, (0,1):(0,0), (1,1):(0,1), (2,1):(1,1), (3,1):(2,1)}, (0,0), (3,1)) == [(0,0), (0,1), (1,1), (2,1), (3,1)]"
   ]
  },
  {
   "cell_type": "markdown",
   "metadata": {
    "tags": []
   },
   "source": [
    "## update_world(world, cell, char)\n",
    "\n",
    "* **world** list[list]: a 2D list representing a grid of characters\n",
    "* **cell** tuple: a cell in the `world` grid represented as a tuple of integers (row, column)\n",
    "* **char** str: a character to update the value at the `cell` in the `world` grid to\n",
    "\n",
    "**returns**\n",
    "\n",
    "This function does not return anything. It updates the value at the `cell` in the `world` grid to the character `char`."
   ]
  },
  {
   "cell_type": "code",
   "execution_count": 128,
   "metadata": {},
   "outputs": [],
   "source": [
    "def update_world(world, cell, char):\n",
    "    world[cell[0]][cell[1]] = char"
   ]
  },
  {
   "cell_type": "code",
   "execution_count": 129,
   "metadata": {},
   "outputs": [],
   "source": [
    "worldx = [['⬜', '⬜', '⬜'], ['⬜', '⬜', '⬜'], ['⬜', '⬜', '⬜']]\n",
    "update_world(worldx, (1,1), '🟩')\n",
    "assert worldx == [['⬜', '⬜', '⬜'], ['⬜', '🟩', '⬜'], ['⬜', '⬜', '⬜']]\n",
    "\n",
    "worldx = [['⬜', '⬜', '⬜'], ['⬜', '⬜', '⬜'], ['⬜', '⬜', '⬜']]\n",
    "update_world(worldx, (0,0), '🤖')\n",
    "assert worldx == [['🤖', '⬜', '⬜'], ['⬜', '⬜', '⬜'], ['⬜', '⬜', '⬜']]\n",
    "\n",
    "worldx = [['⬜', '⬜', '⬜'], ['⬜', '⬜', '⬜'], ['⬜', '⬜', '⬜']]\n",
    "update_world(worldx, (2,2), '🟦')\n",
    "assert worldx == [['⬜', '⬜', '⬜'], ['⬜', '⬜', '⬜'], ['⬜', '⬜', '🟦']]"
   ]
  },
  {
   "cell_type": "markdown",
   "metadata": {
    "jp-MarkdownHeadingCollapsed": true,
    "tags": []
   },
   "source": [
    "## is_valid_cell(cell, world)\n",
    "\n",
    "* **cell** tuple: a cell in the `world` grid represented as a tuple of integers (row, column)\n",
    "* **world** list[list]: a 2D list representing a grid of characters\n",
    "\n",
    "**returns**\n",
    "\n",
    "* **valid** bool: `True` if the `cell` is within the bounds of the `world` grid and the value at the `cell` is not '⬛'. Otherwise, returns `False`."
   ]
  },
  {
   "cell_type": "code",
   "execution_count": 130,
   "metadata": {},
   "outputs": [],
   "source": [
    "def is_valid_cell(cell, world):\n",
    "    if (cell[0] >= 0 and cell[0] < len(world) and \n",
    "        cell[1] >= 0 and cell[1] < len(world[0]) and \n",
    "        world[cell[0]][cell[1]] != '⬛'):\n",
    "        return True\n",
    "    return False"
   ]
  },
  {
   "cell_type": "code",
   "execution_count": 131,
   "metadata": {},
   "outputs": [],
   "source": [
    "worldx = [['⬜', '⬜', '⬜'], ['⬜', '⬜', '⬜'], ['⬜', '⬜', '⬜']]\n",
    "assert is_valid_cell((1,1), worldx) == True\n",
    "assert is_valid_cell((-1,1), worldx) == False\n",
    "assert is_valid_cell((1,3), worldx) == False"
   ]
  },
  {
   "cell_type": "markdown",
   "metadata": {
    "tags": []
   },
   "source": [
    "## get_next_cells(current, moves, world)\n",
    "\n",
    "* **current** tuple: the current cell in the `world` grid represented as a tuple of integers (row, column)\n",
    "* **moves** list[tuple]: a list of tuples of integers representing the possible directions to move in from the `current` cell\n",
    "* **world** list[list]: a 2D list representing a grid of characters\n",
    "\n",
    "**returns**\n",
    "\n",
    "* **next_cells** list[tuple]: a list of cells representing the valid next moves from the `current` cell based on the `moves` list and the `world` grid."
   ]
  },
  {
   "cell_type": "code",
   "execution_count": 132,
   "metadata": {},
   "outputs": [],
   "source": [
    "def get_next_cells(current, moves, world):\n",
    "    next_cells = []\n",
    "    for move in moves:\n",
    "        next_cell = (current[0] + move[0], current[1] + move[1])\n",
    "        if is_valid_cell(next_cell, world):\n",
    "            next_cells.append(next_cell)\n",
    "    return next_cells"
   ]
  },
  {
   "cell_type": "code",
   "execution_count": 133,
   "metadata": {},
   "outputs": [],
   "source": [
    "worldx = [['⬜', '⬜', '⬜'], ['⬜', '⬜', '⬜'], ['⬜', '⬜', '⬜']]\n",
    "assert get_next_cells((1,1), [(0,1),(0,-1),(1,0),(-1,0)], worldx) == [(1,2), (1,0), (2,1), (0,1)]"
   ]
  },
  {
   "cell_type": "markdown",
   "metadata": {},
   "source": [
    "<a id=\"breadth_first_search\"></a>\n",
    "## breadth_first_search\n",
    "\n",
    "Description of your function. Keep function to 20 lines or less with no comments and expressive variable names.\n",
    "\n",
    "* **world** List[List[str]]: the search area\n",
    "* **start** Tuple[int, int]: the starting location of the robot\n",
    "* **goal** Tuple[int, int]: the goal location in the search area\n",
    "* **moves** List[Tuple[int, int]]: the allowable moves in the search area\n",
    "\n",
    "\n",
    "**returns** None (but prints out a nice view of the world and replaces appropriate cells using '🟨' and '🟩')."
   ]
  },
  {
   "cell_type": "code",
   "execution_count": 134,
   "metadata": {},
   "outputs": [],
   "source": [
    "def breadth_first_search(world, start, goal, moves):\n",
    "    frontier = deque([start])\n",
    "    explored = set([start])\n",
    "    parents = {start: None}\n",
    "    while frontier:\n",
    "        current = frontier.popleft()\n",
    "        if current == goal:\n",
    "            break\n",
    "        next_cells = get_next_cells(current, moves, world)\n",
    "        for next_cell in next_cells:\n",
    "            if next_cell not in explored:\n",
    "                frontier.append(next_cell)\n",
    "                explored.add(next_cell)\n",
    "                parents[next_cell] = current\n",
    "                if world[next_cell[0]][next_cell[1]] == '⬜':\n",
    "                    update_world(world, next_cell, '🟨')\n",
    "    path = get_path(parents, start, goal)\n",
    "    update_world(world, start, '🤖')\n",
    "    update_world(world, goal, '❤️')\n",
    "    for cell in path:\n",
    "        if world[cell[0]][cell[1]] == '🟨':\n",
    "            update_world(world, cell, '🟩')\n",
    "    for row in world:\n",
    "        print(''.join(row))"
   ]
  },
  {
   "cell_type": "code",
   "execution_count": 135,
   "metadata": {},
   "outputs": [
    {
     "name": "stdout",
     "output_type": "stream",
     "text": [
      "🟨🟨🟨🟨🟨🟨🟨🟨🟨🟨🟨🟨🟨🟨🟨🟨🟨🟨🟨🟨❤️\n",
      "🟨🟨🟨🟨🟨🟨🟨🟨🟨🟨🟨🟨🟨🟨🟨🟨🟨🟨🟨🟨🟩\n",
      "🟨🟨🟨🟨🟨🟨🟨🟨🟨🟨🟨🟨🟨🟨🟨🟨🟨🟨🟨🟨🟩\n",
      "🟨🟨🟨🟨🟨🟨🟨🟨🟨🟨🟨🟨🟨🟨🟨🟨🟨🟨🟨🟨🟩\n",
      "🟨🟨🟨🟨🟨🟨🟨🟨🟨🟨🟨🟨🟨🟨🟨🟨🟨🟨🟨🟨🟩\n",
      "🟨🟨🟨🟨🟨🟨🟨🟨🟨🟨🟨🟨🟨🟨🟨🟨🟨🟨🟨🟨🟩\n",
      "🟨🟨🟨🟨🟨🟨🟨🟨🟨🟨🟨🟨🟨🟨🟨🟨🟨🟨🟨🟨🟩\n",
      "🟨🟨🟨🟨🟨🟨🟨🟨🟨🟨🟨🟨🟨🟨🟨🟨🟨🟨🟨🟨🟩\n",
      "🟨🟨🟨🟨🟨🟨🟨🟨🟨🟨🟨🟨🟨🟨🟨🟨🟨🟨🟨🟨🟩\n",
      "🟨🟨🟨🟨🟨🟨🟨🟨🟨⬛⬛⬛🟨🟨🟨🟨🟨🟨🟨🟨🟩\n",
      "🟨🟨🟨🟨🟨🟨🟨🟨🟨⬛⬛⬛🟨🟨🟨🟨🟨🟨🟨🟨🟩\n",
      "🟨🟨🟨🟨🟨🟨🟨🟨🟨⬛⬛⬛🟨🟨🟨🟨🟨🟨🟨🟨🟩\n",
      "🟨🟨🟨🟨🟨🟨🟨🟨🟨🟨🟨🟨🟨🟨🟨🟨🟨🟨🟨🟨🟩\n",
      "🟨🟨🟨🟨🟨🟨🟨🟨🟨🟨🟨🟨🟨🟨🟨🟨🟨🟨🟨🟨🟩\n",
      "🟨🟨🟨🟨🟨🟨🟨🟨🟨🟨🟨🟨🟨🟨🟨🟨🟨🟨🟨🟨🟩\n",
      "🟨🟨🟨🟨🟨🟨🟨🟨🟨🟨🟨🟨🟨🟨🟨🟨🟨🟨🟨🟨🟩\n",
      "🟨🟨🟨🟨🟨🟨🟨🟨🟨🟨🟨🟨🟨🟨🟨🟨🟨🟨🟨🟨🟩\n",
      "🟨🟨🟨🟨🟨🟨🟨🟨🟨🟨🟨🟨🟨🟨🟨🟨🟨🟨🟨🟨🟩\n",
      "🟨🟨🟨🟨🟨🟨🟨🟨🟨🟨🟨🟨🟨🟨🟨🟨🟨🟨🟨🟨🟩\n",
      "🟨🟨🟨🟨🟨🟨🟨🟨🟨🟨🟨🟨🟨🟨🟨🟨🟨🟨🟨🟨🟩\n",
      "🤖🟩🟩🟩🟩🟩🟩🟩🟩🟩🟩🟩🟩🟩🟩🟩🟩🟩🟩🟩🟩\n"
     ]
    }
   ],
   "source": [
    "result_1 = breadth_first_search(world1, start, goal, MOVES) # Add your arguments, but this should ONLY print out a nice view of the world"
   ]
  },
  {
   "cell_type": "markdown",
   "metadata": {},
   "source": [
    "## Problem #2\n",
    "\n",
    "\n",
    "Implement a depth-first search function to help the robot find a path to goal. \n",
    "\n",
    "\n",
    "The output guidelines are similar to Problem #1. "
   ]
  },
  {
   "cell_type": "code",
   "execution_count": 136,
   "metadata": {},
   "outputs": [],
   "source": [
    "# feel free to add helper functions below this cell."
   ]
  },
  {
   "cell_type": "markdown",
   "metadata": {},
   "source": [
    "## get_pathdfs(parents, start, goal)\n",
    "\n",
    "* **parents** dict: a dictionary mapping cells to their parent cells in the path from start to goal\n",
    "* **start** tuple: the starting cell in the path\n",
    "* **goal** tuple: the goal cell in the path\n",
    "\n",
    "**returns**\n",
    "\n",
    "* **path** list: a list of cells representing the path from `start` to `goal`, including both `start` and `goal`. If `goal` is not reachable from `start`, an empty list is returned."
   ]
  },
  {
   "cell_type": "code",
   "execution_count": 137,
   "metadata": {},
   "outputs": [],
   "source": [
    "def get_pathdfs(parents, start, goal):\n",
    "    path = []\n",
    "    current = goal\n",
    "    while current != start:\n",
    "        path.append(current)\n",
    "        current = parents[current]\n",
    "    path.append(start)\n",
    "    path.reverse()\n",
    "    return path"
   ]
  },
  {
   "cell_type": "code",
   "execution_count": 138,
   "metadata": {},
   "outputs": [],
   "source": [
    "parents = {(0, 0): None, (0, 1): (0, 0), (0, 2): (0, 1), (1, 2): (0, 2), (1, 1): (1, 2), (2, 1): (1, 1), (2, 0): (2, 1)}\n",
    "assert get_pathdfs(parents, (0,0), (2,0)) == [(0,0), (0,1), (0,2), (1,2), (1,1), (2,1), (2,0)]\n",
    "parents = {(0, 0): None, (0, 1): (0, 0), (0, 2): (0, 1), (1, 2): (0, 2), (1, 1): (1, 2), (2, 1): (1, 1), (2, 0): (2, 1)}\n",
    "assert get_pathdfs(parents, (0,2), (2,0)) == [(0,2), (1,2), (1,1), (2,1), (2,0)]"
   ]
  },
  {
   "cell_type": "markdown",
   "metadata": {},
   "source": [
    "## update_worlddfs(world, cell, char)\n",
    "\n",
    "* **world** list[list]: a 2D list representing a grid of characters\n",
    "* **cell** tuple: a cell in the `world` grid represented as a tuple of integers (row, column)\n",
    "* **char** str: a character to update the value at the `cell` in the `world` grid to\n",
    "\n",
    "**returns**\n",
    "\n",
    "This function does not return anything. It updates the value at the `cell` in the `world` grid to the character `char`."
   ]
  },
  {
   "cell_type": "code",
   "execution_count": 139,
   "metadata": {},
   "outputs": [],
   "source": [
    "def update_worlddfs(world, cell, char):\n",
    "    world[cell[0]][cell[1]] = char"
   ]
  },
  {
   "cell_type": "code",
   "execution_count": 140,
   "metadata": {},
   "outputs": [],
   "source": [
    "worldy = [['⬜', '⬜', '⬜'], ['⬜', '⬜', '⬜'], ['⬜', '⬜', '⬜']]\n",
    "update_worlddfs(worldy, (1,1), '🟩')\n",
    "assert worldy == [['⬜', '⬜', '⬜'], ['⬜', '🟩', '⬜'], ['⬜', '⬜', '⬜']]\n",
    "\n",
    "worldy = [['⬜', '⬜', '⬜'], ['⬜', '⬜', '⬜'], ['⬜', '⬜', '⬜']]\n",
    "update_worlddfs(worldy, (0,0), '🤖')\n",
    "assert worldy == [['🤖', '⬜', '⬜'], ['⬜', '⬜', '⬜'], ['⬜', '⬜', '⬜']]\n",
    "\n",
    "worldy = [['⬜', '🟩', '⬜'], ['🤖', '⬜', '🟨'], ['⬜', '🟦', '⬜']]\n",
    "update_worlddfs(worldy, (2,1), '🟦')\n",
    "assert worldy == [['⬜', '🟩', '⬜'], ['🤖', '⬜', '🟨'], ['⬜', '🟦', '⬜']]"
   ]
  },
  {
   "cell_type": "markdown",
   "metadata": {},
   "source": [
    "## is_valid_celldfs(cell, world)\n",
    "* **cell** tuple: a cell in the `world` grid represented as a tuple of integers (row, column)\n",
    "* **world** list[list]: a 2D list representing a grid of characters\n",
    "\n",
    "**returns**\n",
    "\n",
    "* **valid** bool: `True` if the `cell` is within the bounds of the `world` grid and the value at the `cell` is not '⬛'. Otherwise, returns `False`."
   ]
  },
  {
   "cell_type": "code",
   "execution_count": 141,
   "metadata": {},
   "outputs": [],
   "source": [
    "def is_valid_celldfs(cell, world):\n",
    "    if (cell[0] >= 0 and cell[0] < len(world) and \n",
    "        cell[1] >= 0 and cell[1] < len(world[0]) and \n",
    "        world[cell[0]][cell[1]] != '⬛'):\n",
    "        return True\n",
    "    return False"
   ]
  },
  {
   "cell_type": "code",
   "execution_count": 142,
   "metadata": {},
   "outputs": [],
   "source": [
    "worldy = [['⬜', '⬜', '⬜'], ['⬜', '⬜', '⬜'], ['⬜', '⬜', '⬜']]\n",
    "assert is_valid_celldfs((1,1), worldy) == True\n",
    "assert is_valid_celldfs((-1,1), worldy) == False\n",
    "assert is_valid_celldfs((1,3), worldy) == False"
   ]
  },
  {
   "cell_type": "markdown",
   "metadata": {
    "tags": []
   },
   "source": [
    "## get_neighborsdfs(current, moves, world)\n",
    "\n",
    "* **current** tuple: the current cell in the `world` grid represented as a tuple of integers (row, column)\n",
    "* **moves** list[tuple]: a list of tuples of integers representing the possible directions to move in from the `current` cell\n",
    "* **world** list[list]: a 2D list representing a grid of characters\n",
    "\n",
    "**returns**\n",
    "\n",
    "* **neighbors** list[tuple]: a list of cells representing the valid neighboring cells to the `current` cell based on the `moves` list and the `world` grid."
   ]
  },
  {
   "cell_type": "code",
   "execution_count": 143,
   "metadata": {},
   "outputs": [],
   "source": [
    "def get_neighborsdfs(current, moves, world):\n",
    "    neighbors = []\n",
    "    for move in moves:\n",
    "        neighbor = (current[0] + move[0], current[1] + move[1])\n",
    "        if is_valid_celldfs(neighbor, world):\n",
    "            neighbors.append(neighbor)\n",
    "    return neighbors"
   ]
  },
  {
   "cell_type": "code",
   "execution_count": 144,
   "metadata": {},
   "outputs": [],
   "source": [
    "worldy = [['⬜', '⬜', '⬜'], ['⬜', '⬜', '⬜'], ['⬜', '⬜', '⬜']]\n",
    "assert get_neighborsdfs((1,1), [(0,1),(0,-1),(1,0),(-1,0)], worldy) == [(1,2), (1,0), (2,1), (0,1)]\n",
    "assert get_neighborsdfs((0,0), [(0,1),(0,-1),(1,0),(-1,0)], worldy) == [(0,1), (1,0)]\n",
    "\n",
    "worldy = [['⬜', '⬜', '⬜'], ['⬜', '⬛', '⬜'], ['⬜', '⬜', '⬜']]\n",
    "assert get_neighborsdfs((1,1), [(0,1),(0,-1),(1,0),(-1,0)], worldy) == [(1,2), (1,0), (2,1), (0,1)]"
   ]
  },
  {
   "cell_type": "markdown",
   "metadata": {},
   "source": [
    "<a id=\"depth_first_search\"></a>\n",
    "## depth_first_search\n",
    "\n",
    "Description of your function. Keep function to 20 lines or less with no comments and expressive variable names.\n",
    "\n",
    "* **world** List[List[str]]: the search area\n",
    "* **start** Tuple[int, int]: the starting location of the robot\n",
    "* **goal** Tuple[int, int]: the goal location in the search area\n",
    "* **moves** List[Tuple[int, int]]: the allowable moves in the search area\n",
    "\n",
    "\n",
    "**returns** None (but prints out a view of the world; see breadth_first_search function for details)."
   ]
  },
  {
   "cell_type": "code",
   "execution_count": 145,
   "metadata": {},
   "outputs": [],
   "source": [
    "def depth_first_search(world, start, goal, moves):\n",
    "    frontier = [start]\n",
    "    explored = set()\n",
    "    parents = {start: None}\n",
    "    while frontier:\n",
    "        current = frontier.pop()\n",
    "        if current == goal:\n",
    "            break\n",
    "        neighbors = get_neighborsdfs(current, moves, world)\n",
    "        for neighbor in neighbors:\n",
    "            if neighbor not in explored:\n",
    "                frontier.append(neighbor)\n",
    "                explored.add(neighbor)\n",
    "                parents[neighbor] = current\n",
    "    path = get_pathdfs(parents, start, goal)\n",
    "    update_worlddfs(world, start, '🤖')\n",
    "    update_worlddfs(world, goal, '❤️')\n",
    "    for cell in path:\n",
    "        if world[cell[0]][cell[1]] == '⬜':\n",
    "            update_worlddfs(world, cell, '🟩')\n",
    "    for cell in explored:\n",
    "        if world[cell[0]][cell[1]] not in ('🤖', '❤️', '🟩', '⬛'):\n",
    "            update_worlddfs(world, cell, '🟨')\n",
    "    for row in world:\n",
    "        print(''.join(row))"
   ]
  },
  {
   "cell_type": "code",
   "execution_count": 146,
   "metadata": {},
   "outputs": [
    {
     "name": "stdout",
     "output_type": "stream",
     "text": [
      "🟩🟩🟩🟩🟩🟩🟩🟩🟩🟩🟩🟩🟩🟩🟩🟩🟩🟩🟩🟩❤️\n",
      "🟩🟨🟨🟨🟨🟨🟨🟨🟨🟨🟨🟨🟨🟨🟨🟨🟨🟨🟨🟨⬜\n",
      "🟩🟨⬜⬜⬜⬜⬜⬜⬜⬜⬜⬜⬜⬜⬜⬜⬜⬜⬜⬜⬜\n",
      "🟩🟨⬜⬜⬜⬜⬜⬜⬜⬜⬜⬜⬜⬜⬜⬜⬜⬜⬜⬜⬜\n",
      "🟩🟨⬜⬜⬜⬜⬜⬜⬜⬜⬜⬜⬜⬜⬜⬜⬜⬜⬜⬜⬜\n",
      "🟩🟨⬜⬜⬜⬜⬜⬜⬜⬜⬜⬜⬜⬜⬜⬜⬜⬜⬜⬜⬜\n",
      "🟩🟨⬜⬜⬜⬜⬜⬜⬜⬜⬜⬜⬜⬜⬜⬜⬜⬜⬜⬜⬜\n",
      "🟩🟨⬜⬜⬜⬜⬜⬜⬜⬜⬜⬜⬜⬜⬜⬜⬜⬜⬜⬜⬜\n",
      "🟩🟨⬜⬜⬜⬜⬜⬜⬜⬜⬜⬜⬜⬜⬜⬜⬜⬜⬜⬜⬜\n",
      "🟩🟨⬜⬜⬜⬜⬜⬜⬜⬛⬛⬛⬜⬜⬜⬜⬜⬜⬜⬜⬜\n",
      "🟩🟨⬜⬜⬜⬜⬜⬜⬜⬛⬛⬛⬜⬜⬜⬜⬜⬜⬜⬜⬜\n",
      "🟩🟨⬜⬜⬜⬜⬜⬜⬜⬛⬛⬛⬜⬜⬜⬜⬜⬜⬜⬜⬜\n",
      "🟩🟨⬜⬜⬜⬜⬜⬜⬜⬜⬜⬜⬜⬜⬜⬜⬜⬜⬜⬜⬜\n",
      "🟩🟨⬜⬜⬜⬜⬜⬜⬜⬜⬜⬜⬜⬜⬜⬜⬜⬜⬜⬜⬜\n",
      "🟩🟨⬜⬜⬜⬜⬜⬜⬜⬜⬜⬜⬜⬜⬜⬜⬜⬜⬜⬜⬜\n",
      "🟩🟨⬜⬜⬜⬜⬜⬜⬜⬜⬜⬜⬜⬜⬜⬜⬜⬜⬜⬜⬜\n",
      "🟩🟨⬜⬜⬜⬜⬜⬜⬜⬜⬜⬜⬜⬜⬜⬜⬜⬜⬜⬜⬜\n",
      "🟩🟨⬜⬜⬜⬜⬜⬜⬜⬜⬜⬜⬜⬜⬜⬜⬜⬜⬜⬜⬜\n",
      "🟩🟨⬜⬜⬜⬜⬜⬜⬜⬜⬜⬜⬜⬜⬜⬜⬜⬜⬜⬜⬜\n",
      "🟩🟨⬜⬜⬜⬜⬜⬜⬜⬜⬜⬜⬜⬜⬜⬜⬜⬜⬜⬜⬜\n",
      "🤖🟨⬜⬜⬜⬜⬜⬜⬜⬜⬜⬜⬜⬜⬜⬜⬜⬜⬜⬜⬜\n"
     ]
    }
   ],
   "source": [
    "result_2 = depth_first_search(world2, start, goal, MOVES) # Add your arguments, but this should ONLY print out a nice view of the world"
   ]
  },
  {
   "cell_type": "markdown",
   "metadata": {},
   "source": [
    "## Problem #3\n",
    "\n",
    "\n",
    "Implement an A$^*$ search function to help the robot find the optimal path to goal. For this problem, when calculating the accumulated path cost assume that every step the robot takes costs 1 unit. Your choice of heuristic will determine whether the resulting path is optimal with respect to cost. \n",
    "\n",
    "\n",
    "The output guidelines are similar to Problems 1 and 2. "
   ]
  },
  {
   "cell_type": "code",
   "execution_count": 147,
   "metadata": {},
   "outputs": [],
   "source": [
    "# Feel free to add helper functions below this cell."
   ]
  },
  {
   "cell_type": "markdown",
   "metadata": {},
   "source": [
    "## get_pathA(parents, start, goal)\n",
    "\n",
    "* **parents** dict: a dictionary containing the parent of each explored cell in the `world` grid, where the keys are cells represented as tuples of integers (row, column)\n",
    "* **start** tuple: the start cell in the `world` grid represented as a tuple of integers (row, column)\n",
    "* **goal** tuple: the goal cell in the `world` grid represented as a tuple of integers (row, column)\n",
    "\n",
    "**returns**\n",
    "\n",
    "* **path** list[tuple]: a list of cells representing the path from the `start` cell to the `goal` cell in the `world` grid."
   ]
  },
  {
   "cell_type": "code",
   "execution_count": 148,
   "metadata": {},
   "outputs": [],
   "source": [
    "def get_pathA(parents, start, goal):\n",
    "    path = []\n",
    "    current = goal\n",
    "    while current != start:\n",
    "        path.append(current)\n",
    "        current = parents[current]\n",
    "    path.append(start)\n",
    "    path.reverse()\n",
    "    return path"
   ]
  },
  {
   "cell_type": "code",
   "execution_count": 149,
   "metadata": {},
   "outputs": [],
   "source": [
    "parents = {(0, 0): None, (0, 1): (0, 0), (0, 2): (0, 1), (1, 2): (0, 2), (1, 1): (1, 2), (1, 0): (1, 1), (2, 0): (1, 0), (2, 1): (2, 0), (2, 2): (2, 1)}\n",
    "assert get_pathA(parents, (0,0), (2,2)) == [(0, 0), (0, 1), (0, 2), (1, 2), (1, 1), (1, 0), (2, 0), (2, 1), (2, 2)]"
   ]
  },
  {
   "cell_type": "markdown",
   "metadata": {},
   "source": [
    "## heuristic(current, goal)\n",
    "\n",
    "* **current** tuple: the current cell in the `world` grid represented as a tuple of integers (row, column)\n",
    "* **goal** tuple: the goal cell in the `world` grid represented as a tuple of integers (row, column)\n",
    "\n",
    "**returns**\n",
    "\n",
    "* **distance** int: the Manhattan distance between the `current` cell and the `goal` cell."
   ]
  },
  {
   "cell_type": "code",
   "execution_count": 150,
   "metadata": {},
   "outputs": [],
   "source": [
    "def heuristic(current, goal):\n",
    "    return abs(current[0] - goal[0]) + abs(current[1] - goal[1])"
   ]
  },
  {
   "cell_type": "code",
   "execution_count": 151,
   "metadata": {},
   "outputs": [],
   "source": [
    "assert heuristic((0,0), (2,2)) == 4\n",
    "assert heuristic((2,2), (0,0)) == 4\n",
    "assert heuristic((1,1), (1,1)) == 0"
   ]
  },
  {
   "cell_type": "markdown",
   "metadata": {},
   "source": [
    "## is_valid_cellA(cell, world)\n",
    "\n",
    "* **cell** tuple: a cell in the `world` grid represented as a tuple of integers (row, column)\n",
    "* **world** list[list]: a 2D list representing a grid of characters\n",
    "\n",
    "**returns**\n",
    "\n",
    "* **valid** bool: `True` if the `cell` is within the bounds of the `world` grid and the value at the `cell` is not '⬛'. Otherwise, returns `False`."
   ]
  },
  {
   "cell_type": "code",
   "execution_count": 152,
   "metadata": {},
   "outputs": [],
   "source": [
    "def is_valid_cellA(cell, world):\n",
    "    if (cell[0] >= 0 and cell[0] < len(world) and \n",
    "        cell[1] >= 0 and cell[1] < len(world[0]) and \n",
    "        world[cell[0]][cell[1]] != '⬛'):\n",
    "        return True\n",
    "    return False"
   ]
  },
  {
   "cell_type": "code",
   "execution_count": 153,
   "metadata": {},
   "outputs": [],
   "source": [
    "worldz = [['⬜', '⬜', '⬜'], ['⬜', '⬜', '⬜'], ['⬜', '⬜', '⬜']]\n",
    "assert is_valid_cellA((1,1), worldz) == True\n",
    "assert is_valid_cellA((-1,1), worldz) == False\n",
    "assert is_valid_cellA((1,3), worldz) == False"
   ]
  },
  {
   "cell_type": "markdown",
   "metadata": {},
   "source": [
    "## get_neighborsA(current, moves, world)\n",
    "\n",
    "* **current** tuple: the current cell in the `world` grid represented as a tuple of integers (row, column)\n",
    "* **moves** list[tuple]: a list of tuples representing the possible moves from each cell in the `world` grid\n",
    "* **world** list[list]: a 2D list representing a grid of characters\n",
    "\n",
    "**returns**\n",
    "\n",
    "* **neighbors** list[tuple]: a list of cells that are adjacent to the `current` cell and that are within the bounds of the `world` grid and the value at the cell is not '⬛'."
   ]
  },
  {
   "cell_type": "code",
   "execution_count": 154,
   "metadata": {},
   "outputs": [],
   "source": [
    "def get_neighborsA(current, moves, world):\n",
    "    neighbors = []\n",
    "    for move in moves:\n",
    "        neighbor = (current[0] + move[0], current[1] + move[1])\n",
    "        if is_valid_cellA(neighbor, world):\n",
    "            neighbors.append(neighbor)\n",
    "    return neighbors"
   ]
  },
  {
   "cell_type": "code",
   "execution_count": 155,
   "metadata": {},
   "outputs": [],
   "source": [
    "worldz = [['⬜', '⬜', '⬜'], ['⬜', '⬜', '⬜'], ['⬜', '⬜', '⬜']]\n",
    "assert get_neighborsA((1,1), [(0,1), (1,0), (0,-1), (-1,0)], worldz) == [(1, 2), (2, 1), (1, 0), (0, 1)]\n",
    "worldz = [['🟩', '⬜', '⬜'], ['⬜', '🤖', '⬜'], ['⬜', '⬜', '⬜']]\n",
    "assert get_neighborsA((0,0), [(0,1), (1,0), (0,-1), (-1,0)], worldz) == [(0, 1), (1, 0)]"
   ]
  },
  {
   "cell_type": "markdown",
   "metadata": {},
   "source": [
    "## update_world(world, cell, char)\n",
    "\n",
    "* **current** tuple: the current cell in the `world` grid represented as a tuple of integers (row, column)\n",
    "* **moves** list[tuple]: a list of tuples representing the possible moves from each cell in the `world` grid\n",
    "* **world** list[list]: a 2D list representing a grid of characters\n",
    "\n",
    "**returns**\n",
    "\n",
    "* **neighbors** list[tuple]: a list of cells that are adjacent to the `current` cell and that are within the bounds of the `world` grid and the value at the cell is not '⬛'."
   ]
  },
  {
   "cell_type": "code",
   "execution_count": 156,
   "metadata": {},
   "outputs": [],
   "source": [
    "def update_worldA(world, cell, char):\n",
    "    world[cell[0]][cell[1]] = char"
   ]
  },
  {
   "cell_type": "code",
   "execution_count": 157,
   "metadata": {},
   "outputs": [],
   "source": [
    "worldz = [['⬜', '⬜', '⬜'], ['⬜', '⬜', '⬜'], ['⬜', '⬜', '⬜']]\n",
    "assert get_neighborsA((1,1), [(0,1), (1,0), (0,-1), (-1,0)], worldz) == [(1, 2), (2, 1), (1, 0), (0, 1)]\n",
    "worldz = [['🟩', '⬜', '⬜'], ['⬜', '🤖', '⬜'], ['⬜', '⬜', '⬜']]\n",
    "assert get_neighborsA((0,0), [(0,1), (1,0), (0,-1), (-1,0)], worldz) == [(0, 1), (1, 0)]"
   ]
  },
  {
   "cell_type": "markdown",
   "metadata": {},
   "source": [
    "<a id=\"a_star_search\"></a>\n",
    "## a_star_search\n",
    "\n",
    "Description of your function. Keep function to 20 lines or less with no comments and expressive variable names.\n",
    "\n",
    "* **world** List[List[str]]: the search area\n",
    "* **start** Tuple[int, int]: the starting location of the robot\n",
    "* **goal** Tuple[int, int]: the goal location in the search area\n",
    "* **moves** List[Tuple[int, int]]: the allowable moves in the search area\n",
    "* **heuristic_func** func: the specific heuristic function used to evaluate a location\n",
    "\n",
    "\n",
    "**returns** None (but prints out a view of the world; see breadth_first_search function for details)."
   ]
  },
  {
   "cell_type": "code",
   "execution_count": 158,
   "metadata": {},
   "outputs": [],
   "source": [
    "def a_star_search(world, start, goal, moves):\n",
    "    frontier = [(0, start)]\n",
    "    explored = set()\n",
    "    parents = {start: None}\n",
    "    g_scores = {start: 0}\n",
    "    while frontier:\n",
    "        _, current = heappop(frontier)\n",
    "        if current == goal:\n",
    "            break\n",
    "        neighbors = get_neighborsA(current, moves, world)\n",
    "        for neighbor in neighbors:\n",
    "            if neighbor not in explored:\n",
    "                new_g_score = g_scores[current] + 1\n",
    "                if neighbor not in g_scores or new_g_score < g_scores[neighbor]:\n",
    "                    g_scores[neighbor] = new_g_score\n",
    "                    f_score = new_g_score + heuristic(neighbor, goal)\n",
    "                    heappush(frontier, (f_score, neighbor))\n",
    "                    explored.add(neighbor)\n",
    "                    parents[neighbor] = current\n",
    "    path = get_pathA(parents, start, goal)\n",
    "    update_worldA(world, start, '🤖')\n",
    "    update_worldA(world, goal, '❤️')\n",
    "    for cell in path:\n",
    "        if world[cell[0]][cell[1]] == '⬜':\n",
    "            update_worldA(world, cell, '🟩')\n",
    "    for cell in explored:\n",
    "        if world[cell[0]][cell[1]] not in ('🤖', '❤️', '🟩', '⬛'):\n",
    "            update_worldA(world, cell, '🟨')\n",
    "    for row in world:\n",
    "        print(''.join(row))"
   ]
  },
  {
   "cell_type": "code",
   "execution_count": 159,
   "metadata": {},
   "outputs": [
    {
     "name": "stdout",
     "output_type": "stream",
     "text": [
      "🟩🟩🟩🟩🟩🟩🟩🟩🟩🟩🟩🟩🟩🟩🟩🟩🟩🟩🟩🟩❤️\n",
      "🟩🟨🟨🟨🟨🟨🟨🟨🟨🟨🟨🟨🟨🟨🟨🟨🟨🟨🟨🟨⬜\n",
      "🟩🟨⬜⬜⬜⬜⬜⬜⬜⬜⬜⬜⬜⬜⬜⬜⬜⬜⬜⬜⬜\n",
      "🟩🟨⬜⬜⬜⬜⬜⬜⬜⬜⬜⬜⬜⬜⬜⬜⬜⬜⬜⬜⬜\n",
      "🟩🟨⬜⬜⬜⬜⬜⬜⬜⬜⬜⬜⬜⬜⬜⬜⬜⬜⬜⬜⬜\n",
      "🟩🟨⬜⬜⬜⬜⬜⬜⬜⬜⬜⬜⬜⬜⬜⬜⬜⬜⬜⬜⬜\n",
      "🟩🟨⬜⬜⬜⬜⬜⬜⬜⬜⬜⬜⬜⬜⬜⬜⬜⬜⬜⬜⬜\n",
      "🟩🟨⬜⬜⬜⬜⬜⬜⬜⬜⬜⬜⬜⬜⬜⬜⬜⬜⬜⬜⬜\n",
      "🟩🟨⬜⬜⬜⬜⬜⬜⬜⬜⬜⬜⬜⬜⬜⬜⬜⬜⬜⬜⬜\n",
      "🟩🟨⬜⬜⬜⬜⬜⬜⬜⬛⬛⬛⬜⬜⬜⬜⬜⬜⬜⬜⬜\n",
      "🟩🟨⬜⬜⬜⬜⬜⬜⬜⬛⬛⬛⬜⬜⬜⬜⬜⬜⬜⬜⬜\n",
      "🟩🟨⬜⬜⬜⬜⬜⬜⬜⬛⬛⬛⬜⬜⬜⬜⬜⬜⬜⬜⬜\n",
      "🟩🟨⬜⬜⬜⬜⬜⬜⬜⬜⬜⬜⬜⬜⬜⬜⬜⬜⬜⬜⬜\n",
      "🟩🟨⬜⬜⬜⬜⬜⬜⬜⬜⬜⬜⬜⬜⬜⬜⬜⬜⬜⬜⬜\n",
      "🟩🟨⬜⬜⬜⬜⬜⬜⬜⬜⬜⬜⬜⬜⬜⬜⬜⬜⬜⬜⬜\n",
      "🟩🟨⬜⬜⬜⬜⬜⬜⬜⬜⬜⬜⬜⬜⬜⬜⬜⬜⬜⬜⬜\n",
      "🟩🟨⬜⬜⬜⬜⬜⬜⬜⬜⬜⬜⬜⬜⬜⬜⬜⬜⬜⬜⬜\n",
      "🟩🟨⬜⬜⬜⬜⬜⬜⬜⬜⬜⬜⬜⬜⬜⬜⬜⬜⬜⬜⬜\n",
      "🟩🟨⬜⬜⬜⬜⬜⬜⬜⬜⬜⬜⬜⬜⬜⬜⬜⬜⬜⬜⬜\n",
      "🟩🟨⬜⬜⬜⬜⬜⬜⬜⬜⬜⬜⬜⬜⬜⬜⬜⬜⬜⬜⬜\n",
      "🤖🟨⬜⬜⬜⬜⬜⬜⬜⬜⬜⬜⬜⬜⬜⬜⬜⬜⬜⬜⬜\n"
     ]
    }
   ],
   "source": [
    "result_3 = a_star_search(world3, start, goal, MOVES) # Add your arguments, but this should ONLY print out a nice view of the world"
   ]
  },
  {
   "cell_type": "markdown",
   "metadata": {},
   "source": [
    "## Problem #4\n",
    "\n",
    "\n",
    "We're going to swap the start and goal positions and re-run the breadth-first and depth-first search algorithms.\n",
    "\n",
    "\n",
    "Fill out the table below with brief comments. "
   ]
  },
  {
   "cell_type": "code",
   "execution_count": 160,
   "metadata": {},
   "outputs": [],
   "source": [
    "start,goal=goal,start"
   ]
  },
  {
   "cell_type": "code",
   "execution_count": 161,
   "metadata": {},
   "outputs": [
    {
     "name": "stdout",
     "output_type": "stream",
     "text": [
      "🟩🟩🟩🟩🟩🟩🟩🟩🟩🟩🟩🟩🟩🟩🟩🟩🟩🟩🟩🟩🤖\n",
      "🟩🟨🟨🟨🟨🟨🟨🟨🟨🟨🟨🟨🟨🟨🟨🟨🟨🟨🟨🟨🟨\n",
      "🟩🟨🟨🟨🟨🟨🟨🟨🟨🟨🟨🟨🟨🟨🟨🟨🟨🟨🟨🟨🟨\n",
      "🟩🟨🟨🟨🟨🟨🟨🟨🟨🟨🟨🟨🟨🟨🟨🟨🟨🟨🟨🟨🟨\n",
      "🟩🟨🟨🟨🟨🟨🟨🟨🟨🟨🟨🟨🟨🟨🟨🟨🟨🟨🟨🟨🟨\n",
      "🟩🟨🟨🟨🟨🟨🟨🟨🟨🟨🟨🟨🟨🟨🟨🟨🟨🟨🟨🟨🟨\n",
      "🟩🟨🟨🟨🟨🟨🟨🟨🟨🟨🟨🟨🟨🟨🟨🟨🟨🟨🟨🟨🟨\n",
      "🟩🟨🟨🟨🟨🟨🟨🟨🟨🟨🟨🟨🟨🟨🟨🟨🟨🟨🟨🟨🟨\n",
      "🟩🟨🟨🟨🟨🟨🟨🟨🟨🟨🟨🟨🟨🟨🟨🟨🟨🟨🟨🟨🟨\n",
      "🟩🟨🟨🟨🟨🟨🟨🟨🟨⬛⬛⬛🟨🟨🟨🟨🟨🟨🟨🟨🟨\n",
      "🟩🟨🟨🟨🟨🟨🟨🟨🟨⬛⬛⬛🟨🟨🟨🟨🟨🟨🟨🟨🟨\n",
      "🟩🟨🟨🟨🟨🟨🟨🟨🟨⬛⬛⬛🟨🟨🟨🟨🟨🟨🟨🟨🟨\n",
      "🟩🟨🟨🟨🟨🟨🟨🟨🟨🟨🟨🟨🟨🟨🟨🟨🟨🟨🟨🟨🟨\n",
      "🟩🟨🟨🟨🟨🟨🟨🟨🟨🟨🟨🟨🟨🟨🟨🟨🟨🟨🟨🟨🟨\n",
      "🟩🟨🟨🟨🟨🟨🟨🟨🟨🟨🟨🟨🟨🟨🟨🟨🟨🟨🟨🟨🟨\n",
      "🟩🟨🟨🟨🟨🟨🟨🟨🟨🟨🟨🟨🟨🟨🟨🟨🟨🟨🟨🟨🟨\n",
      "🟩🟨🟨🟨🟨🟨🟨🟨🟨🟨🟨🟨🟨🟨🟨🟨🟨🟨🟨🟨🟨\n",
      "🟩🟨🟨🟨🟨🟨🟨🟨🟨🟨🟨🟨🟨🟨🟨🟨🟨🟨🟨🟨🟨\n",
      "🟩🟨🟨🟨🟨🟨🟨🟨🟨🟨🟨🟨🟨🟨🟨🟨🟨🟨🟨🟨🟨\n",
      "🟩🟨🟨🟨🟨🟨🟨🟨🟨🟨🟨🟨🟨🟨🟨🟨🟨🟨🟨🟨🟨\n",
      "❤️🟨🟨🟨🟨🟨🟨🟨🟨🟨🟨🟨🟨🟨🟨🟨🟨🟨🟨🟨🟨\n"
     ]
    }
   ],
   "source": [
    "result_4a = breadth_first_search(world4, start, goal, MOVES) # Add your arguments, but this should ONLY print out a nice view of the world"
   ]
  },
  {
   "cell_type": "code",
   "execution_count": 162,
   "metadata": {},
   "outputs": [
    {
     "name": "stdout",
     "output_type": "stream",
     "text": [
      "🟨🟨🟩🟩🟩🟨🟩🟩🟩🟨🟨🟨🟩🟩🟩🟨🟩🟩🟩🟨🤖\n",
      "🟨🟨🟩🟨🟩🟨🟩🟨🟩🟨🟨🟨🟩🟨🟩🟨🟩🟨🟩🟨🟩\n",
      "🟨🟨🟩🟨🟩🟨🟩🟨🟩🟨🟨🟨🟩🟨🟩🟨🟩🟨🟩🟨🟩\n",
      "🟨🟨🟩🟨🟩🟨🟩🟨🟩🟨🟨🟨🟩🟨🟩🟨🟩🟨🟩🟨🟩\n",
      "🟨🟨🟩🟨🟩🟨🟩🟨🟩🟨🟨🟨🟩🟨🟩🟨🟩🟨🟩🟨🟩\n",
      "🟨🟨🟩🟨🟩🟨🟩🟨🟩🟨🟨🟨🟩🟨🟩🟨🟩🟨🟩🟨🟩\n",
      "🟨🟨🟩🟨🟩🟨🟩🟨🟩🟨🟨🟨🟩🟨🟩🟨🟩🟨🟩🟨🟩\n",
      "🟨🟨🟩🟨🟩🟨🟩🟨🟩🟨🟨🟨🟩🟨🟩🟨🟩🟨🟩🟨🟩\n",
      "🟨🟨🟩🟨🟩🟨🟩🟨🟩🟨🟨🟨🟩🟨🟩🟨🟩🟨🟩🟨🟩\n",
      "🟨🟨🟩🟨🟩🟨🟩🟨🟩⬛⬛⬛🟩🟨🟩🟨🟩🟨🟩🟨🟩\n",
      "🟨🟨🟩🟨🟩🟨🟩🟨🟩⬛⬛⬛🟩🟨🟩🟨🟩🟨🟩🟨🟩\n",
      "🟨🟨🟩🟨🟩🟨🟩🟨🟩⬛⬛⬛🟩🟨🟩🟨🟩🟨🟩🟨🟩\n",
      "🟨🟨🟩🟨🟩🟨🟩🟨🟩🟩🟩🟨🟩🟨🟩🟨🟩🟨🟩🟨🟩\n",
      "🟨🟨🟩🟨🟩🟨🟩🟩🟨🟨🟩🟨🟩🟨🟩🟨🟩🟨🟩🟨🟩\n",
      "🟨🟨🟩🟨🟩🟩🟨🟩🟩🟨🟩🟨🟩🟨🟩🟨🟩🟨🟩🟨🟩\n",
      "🟨🟨🟩🟩🟨🟩🟩🟨🟩🟨🟩🟨🟩🟨🟩🟨🟩🟨🟩🟨🟩\n",
      "🟨🟨🟨🟩🟩🟨🟩🟨🟩🟨🟩🟨🟩🟨🟩🟨🟩🟨🟩🟨🟩\n",
      "🟩🟩🟩🟨🟩🟨🟩🟨🟩🟨🟩🟨🟩🟨🟩🟨🟩🟨🟩🟨🟩\n",
      "🟩🟨🟩🟨🟩🟨🟩🟨🟩🟨🟩🟨🟩🟨🟩🟨🟩🟨🟩🟨🟩\n",
      "🟩🟨🟩🟨🟩🟨🟩🟨🟩🟨🟩🟨🟩🟨🟩🟨🟩🟨🟩🟨🟩\n",
      "❤️🟨🟩🟩🟩🟨🟩🟩🟩🟨🟩🟩🟩🟨🟩🟩🟩🟨🟩🟩🟩\n"
     ]
    }
   ],
   "source": [
    "result_4b = depth_first_search(world5, start, goal, MOVES) # Add your arguments, but this should ONLY print out a nice view of the world"
   ]
  },
  {
   "cell_type": "markdown",
   "metadata": {},
   "source": [
    "| Comparison | Comment | \n",
    "|------|------|\n",
    "|BFS (original positions) vs DFS (original positions)| Both BFS and DFS with original positions will visit the same nodes in the same order. BFS may be safer than DFS when the graph contains cycles, as DFS may get stuck in an infinite loop. |\n",
    "|BFS (original positions) vs BFS (swapped positions) | The main difference between BFS with original positions and BFS with swapped positions is the starting point of the traversal, which can affect the order of node visits and result in different shortest paths between two nodes in the graph. |\n",
    "|DFS (original positions) vs DFS (swapped positions) | The main difference between DFS with original positions and DFS with swapped positions is the starting point of the traversal, which can affect the order of node visits and result in different shortest paths between two nodes in the graph. |\n"
   ]
  },
  {
   "cell_type": "markdown",
   "metadata": {},
   "source": [
    "## Before You Submit...\n",
    "\n",
    "1. Change the file name to add your name (Last_First_assignment_1),\n",
    "2. Re-read the general instructions provided above, \n",
    "3. Hit \"Kernel\"->\"Restart & Run All\", \n",
    "4. Submit your notebook using Gradescope, and\n",
    "5. Do not submit any other files."
   ]
  },
  {
   "cell_type": "code",
   "execution_count": null,
   "metadata": {},
   "outputs": [],
   "source": []
  }
 ],
 "metadata": {
  "kernelspec": {
   "display_name": "Python 3 (ipykernel)",
   "language": "python",
   "name": "python3"
  },
  "language_info": {
   "codemirror_mode": {
    "name": "ipython",
    "version": 3
   },
   "file_extension": ".py",
   "mimetype": "text/x-python",
   "name": "python",
   "nbconvert_exporter": "python",
   "pygments_lexer": "ipython3",
   "version": "3.9.12"
  },
  "toc": {
   "colors": {
    "hover_highlight": "#DAA520",
    "navigate_num": "#000000",
    "navigate_text": "#333333",
    "running_highlight": "#FF0000",
    "selected_highlight": "#FFD700",
    "sidebar_border": "#EEEEEE",
    "wrapper_background": "#FFFFFF"
   },
   "moveMenuLeft": true,
   "nav_menu": {
    "height": "192px",
    "width": "252px"
   },
   "navigate_menu": true,
   "number_sections": true,
   "sideBar": true,
   "threshold": 4,
   "toc_cell": false,
   "toc_section_display": "block",
   "toc_window_display": false,
   "widenNotebook": false
  }
 },
 "nbformat": 4,
 "nbformat_minor": 4
}
